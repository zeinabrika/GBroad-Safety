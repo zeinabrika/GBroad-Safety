{
 "cells": [
  {
   "cell_type": "markdown",
   "metadata": {},
   "source": [
    "## Introdution\n",
    "In 2017 around 24,831 injuries in road reported to police in UK. However, \n",
    "because of changes in system for reporting by police comparison of this figure should be interpreted with caution.\n",
    "This report provides the traffic accidents in Great Britain that were reported by\n",
    "the police in 2017. It includes number of accident severity in GB. \n",
    "The data and information used for statistics and collected by police force in different area in UK. \n",
    "These files provide detailed data about the circumstances of injury road accidents in Great Britain, \n",
    "the types of vehicles involved and the consequential casualties. The statistics relate only to personal injury \n",
    "accidents on public roads that are reported to the police, and subsequently recorded, using the STATS19 accident reporting form. \n",
    "Now a day, because massive amount of data using traditional way for data analysis is not enough. Big data can be a way to solve this problem by requiring high volume, velocity, value, veracity and have a new high-performance processing of data analysis.\n",
    "Addressing big data is one of time-consuming task and it needs a large computational infrastructure to ensure successful data processing and analysis. Big data by using distributed storage, parallel processing and ability to process every type of data can pass through the challenges of data analysis. Big data analysis more focused on developments on different big data framework, such as Hadoop, Spark and some families of data pre-processing methods and applications on new big data learning paradigms."
   ]
  },
  {
   "cell_type": "markdown",
   "metadata": {},
   "source": [
    "Frist make directry file csv files and put them in that directory to use for uploading data. "
   ]
  },
  {
   "cell_type": "code",
   "execution_count": 1,
   "metadata": {
    "collapsed": false
   },
   "outputs": [],
   "source": [
    "!hdfs dfs -mkdir Assignment-test"
   ]
  },
  {
   "cell_type": "markdown",
   "metadata": {},
   "source": [
    "###Put csv files in dir in hdfs\n",
    "Put data set in the directory Assignmrnt-test in hdfs to useing data after creating the tables and uploud data to the tables.But I used Veh.csv and for other dataset need to use different dir. For accidents used the dir created by sqoop and for casualties import directly from mysql into hive. "
   ]
  },
  {
   "cell_type": "code",
   "execution_count": 2,
   "metadata": {
    "collapsed": true
   },
   "outputs": [],
   "source": [
    "!hdfs dfs -put Veh.csv /user/training/Assignment-test/\n",
    "!hdfs dfs -put Acc.csv /user/training/Assignment-test/\n",
    "!hdfs dfs -put Cas.csv /user/training/Assignment-test/"
   ]
  },
  {
   "cell_type": "markdown",
   "metadata": {},
   "source": [
    "Then start with seeing insaide Assignment_files in Desktop directory. "
   ]
  },
  {
   "cell_type": "code",
   "execution_count": 3,
   "metadata": {
    "collapsed": false
   },
   "outputs": [
    {
     "name": "stdout",
     "output_type": "stream",
     "text": [
      "Acc.csv\r\n",
      "Brief-guide-to road-accidents-and-safety-data.doc\r\n",
      "Cas.csv\r\n",
      "db_bdtt_ac\r\n",
      "readme.txt\r\n",
      "Road-Accident-Safety-Data-Guide.xls\r\n",
      "roadgb7.ipynb\r\n",
      "Veh.csv\r\n"
     ]
    }
   ],
   "source": [
    "!ls"
   ]
  },
  {
   "cell_type": "markdown",
   "metadata": {},
   "source": [
    "Check the directory."
   ]
  },
  {
   "cell_type": "code",
   "execution_count": 4,
   "metadata": {
    "collapsed": false
   },
   "outputs": [
    {
     "name": "stdout",
     "output_type": "stream",
     "text": [
      "/home/training/Desktop/Assignment_files\r\n"
     ]
    }
   ],
   "source": [
    "!pwd"
   ]
  },
  {
   "cell_type": "markdown",
   "metadata": {},
   "source": [
    "Read the text file inside Assignment_files folder to find that how to start, thanks!"
   ]
  },
  {
   "cell_type": "code",
   "execution_count": 5,
   "metadata": {
    "collapsed": false
   },
   "outputs": [
    {
     "name": "stdout",
     "output_type": "stream",
     "text": [
      "you need to load both accidents and casualties tables into mysql from the file <db_bdtt_ac>\r",
      "\r\n",
      "1- create a database in my sql;\r",
      "\r\n",
      "2- using the shell command line  you can load the data into mysql using the following command:\r",
      "\r\n",
      "\tmysql -u training -p < db_bdtt_ac\r",
      "\r\n",
      "3- make sure you run the command from the same directory where the file exist.\r",
      "\r\n",
      "4- csv files of the data could be downloaded directly for the website from :\r",
      "\r\n",
      "\thttps://data.gov.uk/dataset/cb7ae6f0-4be6-4935-9277-47e5ce24a11f/road-safety-data\r",
      "\r\n",
      "\t(Accidents2017, Casualties2017, Vehicles2017)"
     ]
    }
   ],
   "source": [
    "!cat readme.txt"
   ]
  },
  {
   "cell_type": "markdown",
   "metadata": {},
   "source": [
    "###Create database in MYSQL\n",
    "Create database for putting the accidents, casualties and vehicles tables inside that in MYSQL."
   ]
  },
  {
   "cell_type": "code",
   "execution_count": 6,
   "metadata": {
    "collapsed": false
   },
   "outputs": [],
   "source": [
    "!mysql -utraining -ptraining -e 'create database RoadGB;'"
   ]
  },
  {
   "cell_type": "markdown",
   "metadata": {},
   "source": [
    "Check the databases RoadGB in mysql."
   ]
  },
  {
   "cell_type": "code",
   "execution_count": 7,
   "metadata": {
    "collapsed": false
   },
   "outputs": [
    {
     "name": "stdout",
     "output_type": "stream",
     "text": [
      "+--------------------+\r\n",
      "| Database           |\r\n",
      "+--------------------+\r\n",
      "| information_schema |\r\n",
      "| RoadGB             |\r\n",
      "| hue                |\r\n",
      "| loudacre           |\r\n",
      "| metastore          |\r\n",
      "| mysql              |\r\n",
      "| test               |\r\n",
      "+--------------------+\r\n"
     ]
    }
   ],
   "source": [
    "!mysql -utraining -ptraining -e 'show databases;'"
   ]
  },
  {
   "cell_type": "markdown",
   "metadata": {},
   "source": [
    "First use MYSQL and create new database (RoadGB) for accidents and casualties dataset, \n",
    "because they already in MYSQL dump file, so use this command; "
   ]
  },
  {
   "cell_type": "code",
   "execution_count": 8,
   "metadata": {
    "collapsed": false
   },
   "outputs": [],
   "source": [
    "!mysql -utraining -ptraining RoadGB < db_bdtt_ac;"
   ]
  },
  {
   "cell_type": "markdown",
   "metadata": {},
   "source": [
    "check the tables accidents and casualties in RadGB database."
   ]
  },
  {
   "cell_type": "code",
   "execution_count": 9,
   "metadata": {
    "collapsed": false
   },
   "outputs": [
    {
     "name": "stdout",
     "output_type": "stream",
     "text": [
      "+------------------+\r\n",
      "| Tables_in_RoadGB |\r\n",
      "+------------------+\r\n",
      "| accidents        |\r\n",
      "| casualties       |\r\n",
      "+------------------+\r\n"
     ]
    }
   ],
   "source": [
    "!mysql -utraining -ptraining -e 'use RoadGB; show tables;'"
   ]
  },
  {
   "cell_type": "markdown",
   "metadata": {},
   "source": [
    "Create vehicles table in mysql to import to hive. "
   ]
  },
  {
   "cell_type": "code",
   "execution_count": 10,
   "metadata": {
    "collapsed": false
   },
   "outputs": [],
   "source": [
    "!mysql -utraining -ptraining -e 'use RoadGB; create table vehicles(Accident_Index varchar(50), Vehicle_Reference int, Vehicle_Type int, Towing_and_Articulation int, Vehicle_Manoeuvre int, Vehicle_Location_Restricted_Lane int, Junction_Location int, Skidding_and_Overturning int, Hit_Object_in_Carriageway int, Vehicle_Leaving_Carriageway int, Hit_Object_off_Carriageway int, 1st_Point_of_Impact int, Was_Vehicle_Left_Hand_Drive int, Journey_Purpose_of_Driver int, Sex_of_Driver int, Age_of_Driver int, Age_Band_of_Driver int, Engine_Capacity_CC int, Propulsion_Code int, Age_of_Vehicle int, Driver_IMD_Decile int, Driver_Home_Area_Type int, Vehicle_IMD_Decile int);'"
   ]
  },
  {
   "cell_type": "markdown",
   "metadata": {},
   "source": [
    "Check vehicle table in RoadGB database"
   ]
  },
  {
   "cell_type": "code",
   "execution_count": 11,
   "metadata": {
    "collapsed": false
   },
   "outputs": [
    {
     "name": "stdout",
     "output_type": "stream",
     "text": [
      "+------------------+\r\n",
      "| Tables_in_RoadGB |\r\n",
      "+------------------+\r\n",
      "| accidents        |\r\n",
      "| casualties       |\r\n",
      "| vehicles         |\r\n",
      "+------------------+\r\n"
     ]
    }
   ],
   "source": [
    "!mysql -utraining -ptraining -e 'use RoadGB; show tables;'"
   ]
  },
  {
   "cell_type": "markdown",
   "metadata": {},
   "source": [
    "##Loading Data\n",
    "For loading data, I build my own application in a Jupyter notebook. I already installed everything that I need and use PySpark to work in Databricks. Also I loaded data to Hadoop framework or HDFS that designed for storing data. HDFS has data node (stores actual data that reading, writing and processing) and name node (manage data nodes as a master). HDFS provides distributed storage and data security. \n",
    "####How Sqoop work?\n",
    "Internally, Sqoop uses a map reduce program for storing datasets to HDFS. The above diagram explains how sqoop works internally. Commands entered through command line are associated with a map task to retrieve data from external databases. A reduce task will be used for placing the retrieved data into HDFS/Hbase/Hive.\n",
    "\n",
    "####Import data \n",
    "I import and load data to virtual machine, for this project a MYSQL dump format and csv files, and use MYSQL server to load data also I use Sqoop to get data into Hadoop. As it clears both datasets accidents and casualties already in MYSQL dump file. so for vehicle table I create table in MYSQL and then using Sqoop to import to hive, also use put command to put vehicle table in hdfs.\n",
    "List the tables in the RoadGB database:"
   ]
  },
  {
   "cell_type": "code",
   "execution_count": 12,
   "metadata": {
    "collapsed": false
   },
   "outputs": [
    {
     "name": "stdout",
     "output_type": "stream",
     "text": [
      "19/05/09 12:32:18 INFO sqoop.Sqoop: Running Sqoop version: 1.4.5-cdh5.4.3\n",
      "19/05/09 12:32:18 WARN tool.BaseSqoopTool: Setting your password on the command-line is insecure. Consider using -P instead.\n",
      "19/05/09 12:32:19 INFO manager.MySQLManager: Preparing to use a MySQL streaming resultset.\n",
      "accidents\n",
      "casualties\n",
      "vehicles\n"
     ]
    }
   ],
   "source": [
    "!sqoop list-tables --connect jdbc:mysql://localhost/RoadGB --username training --password training"
   ]
  },
  {
   "cell_type": "markdown",
   "metadata": {},
   "source": [
    "### Import Accidents table from MYSQL to HDFS\n",
    "Then, Import the accidents and causalities tables form MySQL into HDFS with Sqoop. I open a new terminal window and then List the tables in the loudacre database. So I used following command for Import accident table from MYSQL to HDFS: "
   ]
  },
  {
   "cell_type": "code",
   "execution_count": 13,
   "metadata": {
    "collapsed": false
   },
   "outputs": [
    {
     "name": "stdout",
     "output_type": "stream",
     "text": [
      "19/05/09 12:32:40 INFO sqoop.Sqoop: Running Sqoop version: 1.4.5-cdh5.4.3\n",
      "19/05/09 12:32:40 WARN tool.BaseSqoopTool: Setting your password on the command-line is insecure. Consider using -P instead.\n",
      "19/05/09 12:32:41 INFO manager.MySQLManager: Preparing to use a MySQL streaming resultset.\n",
      "19/05/09 12:32:41 INFO tool.CodeGenTool: Beginning code generation\n",
      "19/05/09 12:32:42 INFO manager.SqlManager: Executing SQL statement: SELECT t.* FROM `accidents` AS t LIMIT 1\n",
      "19/05/09 12:32:42 INFO manager.SqlManager: Executing SQL statement: SELECT t.* FROM `accidents` AS t LIMIT 1\n",
      "19/05/09 12:32:42 INFO orm.CompilationManager: HADOOP_MAPRED_HOME is /usr/lib/hadoop-mapreduce\n",
      "Note: /tmp/sqoop-training/compile/33a9521c579ad8957a641bdd73f75812/accidents.java uses or overrides a deprecated API.\n",
      "Note: Recompile with -Xlint:deprecation for details.\n",
      "19/05/09 12:32:50 INFO orm.CompilationManager: Writing jar file: /tmp/sqoop-training/compile/33a9521c579ad8957a641bdd73f75812/accidents.jar\n",
      "19/05/09 12:32:50 WARN manager.MySQLManager: It looks like you are importing from mysql.\n",
      "19/05/09 12:32:50 WARN manager.MySQLManager: This transfer can be faster! Use the --direct\n",
      "19/05/09 12:32:50 WARN manager.MySQLManager: option to exercise a MySQL-specific fast path.\n",
      "19/05/09 12:32:50 INFO manager.MySQLManager: Setting zero DATETIME behavior to convertToNull (mysql)\n",
      "19/05/09 12:32:50 INFO mapreduce.ImportJobBase: Beginning import of accidents\n",
      "19/05/09 12:32:50 INFO Configuration.deprecation: mapred.job.tracker is deprecated. Instead, use mapreduce.jobtracker.address\n",
      "19/05/09 12:32:51 INFO Configuration.deprecation: mapred.jar is deprecated. Instead, use mapreduce.job.jar\n",
      "19/05/09 12:32:54 INFO Configuration.deprecation: mapred.map.tasks is deprecated. Instead, use mapreduce.job.maps\n",
      "19/05/09 12:32:54 INFO client.RMProxy: Connecting to ResourceManager at /0.0.0.0:8032\n",
      "19/05/09 12:32:59 INFO db.DBInputFormat: Using read commited transaction isolation\n",
      "19/05/09 12:32:59 INFO mapreduce.JobSubmitter: number of splits:1\n",
      "19/05/09 12:32:59 INFO mapreduce.JobSubmitter: Submitting tokens for job: job_1557429884928_0001\n",
      "19/05/09 12:33:01 INFO impl.YarnClientImpl: Submitted application application_1557429884928_0001\n",
      "19/05/09 12:33:01 INFO mapreduce.Job: The url to track the job: http://localhost:8088/proxy/application_1557429884928_0001/\n",
      "19/05/09 12:33:01 INFO mapreduce.Job: Running job: job_1557429884928_0001\n",
      "19/05/09 12:33:26 INFO mapreduce.Job: Job job_1557429884928_0001 running in uber mode : false\n",
      "19/05/09 12:33:26 INFO mapreduce.Job:  map 0% reduce 0%\n",
      "19/05/09 12:33:48 INFO mapreduce.Job:  map 100% reduce 0%\n",
      "19/05/09 12:33:49 INFO mapreduce.Job: Job job_1557429884928_0001 completed successfully\n",
      "19/05/09 12:33:50 INFO mapreduce.Job: Counters: 30\n",
      "\tFile System Counters\n",
      "\t\tFILE: Number of bytes read=0\n",
      "\t\tFILE: Number of bytes written=136397\n",
      "\t\tFILE: Number of read operations=0\n",
      "\t\tFILE: Number of large read operations=0\n",
      "\t\tFILE: Number of write operations=0\n",
      "\t\tHDFS: Number of bytes read=87\n",
      "\t\tHDFS: Number of bytes written=19005004\n",
      "\t\tHDFS: Number of read operations=4\n",
      "\t\tHDFS: Number of large read operations=0\n",
      "\t\tHDFS: Number of write operations=2\n",
      "\tJob Counters \n",
      "\t\tLaunched map tasks=1\n",
      "\t\tOther local map tasks=1\n",
      "\t\tTotal time spent by all maps in occupied slots (ms)=0\n",
      "\t\tTotal time spent by all reduces in occupied slots (ms)=0\n",
      "\t\tTotal time spent by all map tasks (ms)=20891\n",
      "\t\tTotal vcore-seconds taken by all map tasks=20891\n",
      "\t\tTotal megabyte-seconds taken by all map tasks=5348096\n",
      "\tMap-Reduce Framework\n",
      "\t\tMap input records=129982\n",
      "\t\tMap output records=129982\n",
      "\t\tInput split bytes=87\n",
      "\t\tSpilled Records=0\n",
      "\t\tFailed Shuffles=0\n",
      "\t\tMerged Map outputs=0\n",
      "\t\tGC time elapsed (ms)=388\n",
      "\t\tCPU time spent (ms)=9070\n",
      "\t\tPhysical memory (bytes) snapshot=130600960\n",
      "\t\tVirtual memory (bytes) snapshot=845750272\n",
      "\t\tTotal committed heap usage (bytes)=47972352\n",
      "\tFile Input Format Counters \n",
      "\t\tBytes Read=0\n",
      "\tFile Output Format Counters \n",
      "\t\tBytes Written=19005004\n",
      "19/05/09 12:33:50 INFO mapreduce.ImportJobBase: Transferred 18.1246 MB in 56.1723 seconds (330.4043 KB/sec)\n",
      "19/05/09 12:33:50 INFO mapreduce.ImportJobBase: Retrieved 129982 records.\n"
     ]
    }
   ],
   "source": [
    "#import accidents table from mysql to hdfs\n",
    "!sqoop import --connect jdbc:mysql://localhost/RoadGB --username training --password training --table accidents --target-dir /RoadGB/accidents -m 1"
   ]
  },
  {
   "cell_type": "markdown",
   "metadata": {},
   "source": [
    "### Import Casualties table from MYSQL into Hive\n",
    "For importing accidents table from HDFS to Hive I use VM machine, because our data is structured so I can use Sqoop to create database and then create tables for both dataset casualty and accident. Sqoop is the best way to generate table and load data to Hive. Also Sqoop use MapReduce to import and load data."
   ]
  },
  {
   "cell_type": "markdown",
   "metadata": {},
   "source": [
    "#### Create table casualties in hive to import data into hive.\n",
    "For creating table in Hive I used HQL commands. Hive defines a simple SQL-like query language to querying and managing large datasets called Hive-QL (HQL). It’s easy to use if you’re familiar with SQL Language. Hive allows programmers who are familiar with the language to write the custom MapReduce framework to perform more sophisticated analysis. So before everything need to connect to the hive."
   ]
  },
  {
   "cell_type": "code",
   "execution_count": 14,
   "metadata": {
    "collapsed": false
   },
   "outputs": [
    {
     "name": "stdout",
     "output_type": "stream",
     "text": [
      "Stopped Hive Server2:\u001b[60G[\u001b[0;32m  OK  \u001b[0;39m]\n",
      "Started Hive Server2 (hive-server2):\u001b[60G[\u001b[0;32m  OK  \u001b[0;39m]\n"
     ]
    }
   ],
   "source": [
    "!sudo service hive-server2 restart;"
   ]
  },
  {
   "cell_type": "markdown",
   "metadata": {},
   "source": [
    "### Create new database RoadGB2 in hive to put tables inside\n"
   ]
  },
  {
   "cell_type": "code",
   "execution_count": 17,
   "metadata": {
    "collapsed": false
   },
   "outputs": [
    {
     "name": "stdout",
     "output_type": "stream",
     "text": [
      "scan complete in 6ms\n",
      "Connecting to jdbc:hive2://localhost:10000\n",
      "Connected to: Apache Hive (version 1.1.0-cdh5.4.3)\n",
      "Driver: Hive JDBC (version 1.1.0-cdh5.4.3)\n",
      "Transaction isolation: TRANSACTION_REPEATABLE_READ\n",
      "+----------------+--+\n",
      "| database_name  |\n",
      "+----------------+--+\n",
      "| default        |\n",
      "+----------------+--+\n",
      "1 row selected (3.292 seconds)\n",
      "Beeline version 1.1.0-cdh5.4.3 by Apache Hive\n",
      "Closing: 0: jdbc:hive2://localhost:10000\n"
     ]
    }
   ],
   "source": [
    "!beeline -u \"jdbc:hive2://localhost:10000\" -n training -ptraining -e 'show databases;'"
   ]
  },
  {
   "cell_type": "code",
   "execution_count": 18,
   "metadata": {
    "collapsed": false
   },
   "outputs": [
    {
     "name": "stdout",
     "output_type": "stream",
     "text": [
      "scan complete in 6ms\n",
      "Connecting to jdbc:hive2://localhost:10000\n",
      "Connected to: Apache Hive (version 1.1.0-cdh5.4.3)\n",
      "Driver: Hive JDBC (version 1.1.0-cdh5.4.3)\n",
      "Transaction isolation: TRANSACTION_REPEATABLE_READ\n",
      "No rows affected (2.837 seconds)\n",
      "Beeline version 1.1.0-cdh5.4.3 by Apache Hive\n",
      "Closing: 0: jdbc:hive2://localhost:10000\n"
     ]
    }
   ],
   "source": [
    "!beeline -u \"jdbc:hive2://localhost:10000\" -n training -ptraining -e 'create database RoadGB2;'"
   ]
  },
  {
   "cell_type": "code",
   "execution_count": 19,
   "metadata": {
    "collapsed": false
   },
   "outputs": [
    {
     "name": "stdout",
     "output_type": "stream",
     "text": [
      "Overwriting CreatecasualtiesTable.hql\n"
     ]
    }
   ],
   "source": [
    "%%writefile CreatecasualtiesTable.hql\n",
    "use RoadGB2;\n",
    "CREATE EXTERNAL TABLE casualties\n",
    "(\n",
    "Accident_Index      string,\n",
    "Vehicle_Reference      int,\n",
    "Casualty_Reference     int,\n",
    "Casualty_Class         int,\n",
    "Sex_of_Casualty        int,\n",
    "Age_of_Casualty        int,\n",
    "Age_Band_of_Casualty   int,\n",
    "Casualty_Severity      int,\n",
    "Pedestrian_Location    int,\n",
    "Pedestrian_Movement    int,\n",
    "Car_Passenger          int,\n",
    "Bus_or_Coach_Passenger int,\n",
    "Pedestrian_Road_Maintenance_Worker int,\n",
    "Casualty_Type          int,\n",
    "Casualty_Home_Area_Type  int,\n",
    "Casualty_IMD_Decile    int\n",
    ")\n",
    "COMMENT 'TABLE FOR casualties DATA'\n",
    "ROW FORMAT DELIMITED\n",
    "    FIELDS TERMINATED BY ','\n",
    "LINES TERMINATED BY '\\n'\n",
    "\n",
    "TBLPROPERTIES(\"skip.header.line.count\"=\"1\");\n"
   ]
  },
  {
   "cell_type": "code",
   "execution_count": 20,
   "metadata": {
    "collapsed": false
   },
   "outputs": [
    {
     "name": "stdout",
     "output_type": "stream",
     "text": [
      "WARNING: Hive CLI is deprecated and migration to Beeline is recommended.\n",
      "hive> "
     ]
    },
    {
     "name": "stderr",
     "output_type": "stream",
     "text": [
      "\n",
      "Logging initialized using configuration in file:/etc/hive/conf.dist/hive-log4j.properties\n"
     ]
    }
   ],
   "source": [
    "%%sh\n",
    "hive -i CreatecasualtiesTable.hql"
   ]
  },
  {
   "cell_type": "code",
   "execution_count": 21,
   "metadata": {
    "collapsed": false
   },
   "outputs": [
    {
     "name": "stdout",
     "output_type": "stream",
     "text": [
      "19/05/09 12:37:53 INFO sqoop.Sqoop: Running Sqoop version: 1.4.5-cdh5.4.3\n",
      "19/05/09 12:37:53 WARN tool.BaseSqoopTool: Setting your password on the command-line is insecure. Consider using -P instead.\n",
      "19/05/09 12:37:54 INFO manager.MySQLManager: Preparing to use a MySQL streaming resultset.\n",
      "19/05/09 12:37:54 INFO tool.CodeGenTool: Beginning code generation\n",
      "19/05/09 12:37:55 INFO manager.SqlManager: Executing SQL statement: SELECT t.* FROM `casualties` AS t LIMIT 1\n",
      "19/05/09 12:37:55 INFO manager.SqlManager: Executing SQL statement: SELECT t.* FROM `casualties` AS t LIMIT 1\n",
      "19/05/09 12:37:55 INFO orm.CompilationManager: HADOOP_MAPRED_HOME is /usr/lib/hadoop-mapreduce\n",
      "Note: /tmp/sqoop-training/compile/e8d34f185e86bea737e6faed109641e4/casualties.java uses or overrides a deprecated API.\n",
      "Note: Recompile with -Xlint:deprecation for details.\n",
      "19/05/09 12:37:59 INFO orm.CompilationManager: Writing jar file: /tmp/sqoop-training/compile/e8d34f185e86bea737e6faed109641e4/casualties.jar\n",
      "19/05/09 12:37:59 WARN manager.MySQLManager: It looks like you are importing from mysql.\n",
      "19/05/09 12:37:59 WARN manager.MySQLManager: This transfer can be faster! Use the --direct\n",
      "19/05/09 12:37:59 WARN manager.MySQLManager: option to exercise a MySQL-specific fast path.\n",
      "19/05/09 12:37:59 INFO manager.MySQLManager: Setting zero DATETIME behavior to convertToNull (mysql)\n",
      "19/05/09 12:37:59 INFO mapreduce.ImportJobBase: Beginning import of casualties\n",
      "19/05/09 12:37:59 INFO Configuration.deprecation: mapred.job.tracker is deprecated. Instead, use mapreduce.jobtracker.address\n",
      "19/05/09 12:37:59 INFO Configuration.deprecation: mapred.jar is deprecated. Instead, use mapreduce.job.jar\n",
      "19/05/09 12:38:00 INFO Configuration.deprecation: mapred.map.tasks is deprecated. Instead, use mapreduce.job.maps\n",
      "19/05/09 12:38:00 INFO client.RMProxy: Connecting to ResourceManager at /0.0.0.0:8032\n",
      "19/05/09 12:38:02 INFO db.DBInputFormat: Using read commited transaction isolation\n",
      "19/05/09 12:38:03 INFO mapreduce.JobSubmitter: number of splits:1\n",
      "19/05/09 12:38:03 INFO mapreduce.JobSubmitter: Submitting tokens for job: job_1557429884928_0002\n",
      "19/05/09 12:38:03 INFO impl.YarnClientImpl: Submitted application application_1557429884928_0002\n",
      "19/05/09 12:38:03 INFO mapreduce.Job: The url to track the job: http://localhost:8088/proxy/application_1557429884928_0002/\n",
      "19/05/09 12:38:03 INFO mapreduce.Job: Running job: job_1557429884928_0002\n",
      "19/05/09 12:38:18 INFO mapreduce.Job: Job job_1557429884928_0002 running in uber mode : false\n",
      "19/05/09 12:38:18 INFO mapreduce.Job:  map 0% reduce 0%\n",
      "19/05/09 12:38:35 INFO mapreduce.Job:  map 100% reduce 0%\n",
      "19/05/09 12:38:35 INFO mapreduce.Job: Job job_1557429884928_0002 completed successfully\n",
      "19/05/09 12:38:35 INFO mapreduce.Job: Counters: 30\n",
      "\tFile System Counters\n",
      "\t\tFILE: Number of bytes read=0\n",
      "\t\tFILE: Number of bytes written=136203\n",
      "\t\tFILE: Number of read operations=0\n",
      "\t\tFILE: Number of large read operations=0\n",
      "\t\tFILE: Number of write operations=0\n",
      "\t\tHDFS: Number of bytes read=87\n",
      "\t\tHDFS: Number of bytes written=7814703\n",
      "\t\tHDFS: Number of read operations=4\n",
      "\t\tHDFS: Number of large read operations=0\n",
      "\t\tHDFS: Number of write operations=2\n",
      "\tJob Counters \n",
      "\t\tLaunched map tasks=1\n",
      "\t\tOther local map tasks=1\n",
      "\t\tTotal time spent by all maps in occupied slots (ms)=0\n",
      "\t\tTotal time spent by all reduces in occupied slots (ms)=0\n",
      "\t\tTotal time spent by all map tasks (ms)=13625\n",
      "\t\tTotal vcore-seconds taken by all map tasks=13625\n",
      "\t\tTotal megabyte-seconds taken by all map tasks=3488000\n",
      "\tMap-Reduce Framework\n",
      "\t\tMap input records=170993\n",
      "\t\tMap output records=170993\n",
      "\t\tInput split bytes=87\n",
      "\t\tSpilled Records=0\n",
      "\t\tFailed Shuffles=0\n",
      "\t\tMerged Map outputs=0\n",
      "\t\tGC time elapsed (ms)=213\n",
      "\t\tCPU time spent (ms)=4680\n",
      "\t\tPhysical memory (bytes) snapshot=122929152\n",
      "\t\tVirtual memory (bytes) snapshot=845758464\n",
      "\t\tTotal committed heap usage (bytes)=47972352\n",
      "\tFile Input Format Counters \n",
      "\t\tBytes Read=0\n",
      "\tFile Output Format Counters \n",
      "\t\tBytes Written=7814703\n",
      "19/05/09 12:38:35 INFO mapreduce.ImportJobBase: Transferred 7.4527 MB in 34.8662 seconds (218.8811 KB/sec)\n",
      "19/05/09 12:38:35 INFO mapreduce.ImportJobBase: Retrieved 170993 records.\n",
      "19/05/09 12:38:35 INFO manager.SqlManager: Executing SQL statement: SELECT t.* FROM `casualties` AS t LIMIT 1\n",
      "19/05/09 12:38:35 INFO hive.HiveImport: Loading uploaded data into Hive\n",
      "\n",
      "Logging initialized using configuration in jar:file:/usr/lib/hive/lib/hive-common-1.1.0-cdh5.4.3.jar!/hive-log4j.properties\n",
      "OK\n",
      "Time taken: 3.052 seconds\n",
      "Loading data to table roadgb2.casualties\n",
      "chgrp: changing ownership of 'hdfs://localhost:8020/user/hive/warehouse/roadgb2.db/casualties/part-m-00000': User does not belong to hive\n",
      "Table roadgb2.casualties stats: [numFiles=1, totalSize=7814703]\n",
      "OK\n",
      "Time taken: 1.719 seconds\n"
     ]
    }
   ],
   "source": [
    "!sqoop import --table casualties --connect jdbc:mysql://localhost/RoadGB --username training --password training --hive-import --fields-terminated-by ',' --null-string 'null' -m 1 --hive-table RoadGB2.casualties"
   ]
  },
  {
   "cell_type": "markdown",
   "metadata": {},
   "source": [
    "#### Check data how is shown in the casualties table."
   ]
  },
  {
   "cell_type": "code",
   "execution_count": 22,
   "metadata": {
    "collapsed": false
   },
   "outputs": [
    {
     "name": "stdout",
     "output_type": "stream",
     "text": [
      "2017010001708\t2\t2\t1\t1\t19\t4\t2\t0\t0\t0\t0\t0\t2\t-1\t-1\n",
      "2017010001708\t2\t3\t2\t1\t18\t4\t1\t0\t0\t0\t0\t0\t2\t-1\t-1\n",
      "2017010009342\t1\t1\t2\t2\t33\t6\t3\t0\t0\t1\t0\t0\t9\t1\t5\n"
     ]
    },
    {
     "name": "stderr",
     "output_type": "stream",
     "text": [
      "\n",
      "Logging initialized using configuration in file:/etc/hive/conf.dist/hive-log4j.properties\n",
      "OK\n",
      "Time taken: 1.95 seconds\n",
      "OK\n",
      "Time taken: 1.438 seconds, Fetched: 3 row(s)\n"
     ]
    }
   ],
   "source": [
    "%%sh\n",
    "hive -e 'use RoadGB2; select * from casualties LIMIT 3;'"
   ]
  },
  {
   "cell_type": "markdown",
   "metadata": {},
   "source": [
    "#####First create table in MYSQL for vehicle. And then for import vehicles table first I import to the Hive use Sqoop command ."
   ]
  },
  {
   "cell_type": "code",
   "execution_count": 23,
   "metadata": {
    "collapsed": false
   },
   "outputs": [
    {
     "name": "stdout",
     "output_type": "stream",
     "text": [
      "19/05/09 12:39:22 INFO sqoop.Sqoop: Running Sqoop version: 1.4.5-cdh5.4.3\n",
      "19/05/09 12:39:22 WARN tool.BaseSqoopTool: Setting your password on the command-line is insecure. Consider using -P instead.\n",
      "19/05/09 12:39:23 INFO manager.MySQLManager: Preparing to use a MySQL streaming resultset.\n",
      "19/05/09 12:39:23 INFO tool.CodeGenTool: Beginning code generation\n",
      "19/05/09 12:39:24 INFO manager.SqlManager: Executing SQL statement: SELECT t.* FROM `vehicles` AS t LIMIT 1\n",
      "19/05/09 12:39:24 INFO manager.SqlManager: Executing SQL statement: SELECT t.* FROM `vehicles` AS t LIMIT 1\n",
      "19/05/09 12:39:24 INFO orm.CompilationManager: HADOOP_MAPRED_HOME is /usr/lib/hadoop-mapreduce\n",
      "Note: /tmp/sqoop-training/compile/15f8a0f328d6d9fe63b9d25967844bb5/vehicles.java uses or overrides a deprecated API.\n",
      "Note: Recompile with -Xlint:deprecation for details.\n",
      "19/05/09 12:39:31 INFO orm.CompilationManager: Writing jar file: /tmp/sqoop-training/compile/15f8a0f328d6d9fe63b9d25967844bb5/vehicles.jar\n",
      "19/05/09 12:39:31 WARN manager.MySQLManager: It looks like you are importing from mysql.\n",
      "19/05/09 12:39:31 WARN manager.MySQLManager: This transfer can be faster! Use the --direct\n",
      "19/05/09 12:39:31 WARN manager.MySQLManager: option to exercise a MySQL-specific fast path.\n",
      "19/05/09 12:39:31 INFO manager.MySQLManager: Setting zero DATETIME behavior to convertToNull (mysql)\n",
      "19/05/09 12:39:32 INFO mapreduce.ImportJobBase: Beginning import of vehicles\n",
      "19/05/09 12:39:32 INFO Configuration.deprecation: mapred.job.tracker is deprecated. Instead, use mapreduce.jobtracker.address\n",
      "19/05/09 12:39:32 INFO Configuration.deprecation: mapred.jar is deprecated. Instead, use mapreduce.job.jar\n",
      "19/05/09 12:39:34 INFO Configuration.deprecation: mapred.map.tasks is deprecated. Instead, use mapreduce.job.maps\n",
      "19/05/09 12:39:34 INFO client.RMProxy: Connecting to ResourceManager at /0.0.0.0:8032\n",
      "19/05/09 12:39:38 INFO db.DBInputFormat: Using read commited transaction isolation\n",
      "19/05/09 12:39:38 INFO mapreduce.JobSubmitter: number of splits:1\n",
      "19/05/09 12:39:38 INFO mapreduce.JobSubmitter: Submitting tokens for job: job_1557429884928_0003\n",
      "19/05/09 12:39:39 INFO impl.YarnClientImpl: Submitted application application_1557429884928_0003\n",
      "19/05/09 12:39:39 INFO mapreduce.Job: The url to track the job: http://localhost:8088/proxy/application_1557429884928_0003/\n",
      "19/05/09 12:39:39 INFO mapreduce.Job: Running job: job_1557429884928_0003\n",
      "19/05/09 12:39:56 INFO mapreduce.Job: Job job_1557429884928_0003 running in uber mode : false\n",
      "19/05/09 12:39:56 INFO mapreduce.Job:  map 0% reduce 0%\n",
      "19/05/09 12:40:09 INFO mapreduce.Job:  map 100% reduce 0%\n",
      "19/05/09 12:40:10 INFO mapreduce.Job: Job job_1557429884928_0003 completed successfully\n",
      "19/05/09 12:40:11 INFO mapreduce.Job: Counters: 30\n",
      "\tFile System Counters\n",
      "\t\tFILE: Number of bytes read=0\n",
      "\t\tFILE: Number of bytes written=136225\n",
      "\t\tFILE: Number of read operations=0\n",
      "\t\tFILE: Number of large read operations=0\n",
      "\t\tFILE: Number of write operations=0\n",
      "\t\tHDFS: Number of bytes read=87\n",
      "\t\tHDFS: Number of bytes written=0\n",
      "\t\tHDFS: Number of read operations=4\n",
      "\t\tHDFS: Number of large read operations=0\n",
      "\t\tHDFS: Number of write operations=2\n",
      "\tJob Counters \n",
      "\t\tLaunched map tasks=1\n",
      "\t\tOther local map tasks=1\n",
      "\t\tTotal time spent by all maps in occupied slots (ms)=0\n",
      "\t\tTotal time spent by all reduces in occupied slots (ms)=0\n",
      "\t\tTotal time spent by all map tasks (ms)=11076\n",
      "\t\tTotal vcore-seconds taken by all map tasks=11076\n",
      "\t\tTotal megabyte-seconds taken by all map tasks=2835456\n",
      "\tMap-Reduce Framework\n",
      "\t\tMap input records=0\n",
      "\t\tMap output records=0\n",
      "\t\tInput split bytes=87\n",
      "\t\tSpilled Records=0\n",
      "\t\tFailed Shuffles=0\n",
      "\t\tMerged Map outputs=0\n",
      "\t\tGC time elapsed (ms)=160\n",
      "\t\tCPU time spent (ms)=1250\n",
      "\t\tPhysical memory (bytes) snapshot=121643008\n",
      "\t\tVirtual memory (bytes) snapshot=844513280\n",
      "\t\tTotal committed heap usage (bytes)=47972352\n",
      "\tFile Input Format Counters \n",
      "\t\tBytes Read=0\n",
      "\tFile Output Format Counters \n",
      "\t\tBytes Written=0\n",
      "19/05/09 12:40:11 INFO mapreduce.ImportJobBase: Transferred 0 bytes in 36.3061 seconds (0 bytes/sec)\n",
      "19/05/09 12:40:11 INFO mapreduce.ImportJobBase: Retrieved 0 records.\n",
      "19/05/09 12:40:11 INFO manager.SqlManager: Executing SQL statement: SELECT t.* FROM `vehicles` AS t LIMIT 1\n",
      "19/05/09 12:40:11 INFO hive.HiveImport: Loading uploaded data into Hive\n",
      "\n",
      "Logging initialized using configuration in jar:file:/usr/lib/hive/lib/hive-common-1.1.0-cdh5.4.3.jar!/hive-log4j.properties\n",
      "OK\n",
      "Time taken: 3.298 seconds\n",
      "Loading data to table default.vehicles\n",
      "chgrp: changing ownership of 'hdfs://localhost:8020/user/hive/warehouse/vehicles/part-m-00000': User does not belong to hive\n",
      "Table default.vehicles stats: [numFiles=1, totalSize=0]\n",
      "OK\n",
      "Time taken: 0.979 seconds\n"
     ]
    }
   ],
   "source": [
    "!sqoop import --table vehicles --connect jdbc:mysql://localhost/RoadGB --username training --password training --hive-import --fields-terminated-by ',' --lines-terminated-by '\\n' --null-string 'null' -m 1"
   ]
  },
  {
   "cell_type": "markdown",
   "metadata": {},
   "source": [
    "####Beeline and using hive\n",
    "Hive Beeline is a JDBC client based on on the SQLLine CL. This client is used to connect HiveServer2. The Beeline shell works in both embedded mode as well as remote mode. In the embedded mode, it runs an embedded Hive whereas remote mode is for connecting to a separate HiveServer2 process. It can even connect to HiveServer2 which has Kerberos authentication mechanism."
   ]
  },
  {
   "cell_type": "code",
   "execution_count": 24,
   "metadata": {
    "collapsed": false
   },
   "outputs": [
    {
     "name": "stdout",
     "output_type": "stream",
     "text": [
      "scan complete in 4ms\n",
      "Connecting to jdbc:hive2://localhost:10000\n",
      "Connected to: Apache Hive (version 1.1.0-cdh5.4.3)\n",
      "Driver: Hive JDBC (version 1.1.0-cdh5.4.3)\n",
      "Transaction isolation: TRANSACTION_REPEATABLE_READ\n",
      "Beeline version 1.1.0-cdh5.4.3 by Apache Hive\n",
      "0: jdbc:hive2://localhost:10000> \n",
      "\n",
      "0: jdbc:hive2://localhost:10000> "
     ]
    }
   ],
   "source": [
    "!beeline -u jdbc:hive2://localhost:10000"
   ]
  },
  {
   "cell_type": "markdown",
   "metadata": {},
   "source": [
    "#### Check the RoadGB2 database created in hive"
   ]
  },
  {
   "cell_type": "code",
   "execution_count": 32,
   "metadata": {
    "collapsed": false
   },
   "outputs": [
    {
     "name": "stdout",
     "output_type": "stream",
     "text": [
      "scan complete in 5ms\n",
      "Connecting to jdbc:hive2://localhost:10000\n",
      "Connected to: Apache Hive (version 1.1.0-cdh5.4.3)\n",
      "Driver: Hive JDBC (version 1.1.0-cdh5.4.3)\n",
      "Transaction isolation: TRANSACTION_REPEATABLE_READ\n",
      "No rows affected (0.224 seconds)\n",
      "+-------------+--+\n",
      "|  tab_name   |\n",
      "+-------------+--+\n",
      "| casualties  |\n",
      "+-------------+--+\n",
      "1 row selected (0.172 seconds)\n",
      "Beeline version 1.1.0-cdh5.4.3 by Apache Hive\n",
      "Closing: 0: jdbc:hive2://localhost:10000\n"
     ]
    }
   ],
   "source": [
    "!beeline -u \"jdbc:hive2://localhost:10000\" -n training -ptraining -e 'use RoadGB2; show tables;'"
   ]
  },
  {
   "cell_type": "markdown",
   "metadata": {},
   "source": [
    "### Import Vehicles table from CSV (on HDFS) into Hive\n",
    "First I made dir (Assignment-test) in hdfs and put Veh.csv in that dir then I create table vehicle in hive and then use the dir path to load data into vehicle table in Hive."
   ]
  },
  {
   "cell_type": "code",
   "execution_count": 33,
   "metadata": {
    "collapsed": false
   },
   "outputs": [
    {
     "name": "stdout",
     "output_type": "stream",
     "text": [
      "Overwriting CreatevehicleTable.hql\n"
     ]
    }
   ],
   "source": [
    "%%writefile CreatevehicleTable.hql\n",
    "use RoadGB2;\n",
    "CREATE EXTERNAL TABLE vehicle\n",
    "(\n",
    "Accident_Index                      string,\n",
    "Vehicle_Reference                   int,\n",
    "Vehicle_Type                        int,\n",
    "Towing_and_Articulation             int,\n",
    "Vehicle_Manoeuvre                   int,\n",
    "Vehicle_Location_Restricted_Lane    int,\n",
    "Junction_Location                   int,\n",
    "Skidding_and_Overturning            int,\n",
    "Hit_Object_in_Carriageway           int,\n",
    "Vehicle_Leaving_Carriageway         int,\n",
    "Hit_Object_off_Carriageway          int,\n",
    "1st_Point_of_Impact                 int,\n",
    "Was_Vehicle_Left_Hand_Drive         int,\n",
    "Journey_Purpose_of_Driver           int,\n",
    "Sex_of_Driver                       int,\n",
    "Age_of_Driver                       int,\n",
    "Age_Band_of_Driver                  int,\n",
    "Engine_Capacity_CC                  int,\n",
    "Propulsion_Code                     int,\n",
    "Age_of_Vehicle                      int,\n",
    "Driver_IMD_Decile                   int,\n",
    "Driver_Home_Area_Type               int,\n",
    "Vehicle_IMD_Decile                  int\n",
    ")\n",
    "\n",
    "COMMENT 'Staging table for vehicle data'\n",
    "ROW FORMAT DELIMITED\n",
    "FIELDS TERMINATED BY ','\n",
    "STORED AS TEXTFILE\n",
    "tblproperties (\"skip.header.line.count\"=\"1\");\n"
   ]
  },
  {
   "cell_type": "code",
   "execution_count": 34,
   "metadata": {
    "collapsed": false
   },
   "outputs": [
    {
     "name": "stdout",
     "output_type": "stream",
     "text": [
      "WARNING: Hive CLI is deprecated and migration to Beeline is recommended.\n",
      "hive> "
     ]
    },
    {
     "name": "stderr",
     "output_type": "stream",
     "text": [
      "\n",
      "Logging initialized using configuration in file:/etc/hive/conf.dist/hive-log4j.properties\n"
     ]
    }
   ],
   "source": [
    "%%sh\n",
    "hive -i CreatevehicleTable.hql"
   ]
  },
  {
   "cell_type": "markdown",
   "metadata": {},
   "source": [
    "#### Loading data into vehicle table in hive."
   ]
  },
  {
   "cell_type": "code",
   "execution_count": 35,
   "metadata": {
    "collapsed": false
   },
   "outputs": [
    {
     "name": "stderr",
     "output_type": "stream",
     "text": [
      "\n",
      "Logging initialized using configuration in file:/etc/hive/conf.dist/hive-log4j.properties\n",
      "OK\n",
      "Time taken: 1.642 seconds\n",
      "Loading data to table roadgb2.vehicle\n",
      "chgrp: changing ownership of 'hdfs://localhost:8020/user/hive/warehouse/roadgb2.db/vehicle/Veh.csv': User does not belong to hive\n",
      "Table roadgb2.vehicle stats: [numFiles=1, numRows=0, totalSize=15642280, rawDataSize=0]\n",
      "OK\n",
      "Time taken: 1.527 seconds\n"
     ]
    }
   ],
   "source": [
    "%%bash\n",
    "hive -e 'use RoadGB2; load data inpath \"/user/training/Assignment-test/Veh.csv/\" into table vehicle;'"
   ]
  },
  {
   "cell_type": "markdown",
   "metadata": {},
   "source": [
    "#### Check data how is shown in the vehicle table."
   ]
  },
  {
   "cell_type": "code",
   "execution_count": 36,
   "metadata": {
    "collapsed": false
   },
   "outputs": [
    {
     "name": "stdout",
     "output_type": "stream",
     "text": [
      "2017010001708\t1\t9\t0\t18\t0\t0\t0\t0\t0\t0\t1\t1\t6\t1\t24\t5\t1997\t2\t1\t-1\t-1\t-1\n",
      "2017010001708\t2\t2\t0\t18\t0\t0\t1\t0\t0\t0\t2\t1\t6\t1\t19\t4\t-1\t-1\t-1\t-1\t-1\t-1\n",
      "2017010009342\t1\t9\t0\t18\t0\t1\t0\t0\t0\t0\t2\t1\t6\t1\t33\t6\t1797\t8\t8\t9\t1\t9\n"
     ]
    },
    {
     "name": "stderr",
     "output_type": "stream",
     "text": [
      "\n",
      "Logging initialized using configuration in file:/etc/hive/conf.dist/hive-log4j.properties\n",
      "OK\n",
      "Time taken: 1.42 seconds\n",
      "OK\n",
      "Time taken: 1.27 seconds, Fetched: 3 row(s)\n"
     ]
    }
   ],
   "source": [
    "%%sh\n",
    "hive -e 'use RoadGB2; select * from vehicle LIMIT 3;'"
   ]
  },
  {
   "cell_type": "markdown",
   "metadata": {},
   "source": [
    "#### Create table accident in hive"
   ]
  },
  {
   "cell_type": "code",
   "execution_count": 37,
   "metadata": {
    "collapsed": false
   },
   "outputs": [
    {
     "name": "stdout",
     "output_type": "stream",
     "text": [
      "Writing CreateaccidentTable.hql\n"
     ]
    }
   ],
   "source": [
    "%%writefile CreateaccidentTable.hql\n",
    "use RoadGB2;\n",
    "CREATE EXTERNAL TABLE Accident\n",
    "(\n",
    "Accident_Index string,\n",
    "Location_Easting_OSGR double,\n",
    "Location_Northing_OSGR double,\n",
    "Longitude double,\n",
    "Latitude double,\n",
    "Police_Force int,\n",
    "Accident_Severity int,\n",
    "Number_of_Vehicles int,\n",
    "Number_of_Casualties int,\n",
    "Date string,\n",
    "Day_of_Week int,\n",
    "Time string,\n",
    "Local_Authority_District int,\n",
    "Local_Authority_Highway string,\n",
    "1st_Road_Class int,\n",
    "1st_Road_Number int,\n",
    "Road_Type int,\n",
    "Speed_limit double,\n",
    "Junction_Detail int,\n",
    "Junction_Control int,\n",
    "2nd_Road_Class int,\n",
    "2nd_Road_Number int,\n",
    "Pedestrian_Crossing_Human_Control int,\n",
    "Pedestrian_Crossing_Physical_Facilities int,\n",
    "Light_Conditions int,\n",
    "Weather_Conditions int,\n",
    "Road_Surface_Conditions int,\n",
    "Special_Conditions_at_Site int,\n",
    "Carriageway_Hazards int,\n",
    "Urban_or_Rural_Area int,\n",
    "Did_Police_Officer_Attend_Scene_of_Accident int,\n",
    "LSOA_of_Accident_Location string\n",
    ")\n",
    "COMMENT 'TABLE FOR accident DATA'\n",
    "ROW FORMAT DELIMITED\n",
    "    FIELDS TERMINATED BY ','\n",
    "LINES TERMINATED BY '\\n'\n",
    "\n",
    "TBLPROPERTIES(\"skip.header.line.count\"=\"1\");\n"
   ]
  },
  {
   "cell_type": "code",
   "execution_count": 38,
   "metadata": {
    "collapsed": false
   },
   "outputs": [
    {
     "name": "stdout",
     "output_type": "stream",
     "text": [
      "WARNING: Hive CLI is deprecated and migration to Beeline is recommended.\n",
      "hive> "
     ]
    },
    {
     "name": "stderr",
     "output_type": "stream",
     "text": [
      "\n",
      "Logging initialized using configuration in file:/etc/hive/conf.dist/hive-log4j.properties\n"
     ]
    }
   ],
   "source": [
    "%%sh\n",
    "hive -i CreateaccidentTable.hql"
   ]
  },
  {
   "cell_type": "markdown",
   "metadata": {},
   "source": [
    "#### Loading data into accident table"
   ]
  },
  {
   "cell_type": "code",
   "execution_count": 39,
   "metadata": {
    "collapsed": false
   },
   "outputs": [
    {
     "name": "stderr",
     "output_type": "stream",
     "text": [
      "\n",
      "Logging initialized using configuration in file:/etc/hive/conf.dist/hive-log4j.properties\n",
      "OK\n",
      "Time taken: 1.447 seconds\n",
      "Loading data to table roadgb2.accident\n",
      "chgrp: changing ownership of 'hdfs://localhost:8020/user/hive/warehouse/roadgb2.db/accident/part-m-00000': User does not belong to hive\n",
      "Table roadgb2.accident stats: [numFiles=1, totalSize=19005004]\n",
      "OK\n",
      "Time taken: 1.526 seconds\n"
     ]
    }
   ],
   "source": [
    "%%bash\n",
    "hive -e 'use RoadGB2; load data inpath \"/RoadGB/accidents/part-m-00000\" into table accident;'"
   ]
  },
  {
   "cell_type": "markdown",
   "metadata": {},
   "source": [
    "#### Check the table accident how to show the data."
   ]
  },
  {
   "cell_type": "code",
   "execution_count": 40,
   "metadata": {
    "collapsed": false
   },
   "outputs": [
    {
     "name": "stdout",
     "output_type": "stream",
     "text": [
      "2017010009342\t526790.0\t181970.0\t-0.173845\t51.522425\t1\t3\t2\t1\t01/01/2017\t1\t01:30\t1\tE09000033\t3\t5\t6\t30.0\t3\t4\t6\t0\t0\t0\t4\t1\t2\t0\t0\t1\t1\tE01004702\n",
      "2017010009344\t535200.0\t181260.0\t-0.052969\t51.514096\t1\t3\t3\t1\t01/01/2017\t1\t00:30\t5\tE09000030\t3\t13\t6\t30.0\t3\t4\t5\t0\t0\t0\t4\t1\t1\t0\t0\t1\t1\tE01004298\n",
      "2017010009348\t534340.0\t193560.0\t-0.060658\t51.624832\t1\t3\t2\t1\t01/01/2017\t1\t01:11\t32\tE09000010\t3\t1010\t1\t30.0\t1\t4\t4\t154\t0\t4\t4\t2\t2\t0\t0\t1\t1\tE01001429\n"
     ]
    },
    {
     "name": "stderr",
     "output_type": "stream",
     "text": [
      "\n",
      "Logging initialized using configuration in file:/etc/hive/conf.dist/hive-log4j.properties\n",
      "OK\n",
      "Time taken: 1.338 seconds\n",
      "OK\n",
      "Time taken: 1.371 seconds, Fetched: 3 row(s)\n"
     ]
    }
   ],
   "source": [
    "%%sh\n",
    "hive -e 'use RoadGB2; select * from accident LIMIT 3;'"
   ]
  },
  {
   "cell_type": "markdown",
   "metadata": {},
   "source": [
    "### Tables in Hive \n",
    "#### Create external and internal table\n",
    "External table in Hive, there is no data into warehouse directory, and when table is deleted data is still there. On other hand, internal table is temporary table if table is deleted data is deleted too.  \n",
    "\n",
    "##### Use external tables when:\n",
    "1-\tWe use data outside Hive so do not need to load data again and again. \n",
    "2-\tNeed to keep data even after dropping tables\n",
    "##### Use internal table when:\n",
    "1-\tWant Hive control and manage everything\n",
    "2-\tData is temporary \n",
    "\n",
    "So I use external table and I need tables permenant, and also every time after loading data for tables if I want to change tables another location and if I deleted table it was more easy to work with and can keep the data."
   ]
  },
  {
   "cell_type": "code",
   "execution_count": 41,
   "metadata": {
    "collapsed": false
   },
   "outputs": [
    {
     "name": "stdout",
     "output_type": "stream",
     "text": [
      "scan complete in 4ms\n",
      "Connecting to jdbc:hive2://localhost:10000\n",
      "Connected to: Apache Hive (version 1.1.0-cdh5.4.3)\n",
      "Driver: Hive JDBC (version 1.1.0-cdh5.4.3)\n",
      "Transaction isolation: TRANSACTION_REPEATABLE_READ\n",
      "No rows affected (0.248 seconds)\n",
      "+-------------+--+\n",
      "|  tab_name   |\n",
      "+-------------+--+\n",
      "| accident    |\n",
      "| casualties  |\n",
      "| vehicle     |\n",
      "+-------------+--+\n",
      "3 rows selected (0.168 seconds)\n",
      "Beeline version 1.1.0-cdh5.4.3 by Apache Hive\n",
      "Closing: 0: jdbc:hive2://localhost:10000\n"
     ]
    }
   ],
   "source": [
    "!beeline -u \"jdbc:hive2://localhost:10000\" -n training -ptraining -e 'use RoadGB2; show tables;'"
   ]
  },
  {
   "cell_type": "markdown",
   "metadata": {},
   "source": [
    "#### Describe the Tables \n",
    "Use the DESC code table and see the data type and name of the column."
   ]
  },
  {
   "cell_type": "code",
   "execution_count": 42,
   "metadata": {
    "collapsed": false
   },
   "outputs": [
    {
     "name": "stdout",
     "output_type": "stream",
     "text": [
      "scan complete in 4ms\n",
      "Connecting to jdbc:hive2://localhost:10000\n",
      "Connected to: Apache Hive (version 1.1.0-cdh5.4.3)\n",
      "Driver: Hive JDBC (version 1.1.0-cdh5.4.3)\n",
      "Transaction isolation: TRANSACTION_REPEATABLE_READ\n",
      "No rows affected (0.244 seconds)\n",
      "+-------------------------------------+------------+----------+--+\n",
      "|              col_name               | data_type  | comment  |\n",
      "+-------------------------------------+------------+----------+--+\n",
      "| accident_index                      | string     |          |\n",
      "| vehicle_reference                   | int        |          |\n",
      "| casualty_reference                  | int        |          |\n",
      "| casualty_class                      | int        |          |\n",
      "| sex_of_casualty                     | int        |          |\n",
      "| age_of_casualty                     | int        |          |\n",
      "| age_band_of_casualty                | int        |          |\n",
      "| casualty_severity                   | int        |          |\n",
      "| pedestrian_location                 | int        |          |\n",
      "| pedestrian_movement                 | int        |          |\n",
      "| car_passenger                       | int        |          |\n",
      "| bus_or_coach_passenger              | int        |          |\n",
      "| pedestrian_road_maintenance_worker  | int        |          |\n",
      "| casualty_type                       | int        |          |\n",
      "| casualty_home_area_type             | int        |          |\n",
      "| casualty_imd_decile                 | int        |          |\n",
      "+-------------------------------------+------------+----------+--+\n",
      "16 rows selected (0.342 seconds)\n",
      "Beeline version 1.1.0-cdh5.4.3 by Apache Hive\n",
      "Closing: 0: jdbc:hive2://localhost:10000\n"
     ]
    }
   ],
   "source": [
    "!beeline -u \"jdbc:hive2://localhost:10000\" -n training -ptraining -e 'use RoadGB2; DESC casualties;'"
   ]
  },
  {
   "cell_type": "code",
   "execution_count": 43,
   "metadata": {
    "collapsed": false
   },
   "outputs": [
    {
     "name": "stdout",
     "output_type": "stream",
     "text": [
      "scan complete in 4ms\n",
      "Connecting to jdbc:hive2://localhost:10000\n",
      "Connected to: Apache Hive (version 1.1.0-cdh5.4.3)\n",
      "Driver: Hive JDBC (version 1.1.0-cdh5.4.3)\n",
      "Transaction isolation: TRANSACTION_REPEATABLE_READ\n",
      "No rows affected (0.22 seconds)\n",
      "+----------------------------------------------+------------+----------+--+\n",
      "|                   col_name                   | data_type  | comment  |\n",
      "+----------------------------------------------+------------+----------+--+\n",
      "| accident_index                               | string     |          |\n",
      "| location_easting_osgr                        | double     |          |\n",
      "| location_northing_osgr                       | double     |          |\n",
      "| longitude                                    | double     |          |\n",
      "| latitude                                     | double     |          |\n",
      "| police_force                                 | int        |          |\n",
      "| accident_severity                            | int        |          |\n",
      "| number_of_vehicles                           | int        |          |\n",
      "| number_of_casualties                         | int        |          |\n",
      "| date                                         | string     |          |\n",
      "| day_of_week                                  | int        |          |\n",
      "| time                                         | string     |          |\n",
      "| local_authority_district                     | int        |          |\n",
      "| local_authority_highway                      | string     |          |\n",
      "| 1st_road_class                               | int        |          |\n",
      "| 1st_road_number                              | int        |          |\n",
      "| road_type                                    | int        |          |\n",
      "| speed_limit                                  | double     |          |\n",
      "| junction_detail                              | int        |          |\n",
      "| junction_control                             | int        |          |\n",
      "| 2nd_road_class                               | int        |          |\n",
      "| 2nd_road_number                              | int        |          |\n",
      "| pedestrian_crossing_human_control            | int        |          |\n",
      "| pedestrian_crossing_physical_facilities      | int        |          |\n",
      "| light_conditions                             | int        |          |\n",
      "| weather_conditions                           | int        |          |\n",
      "| road_surface_conditions                      | int        |          |\n",
      "| special_conditions_at_site                   | int        |          |\n",
      "| carriageway_hazards                          | int        |          |\n",
      "| urban_or_rural_area                          | int        |          |\n",
      "| did_police_officer_attend_scene_of_accident  | int        |          |\n",
      "| lsoa_of_accident_location                    | string     |          |\n",
      "+----------------------------------------------+------------+----------+--+\n",
      "32 rows selected (0.422 seconds)\n",
      "Beeline version 1.1.0-cdh5.4.3 by Apache Hive\n",
      "Closing: 0: jdbc:hive2://localhost:10000\n"
     ]
    }
   ],
   "source": [
    "!beeline -u \"jdbc:hive2://localhost:10000\" -n training -ptraining -e 'use RoadGB2; DESC accident;'"
   ]
  },
  {
   "cell_type": "code",
   "execution_count": 44,
   "metadata": {
    "collapsed": false
   },
   "outputs": [
    {
     "name": "stdout",
     "output_type": "stream",
     "text": [
      "scan complete in 5ms\n",
      "Connecting to jdbc:hive2://localhost:10000\n",
      "Connected to: Apache Hive (version 1.1.0-cdh5.4.3)\n",
      "Driver: Hive JDBC (version 1.1.0-cdh5.4.3)\n",
      "Transaction isolation: TRANSACTION_REPEATABLE_READ\n",
      "No rows affected (0.235 seconds)\n",
      "+-----------------------------------+------------+----------+--+\n",
      "|             col_name              | data_type  | comment  |\n",
      "+-----------------------------------+------------+----------+--+\n",
      "| accident_index                    | string     |          |\n",
      "| vehicle_reference                 | int        |          |\n",
      "| vehicle_type                      | int        |          |\n",
      "| towing_and_articulation           | int        |          |\n",
      "| vehicle_manoeuvre                 | int        |          |\n",
      "| vehicle_location_restricted_lane  | int        |          |\n",
      "| junction_location                 | int        |          |\n",
      "| skidding_and_overturning          | int        |          |\n",
      "| hit_object_in_carriageway         | int        |          |\n",
      "| vehicle_leaving_carriageway       | int        |          |\n",
      "| hit_object_off_carriageway        | int        |          |\n",
      "| 1st_point_of_impact               | int        |          |\n",
      "| was_vehicle_left_hand_drive       | int        |          |\n",
      "| journey_purpose_of_driver         | int        |          |\n",
      "| sex_of_driver                     | int        |          |\n",
      "| age_of_driver                     | int        |          |\n",
      "| age_band_of_driver                | int        |          |\n",
      "| engine_capacity_cc                | int        |          |\n",
      "| propulsion_code                   | int        |          |\n",
      "| age_of_vehicle                    | int        |          |\n",
      "| driver_imd_decile                 | int        |          |\n",
      "| driver_home_area_type             | int        |          |\n",
      "| vehicle_imd_decile                | int        |          |\n",
      "+-----------------------------------+------------+----------+--+\n",
      "23 rows selected (0.439 seconds)\n",
      "Beeline version 1.1.0-cdh5.4.3 by Apache Hive\n",
      "Closing: 0: jdbc:hive2://localhost:10000\n"
     ]
    }
   ],
   "source": [
    "!beeline -u \"jdbc:hive2://localhost:10000\" -n training -ptraining -e 'use RoadGB2; DESC vehicle;'"
   ]
  },
  {
   "cell_type": "markdown",
   "metadata": {
    "collapsed": true
   },
   "source": [
    "### use impala shell to write queries \n",
    "Hive and Impala use the Metastore to determine data format and location, but query itself operates on data stored inHDFS.\n",
    "The Impala metadata may be out of date on the specific Impalad that the client is connecting to, so a recently created table will not show up. I will need to run the \"invalidate metadata\" command to cause that specific Impalad instance to fetch the updated metadata from the Hive MetaStore.\n",
    "From the impala-shell, run the \"invalidate metadata\" command, followed by \"show tables\" again and verify that the expected table now appears in the output from the \"show tables\" command."
   ]
  },
  {
   "cell_type": "code",
   "execution_count": 45,
   "metadata": {
    "collapsed": false
   },
   "outputs": [
    {
     "name": "stdout",
     "output_type": "stream",
     "text": [
      "Shutting down hue: \n",
      "Starting hue: \u001b[60G[\u001b[0;32m  OK  \u001b[0;39m]\n",
      "Stopped Hive Server2:\u001b[60G[\u001b[0;32m  OK  \u001b[0;39m]\n",
      "Started Hive Server2 (hive-server2):\u001b[60G[\u001b[0;32m  OK  \u001b[0;39m]\n",
      "Stopped Impala Server:\u001b[60G[\u001b[0;32m  OK  \u001b[0;39m]\n",
      "Started Impala Server (impalad):\u001b[60G[\u001b[0;32m  OK  \u001b[0;39m]\n",
      "impala: unrecognized service\n",
      "Stopped Impala Catalog Server:\u001b[60G[\u001b[0;32m  OK  \u001b[0;39m]\n",
      "Started Impala Catalog Server (catalogd) :\u001b[60G[\u001b[0;32m  OK  \u001b[0;39m]\n"
     ]
    }
   ],
   "source": [
    "!sudo service hue restart\n",
    "!sudo service hive-server2 restart\n",
    "!sudo service impala-server restart\n",
    "!sudo service impala state-store restart\n",
    "!sudo service impala-catalog restart"
   ]
  },
  {
   "cell_type": "code",
   "execution_count": 46,
   "metadata": {
    "collapsed": false
   },
   "outputs": [
    {
     "name": "stdout",
     "output_type": "stream",
     "text": [
      "Starting Impala Shell without Kerberos authentication\n",
      "Error connecting: TTransportException, Could not connect to myimpalaserver:21000\n",
      "Welcome to the Impala shell. Press TAB twice to see a list of available commands.\n",
      "\n",
      "Copyright (c) 2012 Cloudera, Inc. All rights reserved.\n",
      "\n",
      "(Shell build version: Impala Shell v2.2.0-cdh5.4.3 (517bb0f) built on Wed Jun 24 19:17:40 PDT 2015)\n",
      "[Not connected] > \n",
      "[Not connected] > "
     ]
    }
   ],
   "source": [
    "!impala-shell -i myimpalaserver"
   ]
  },
  {
   "cell_type": "markdown",
   "metadata": {},
   "source": [
    "####An initial INVALIDATE METADATA\n",
    "<table_name> statement makes the table created through Hive visible to Impala."
   ]
  },
  {
   "cell_type": "code",
   "execution_count": 47,
   "metadata": {
    "collapsed": false
   },
   "outputs": [
    {
     "name": "stdout",
     "output_type": "stream",
     "text": [
      "\n"
     ]
    },
    {
     "name": "stderr",
     "output_type": "stream",
     "text": [
      "Starting Impala Shell without Kerberos authentication\n",
      "Connected to localhost.localdomain:21000\n",
      "Server version: impalad version 2.2.0-cdh5.4.3 DEBUG (build 517bb0f71cd604a00369254ac6d88394df83e0f6)\n",
      "Query: invalidate metadata\n",
      "Fetched 0 row(s) in 3.86s\n"
     ]
    }
   ],
   "source": [
    "%%sh\n",
    "impala-shell -q 'invalidate metadata;'"
   ]
  },
  {
   "cell_type": "code",
   "execution_count": 48,
   "metadata": {
    "collapsed": false
   },
   "outputs": [
    {
     "name": "stdout",
     "output_type": "stream",
     "text": [
      "+------------+\n",
      "| name       |\n",
      "+------------+\n",
      "| accident   |\n",
      "| casualties |\n",
      "| vehicle    |\n",
      "+------------+\n",
      "\n"
     ]
    },
    {
     "name": "stderr",
     "output_type": "stream",
     "text": [
      "Starting Impala Shell without Kerberos authentication\n",
      "Connected to localhost.localdomain:21000\n",
      "Server version: impalad version 2.2.0-cdh5.4.3 DEBUG (build 517bb0f71cd604a00369254ac6d88394df83e0f6)\n",
      "Query: use RoadGB2\n",
      "Query: show tables\n",
      "Fetched 3 row(s) in 0.04s\n",
      "Query: invalidate metadata\n",
      "Fetched 0 row(s) in 4.14s\n"
     ]
    }
   ],
   "source": [
    "%%sh\n",
    "impala-shell -q 'use RoadGB2; show tables; invalidate metadata;'"
   ]
  },
  {
   "cell_type": "markdown",
   "metadata": {},
   "source": [
    "###Problem statements\n",
    "For making graphs and answering the quastions need to importing relevant libraries, so I install pip and upgrade, panda, matplot and seaborn."
   ]
  },
  {
   "cell_type": "code",
   "execution_count": 114,
   "metadata": {
    "collapsed": false
   },
   "outputs": [
    {
     "name": "stdout",
     "output_type": "stream",
     "text": [
      "\u001b[33mDEPRECATION: Python 2.7 will reach the end of its life on January 1st, 2020. Please upgrade your Python as Python 2.7 won't be maintained after that date. A future version of pip will drop support for Python 2.7.\u001b[0m\n",
      "/usr/local/lib/python2.7/site-packages/pip/_vendor/urllib3/util/ssl_.py:354: SNIMissingWarning: An HTTPS request has been made, but the SNI (Server Name Indication) extension to TLS is not available on this platform. This may cause the server to present an incorrect TLS certificate, which can cause validation failures. You can upgrade to a newer version of Python to solve this. For more information, see https://urllib3.readthedocs.io/en/latest/advanced-usage.html#ssl-warnings\n",
      "  SNIMissingWarning\n",
      "/usr/local/lib/python2.7/site-packages/pip/_vendor/urllib3/util/ssl_.py:150: InsecurePlatformWarning: A true SSLContext object is not available. This prevents urllib3 from configuring SSL appropriately and may cause certain SSL connections to fail. You can upgrade to a newer version of Python to solve this. For more information, see https://urllib3.readthedocs.io/en/latest/advanced-usage.html#ssl-warnings\n",
      "  InsecurePlatformWarning\n",
      "Requirement already up-to-date: pip in /usr/local/lib/python2.7/site-packages (19.1.1)\n",
      "\u001b[33mDEPRECATION: Python 2.7 will reach the end of its life on January 1st, 2020. Please upgrade your Python as Python 2.7 won't be maintained after that date. A future version of pip will drop support for Python 2.7.\u001b[0m\n",
      "Requirement already satisfied: pandas in /usr/local/lib/python2.7/site-packages (0.24.2)\n",
      "Requirement already satisfied: numpy>=1.12.0 in /usr/local/lib/python2.7/site-packages (from pandas) (1.16.3)\n",
      "Requirement already satisfied: pytz>=2011k in /usr/local/lib/python2.7/site-packages (from pandas) (2019.1)\n",
      "Requirement already satisfied: python-dateutil>=2.5.0 in /usr/local/lib/python2.7/site-packages (from pandas) (2.8.0)\n",
      "Requirement already satisfied: six>=1.5 in /usr/local/lib/python2.7/site-packages (from python-dateutil>=2.5.0->pandas) (1.12.0)\n",
      "\u001b[33mDEPRECATION: Python 2.7 will reach the end of its life on January 1st, 2020. Please upgrade your Python as Python 2.7 won't be maintained after that date. A future version of pip will drop support for Python 2.7.\u001b[0m\n",
      "Requirement already satisfied: matplotlib in /usr/local/lib/python2.7/site-packages (2.2.4)\n",
      "Requirement already satisfied: pytz in /usr/local/lib/python2.7/site-packages (from matplotlib) (2019.1)\n",
      "Requirement already satisfied: backports.functools-lru-cache in /usr/local/lib/python2.7/site-packages (from matplotlib) (1.5)\n",
      "Requirement already satisfied: six>=1.10 in /usr/local/lib/python2.7/site-packages (from matplotlib) (1.12.0)\n",
      "Requirement already satisfied: cycler>=0.10 in /usr/local/lib/python2.7/site-packages (from matplotlib) (0.10.0)\n",
      "Requirement already satisfied: subprocess32 in /usr/local/lib/python2.7/site-packages (from matplotlib) (3.5.3)\n",
      "Requirement already satisfied: kiwisolver>=1.0.1 in /usr/local/lib/python2.7/site-packages (from matplotlib) (1.1.0)\n",
      "Requirement already satisfied: python-dateutil>=2.1 in /usr/local/lib/python2.7/site-packages (from matplotlib) (2.8.0)\n",
      "Requirement already satisfied: pyparsing!=2.0.4,!=2.1.2,!=2.1.6,>=2.0.1 in /usr/local/lib/python2.7/site-packages (from matplotlib) (2.4.0)\n",
      "Requirement already satisfied: numpy>=1.7.1 in /usr/local/lib/python2.7/site-packages (from matplotlib) (1.16.3)\n",
      "Requirement already satisfied: setuptools in /usr/local/lib/python2.7/site-packages/setuptools-18.0.1-py2.7.egg (from kiwisolver>=1.0.1->matplotlib) (18.0.1)\n",
      "\u001b[33mDEPRECATION: Python 2.7 will reach the end of its life on January 1st, 2020. Please upgrade your Python as Python 2.7 won't be maintained after that date. A future version of pip will drop support for Python 2.7.\u001b[0m\n",
      "Requirement already satisfied: seaborn in /usr/local/lib/python2.7/site-packages (0.9.0)\n",
      "Requirement already satisfied: numpy>=1.9.3 in /usr/local/lib/python2.7/site-packages (from seaborn) (1.16.3)\n",
      "Requirement already satisfied: scipy>=0.14.0 in /usr/local/lib/python2.7/site-packages (from seaborn) (1.2.1)\n",
      "Requirement already satisfied: pandas>=0.15.2 in /usr/local/lib/python2.7/site-packages (from seaborn) (0.24.2)\n",
      "Requirement already satisfied: matplotlib>=1.4.3 in /usr/local/lib/python2.7/site-packages (from seaborn) (2.2.4)\n",
      "Requirement already satisfied: pytz>=2011k in /usr/local/lib/python2.7/site-packages (from pandas>=0.15.2->seaborn) (2019.1)\n",
      "Requirement already satisfied: python-dateutil>=2.5.0 in /usr/local/lib/python2.7/site-packages (from pandas>=0.15.2->seaborn) (2.8.0)\n",
      "Requirement already satisfied: backports.functools-lru-cache in /usr/local/lib/python2.7/site-packages (from matplotlib>=1.4.3->seaborn) (1.5)\n",
      "Requirement already satisfied: six>=1.10 in /usr/local/lib/python2.7/site-packages (from matplotlib>=1.4.3->seaborn) (1.12.0)\n",
      "Requirement already satisfied: cycler>=0.10 in /usr/local/lib/python2.7/site-packages (from matplotlib>=1.4.3->seaborn) (0.10.0)\n",
      "Requirement already satisfied: subprocess32 in /usr/local/lib/python2.7/site-packages (from matplotlib>=1.4.3->seaborn) (3.5.3)\n",
      "Requirement already satisfied: kiwisolver>=1.0.1 in /usr/local/lib/python2.7/site-packages (from matplotlib>=1.4.3->seaborn) (1.1.0)\n",
      "Requirement already satisfied: pyparsing!=2.0.4,!=2.1.2,!=2.1.6,>=2.0.1 in /usr/local/lib/python2.7/site-packages (from matplotlib>=1.4.3->seaborn) (2.4.0)\n",
      "Requirement already satisfied: setuptools in /usr/local/lib/python2.7/site-packages/setuptools-18.0.1-py2.7.egg (from kiwisolver>=1.0.1->matplotlib>=1.4.3->seaborn) (18.0.1)\n"
     ]
    }
   ],
   "source": [
    "!sudo pip install pip --upgrade\n",
    "!sudo pip install pandas\n",
    "!sudo pip install matplotlib\n",
    "!sudo pip install seaborn"
   ]
  },
  {
   "cell_type": "markdown",
   "metadata": {},
   "source": [
    "##librarieis\n",
    "###NumPy\n",
    "stands for Numerical Python. The most powerful feature of NumPy is n-dimensional array. This library also contains basic linear algebra functions, Fourier transforms,  advanced random number capabilities and tools for integration with other low level languages like Fortran, C and C++.\n",
    "###Matplotlib \n",
    "for plotting vast variety of graphs, starting from histograms to line plots to heat plots.. You can use Pylab feature in ipython notebook (ipython notebook –pylab = inline) to use these plotting features inline. If you ignore the inline option, then pylab converts ipython environment to an environment, very similar to Matlab. You can also use Latex commands to add math to your plot.\n",
    "###Pandas \n",
    "for structured data operations and manipulations. It is extensively used for data munging and preparation. Pandas were added relatively recently to Python and have been instrumental in boosting Python’s usage in data scientist community."
   ]
  },
  {
   "cell_type": "code",
   "execution_count": 115,
   "metadata": {
    "collapsed": true
   },
   "outputs": [],
   "source": [
    "import pandas as pd\n",
    "import numpy as np\n",
    "import matplotlib.pyplot as plt\n",
    "%matplotlib inline"
   ]
  },
  {
   "cell_type": "markdown",
   "metadata": {
    "collapsed": true
   },
   "source": [
    "## Q1:find the top 3 police force that have most the fatal accidents?\n",
    "Then check the code in road safety giude and find that first police force has most fatal accidents was Metropolitan Police with 129 accidents, Thames Valley and Kent had 59 and 56 fatal accident respectively."
   ]
  },
  {
   "cell_type": "code",
   "execution_count": 51,
   "metadata": {
    "collapsed": false
   },
   "outputs": [
    {
     "name": "stdout",
     "output_type": "stream",
     "text": [
      "+--------------+------------+\n",
      "| police_force | acseverity |\n",
      "+--------------+------------+\n",
      "| 1            | 129        |\n",
      "| 43           | 59         |\n",
      "| 46           | 56         |\n",
      "+--------------+------------+\n"
     ]
    },
    {
     "name": "stderr",
     "output_type": "stream",
     "text": [
      "Starting Impala Shell without Kerberos authentication\n",
      "Connected to localhost.localdomain:21000\n",
      "Server version: impalad version 2.2.0-cdh5.4.3 DEBUG (build 517bb0f71cd604a00369254ac6d88394df83e0f6)\n",
      "Query: use RoadGB2\n",
      "Query: select Police_Force, count(Accident_Severity) as Acseverity from accident where Accident_Severity = 1 group by Police_Force order by Acseverity desc limit 3\n",
      "Fetched 3 row(s) in 9.62s\n"
     ]
    }
   ],
   "source": [
    "%%sh\n",
    "impala-shell -q 'use RoadGB2; select Police_Force, count(Accident_Severity) as Acseverity from accident where Accident_Severity = '1' group by Police_Force order by Acseverity desc limit 3;'"
   ]
  },
  {
   "cell_type": "code",
   "execution_count": 55,
   "metadata": {
    "collapsed": false
   },
   "outputs": [
    {
     "name": "stderr",
     "output_type": "stream",
     "text": [
      "Starting Impala Shell without Kerberos authentication\n",
      "Connected to localhost.localdomain:21000\n",
      "Server version: impalad version 2.2.0-cdh5.4.3 DEBUG (build 517bb0f71cd604a00369254ac6d88394df83e0f6)\n",
      "Query: use RoadGB2\n",
      "Query: select Police_Force, count(Accident_Severity) as Acseverity from accident where Accident_Severity = 1 group by Police_Force order by Acseverity desc limit 3\n",
      "Fetched 3 row(s) in 1.96s\n"
     ]
    }
   ],
   "source": [
    "%%sh\n",
    "impala-shell -q 'use RoadGB2; select Police_Force, count(Accident_Severity) as Acseverity from accident where Accident_Severity = '1' group by Police_Force order by Acseverity desc limit 3;' -B -o Police_Force --output_delimiter=','"
   ]
  },
  {
   "cell_type": "code",
   "execution_count": 59,
   "metadata": {
    "collapsed": false
   },
   "outputs": [
    {
     "data": {
      "image/png": "[encoded data removed]",
      "text/plain": [
       "<Figure size 600x400 with 1 Axes>"
      ]
     },
     "metadata": {},
     "output_type": "display_data"
    }
   ],
   "source": [
    "q1=pd.read_csv('Police_Force', names=['Police_Force','total'])\n",
    "plt.title('3 Police Force have most fatal accident')\n",
    "plt.bar(q1 ['Police_Force'].astype(str), q1['total'])\n",
    "plt.show()"
   ]
  },
  {
   "cell_type": "markdown",
   "metadata": {
    "collapsed": true
   },
   "source": [
    "##Q2: find top 5 local Authorities that have most serious and fatal accident?\n",
    "As can be seen the local authorities that have most seriouse accidents was Birmingham with 375 accidentand then leeds, Sheffield, Westminster and cornwall."
   ]
  },
  {
   "cell_type": "code",
   "execution_count": 57,
   "metadata": {
    "collapsed": false
   },
   "outputs": [
    {
     "name": "stdout",
     "output_type": "stream",
     "text": [
      "+--------------------------+------------+\n",
      "| local_authority_district | acseverity |\n",
      "+--------------------------+------------+\n",
      "| 300                      | 375        |\n",
      "| 204                      | 291        |\n",
      "| 215                      | 279        |\n",
      "| 1                        | 259        |\n",
      "| 596                      | 224        |\n",
      "+--------------------------+------------+\n"
     ]
    },
    {
     "name": "stderr",
     "output_type": "stream",
     "text": [
      "Starting Impala Shell without Kerberos authentication\n",
      "Connected to localhost.localdomain:21000\n",
      "Server version: impalad version 2.2.0-cdh5.4.3 DEBUG (build 517bb0f71cd604a00369254ac6d88394df83e0f6)\n",
      "Query: use RoadGB2\n",
      "Query: select local_authority_district, count(Accident_Severity) as Acseverity from accident where accident_Severity = 2 group by local_authority_district order by Acseverity desc limit 5\n",
      "Fetched 5 row(s) in 2.33s\n"
     ]
    }
   ],
   "source": [
    "%%sh\n",
    "impala-shell -q 'use RoadGB2; select local_authority_district, count(Accident_Severity) as Acseverity from accident where accident_Severity = '2' group by local_authority_district order by Acseverity desc limit 5;'"
   ]
  },
  {
   "cell_type": "code",
   "execution_count": 58,
   "metadata": {
    "collapsed": false
   },
   "outputs": [
    {
     "name": "stderr",
     "output_type": "stream",
     "text": [
      "Starting Impala Shell without Kerberos authentication\n",
      "Connected to localhost.localdomain:21000\n",
      "Server version: impalad version 2.2.0-cdh5.4.3 DEBUG (build 517bb0f71cd604a00369254ac6d88394df83e0f6)\n",
      "Query: use RoadGB2\n",
      "Query: select local_authority_district, count(Accident_Severity) as Acseverity from accident where accident_Severity = 2 group by local_authority_district order by Acseverity desc limit 5\n",
      "Fetched 5 row(s) in 2.45s\n"
     ]
    }
   ],
   "source": [
    "%%sh\n",
    "impala-shell -q 'use RoadGB2; select local_authority_district, count(Accident_Severity) as Acseverity from accident where accident_Severity = '2' group by local_authority_district order by Acseverity desc limit 5;' -B -o local_authority_district --output_delimiter=','"
   ]
  },
  {
   "cell_type": "code",
   "execution_count": 60,
   "metadata": {
    "collapsed": false
   },
   "outputs": [
    {
     "data": {
      "image/png": "[encoded data removed]",
      "text/plain": [
       "<Figure size 600x400 with 1 Axes>"
      ]
     },
     "metadata": {},
     "output_type": "display_data"
    }
   ],
   "source": [
    "q2=pd.read_csv('local_authority_district', names=['local_authority_district','total'])\n",
    "plt.title('top 5 local Authorities that have most serious and fatal accident')\n",
    "plt.bar(q2 ['local_authority_district'].astype(str), q2['total'])\n",
    "plt.show()"
   ]
  },
  {
   "cell_type": "markdown",
   "metadata": {
    "collapsed": true
   },
   "source": [
    "##Q3: find the vehicle type that have most serious and fatal accidents?\n",
    "Result shows cars had most serious and fatal accidents that around 25K, pedal cycle and motorcycle over 500cc had 4071 and 2633 accidents respectively."
   ]
  },
  {
   "cell_type": "code",
   "execution_count": 61,
   "metadata": {
    "collapsed": false
   },
   "outputs": [
    {
     "name": "stdout",
     "output_type": "stream",
     "text": [
      "+-------------+----------+\n",
      "| vehicletype | accident |\n",
      "+-------------+----------+\n",
      "| 9           | 25596    |\n",
      "+-------------+----------+\n"
     ]
    },
    {
     "name": "stderr",
     "output_type": "stream",
     "text": [
      "Starting Impala Shell without Kerberos authentication\n",
      "Connected to localhost.localdomain:21000\n",
      "Server version: impalad version 2.2.0-cdh5.4.3 DEBUG (build 517bb0f71cd604a00369254ac6d88394df83e0f6)\n",
      "Query: use RoadGB2\n",
      "Query: select v.Vehicle_Type as vehicletype, count(*) As accident from vehicle v join accident a ON a.accident_index = v.accident_index where v.vehicle_Type IS NOT NULL AND v.vehicle_Type != -1 AND (a.accident_severity = 1 or a.accident_severity = 2) group by v.vehicle_type order by accident desc limit 1\n",
      "Fetched 1 row(s) in 8.23s\n"
     ]
    }
   ],
   "source": [
    "%%sh\n",
    "impala-shell -q 'use RoadGB2; select v.Vehicle_Type as vehicletype, count(*) As accident from vehicle v join accident a ON a.accident_index = v.accident_index where v.vehicle_Type IS NOT NULL AND v.vehicle_Type != -1 AND (a.accident_severity = 1 or a.accident_severity = 2) group by v.vehicle_type order by accident desc limit 1;'"
   ]
  },
  {
   "cell_type": "code",
   "execution_count": 62,
   "metadata": {
    "collapsed": false
   },
   "outputs": [
    {
     "name": "stderr",
     "output_type": "stream",
     "text": [
      "Starting Impala Shell without Kerberos authentication\n",
      "Connected to localhost.localdomain:21000\n",
      "Server version: impalad version 2.2.0-cdh5.4.3 DEBUG (build 517bb0f71cd604a00369254ac6d88394df83e0f6)\n",
      "Query: use RoadGB2\n",
      "Query: select v.Vehicle_Type as vehicletype, count(*) As accident from vehicle v join accident a ON a.accident_index = v.accident_index where v.vehicle_Type IS NOT NULL AND v.vehicle_Type != -1 AND (a.accident_severity = 1 or a.accident_severity = 2) group by v.vehicle_type order by accident desc limit 3\n",
      "Fetched 3 row(s) in 3.33s\n"
     ]
    }
   ],
   "source": [
    "%%sh\n",
    "impala-shell -q 'use RoadGB2; select v.Vehicle_Type as vehicletype, count(*) As accident from vehicle v join accident a ON a.accident_index = v.accident_index where v.vehicle_Type IS NOT NULL AND v.vehicle_Type != -1 AND (a.accident_severity = 1 or a.accident_severity = 2) group by v.vehicle_type order by accident desc limit 3;' -B -o vehicletype --output_delimiter=','"
   ]
  },
  {
   "cell_type": "code",
   "execution_count": 63,
   "metadata": {
    "collapsed": false
   },
   "outputs": [
    {
     "data": {
      "image/png": "[encoded data removed]",
      "text/plain": [
       "<Figure size 600x400 with 1 Axes>"
      ]
     },
     "metadata": {},
     "output_type": "display_data"
    }
   ],
   "source": [
    "q3=pd.read_csv('vehicletype', names=['Vehicle_Type','total'])\n",
    "plt.title('vehicle type that have most serious and fatal accidents')\n",
    "plt.bar(q3 ['Vehicle_Type'].astype(str), q3['total'])\n",
    "plt.show()"
   ]
  },
  {
   "cell_type": "markdown",
   "metadata": {
    "collapsed": true
   },
   "source": [
    "## Q4: find age band of casualty that have most fatal accidents?\n",
    "Based on the result, age band 7 (36-45 years old got more fatal accident)"
   ]
  },
  {
   "cell_type": "code",
   "execution_count": 64,
   "metadata": {
    "collapsed": false
   },
   "outputs": [
    {
     "name": "stdout",
     "output_type": "stream",
     "text": [
      "+---------+---------------+\n",
      "| ageband | fatalaccident |\n",
      "+---------+---------------+\n",
      "| 7       | 343           |\n",
      "| 3       | 54            |\n",
      "| 5       | 313           |\n",
      "+---------+---------------+\n"
     ]
    },
    {
     "name": "stderr",
     "output_type": "stream",
     "text": [
      "Starting Impala Shell without Kerberos authentication\n",
      "Connected to localhost.localdomain:21000\n",
      "Server version: impalad version 2.2.0-cdh5.4.3 DEBUG (build 517bb0f71cd604a00369254ac6d88394df83e0f6)\n",
      "Query: use RoadGB2\n",
      "Query: select c.age_band_of_casualty as ageBand, count(a.accident_severity) as fatalaccident from casualties c join accident a on a.accident_index = c.accident_index where c.age_band_of_casualty is not null and c.age_band_of_casualty != -1 and (a.accident_severity = 1) group by c.age_band_of_casualty order by \"fatalaccident\" desc limit 3\n",
      "Fetched 3 row(s) in 6.99s\n"
     ]
    }
   ],
   "source": [
    "%%sh\n",
    "impala-shell -q 'use RoadGB2; select c.age_band_of_casualty as ageBand, count(a.accident_severity) as fatalaccident from casualties c join accident a on a.accident_index = c.accident_index where c.age_band_of_casualty is not null and c.age_band_of_casualty != -1 and (a.accident_severity = 1) group by c.age_band_of_casualty order by \"fatalaccident\" desc limit 3;'"
   ]
  },
  {
   "cell_type": "code",
   "execution_count": 65,
   "metadata": {
    "collapsed": false
   },
   "outputs": [
    {
     "name": "stderr",
     "output_type": "stream",
     "text": [
      "Starting Impala Shell without Kerberos authentication\n",
      "Connected to localhost.localdomain:21000\n",
      "Server version: impalad version 2.2.0-cdh5.4.3 DEBUG (build 517bb0f71cd604a00369254ac6d88394df83e0f6)\n",
      "Query: use RoadGB2\n",
      "Query: select c.age_band_of_casualty as ageBand, count(a.accident_severity) as fatalaccident from casualties c join accident a on a.accident_index = c.accident_index where c.age_band_of_casualty is not null and c.age_band_of_casualty != -1 and (a.accident_severity = 1) group by c.age_band_of_casualty order by \"fatalaccident\" desc limit 3\n",
      "Fetched 3 row(s) in 4.24s\n"
     ]
    }
   ],
   "source": [
    "%%sh\n",
    "impala-shell -q 'use RoadGB2; select c.age_band_of_casualty as ageBand, count(a.accident_severity) as fatalaccident from casualties c join accident a on a.accident_index = c.accident_index where c.age_band_of_casualty is not null and c.age_band_of_casualty != -1 and (a.accident_severity = 1) group by c.age_band_of_casualty order by \"fatalaccident\" desc limit 3;' -B -o fatalaccident --output_delimiter=','"
   ]
  },
  {
   "cell_type": "code",
   "execution_count": 66,
   "metadata": {
    "collapsed": false
   },
   "outputs": [
    {
     "data": {
      "image/png": "[encoded data removed]",
      "text/plain": [
       "<Figure size 600x400 with 1 Axes>"
      ]
     },
     "metadata": {},
     "output_type": "display_data"
    }
   ],
   "source": [
    "q4=pd.read_csv('fatalaccident', names=['age_band_of_casualty','total'])\n",
    "plt.title('age band of casualty that have most fatal accidents')\n",
    "plt.bar(q4 ['age_band_of_casualty'].astype(str), q4['total'])\n",
    "plt.show()"
   ]
  },
  {
   "cell_type": "markdown",
   "metadata": {
    "collapsed": true
   },
   "source": [
    "##Q5: group display the slight accident by day of week in west yorkshire police force area?\n",
    "Base on the results, Fridays are more slight accidents happened in Yorkshire police force area and sundays less slight accidents happend."
   ]
  },
  {
   "cell_type": "code",
   "execution_count": 67,
   "metadata": {
    "collapsed": false
   },
   "outputs": [
    {
     "name": "stdout",
     "output_type": "stream",
     "text": [
      "+----------------+-------------+\n",
      "| slightaccident | day_of_week |\n",
      "+----------------+-------------+\n",
      "| 379            | 1           |\n",
      "| 501            | 2           |\n",
      "| 521            | 3           |\n",
      "| 535            | 4           |\n",
      "| 530            | 5           |\n",
      "| 621            | 6           |\n",
      "| 502            | 7           |\n",
      "+----------------+-------------+\n"
     ]
    },
    {
     "name": "stderr",
     "output_type": "stream",
     "text": [
      "Starting Impala Shell without Kerberos authentication\n",
      "Connected to localhost.localdomain:21000\n",
      "Server version: impalad version 2.2.0-cdh5.4.3 DEBUG (build 517bb0f71cd604a00369254ac6d88394df83e0f6)\n",
      "Query: use RoadGB2\n",
      "Query: select count (ac.accident_index) as slightAccident, Day_Of_Week from accident ac where Police_Force = 13 and Accident_Severity = 3 group By Day_Of_week order By Day_of_Week\n",
      "Fetched 7 row(s) in 1.91s\n"
     ]
    }
   ],
   "source": [
    "%%sh\n",
    "impala-shell -q 'use RoadGB2; select count (ac.accident_index) as slightAccident, Day_Of_Week from accident ac where Police_Force = '13' and Accident_Severity = '3' group By Day_Of_week order By Day_of_Week;' "
   ]
  },
  {
   "cell_type": "code",
   "execution_count": 68,
   "metadata": {
    "collapsed": false
   },
   "outputs": [
    {
     "name": "stderr",
     "output_type": "stream",
     "text": [
      "Starting Impala Shell without Kerberos authentication\n",
      "Connected to localhost.localdomain:21000\n",
      "Server version: impalad version 2.2.0-cdh5.4.3 DEBUG (build 517bb0f71cd604a00369254ac6d88394df83e0f6)\n",
      "Query: use RoadGB2\n",
      "Query: select count (ac.accident_index) as slightAccident, Day_Of_Week from accident ac where Police_Force = 13 and Accident_Severity = 3 group By Day_Of_week order By Day_of_Week\n",
      "Fetched 7 row(s) in 2.09s\n"
     ]
    }
   ],
   "source": [
    "%%sh\n",
    "impala-shell -q 'use RoadGB2; select count (ac.accident_index) as slightAccident, Day_Of_Week from accident ac where Police_Force = '13' and Accident_Severity = '3' group By Day_Of_week order By Day_of_Week;' -B -o dayofweek --output_delimiter=','"
   ]
  },
  {
   "cell_type": "code",
   "execution_count": 69,
   "metadata": {
    "collapsed": false
   },
   "outputs": [
    {
     "data": {
      "image/png": "[encoded data removed]",
      "text/plain": [
       "<Figure size 600x400 with 1 Axes>"
      ]
     },
     "metadata": {},
     "output_type": "display_data"
    }
   ],
   "source": [
    "q5=pd.read_csv('dayofweek', names=['total','day_of_week'])\n",
    "plt.title('Slight accident in West Yorkshir')\n",
    "plt.bar(q5 ['day_of_week'].astype(str), q5['total'])\n",
    "plt.show()"
   ]
  },
  {
   "cell_type": "markdown",
   "metadata": {
    "collapsed": true
   },
   "source": [
    "##Q6: find pick hour that have most fatal accidents in dual carriageway?\n",
    "As can be seen peak hour in dual carriageway that always most fatal accident happend is in 5pm and 7pm. "
   ]
  },
  {
   "cell_type": "code",
   "execution_count": 70,
   "metadata": {
    "collapsed": false
   },
   "outputs": [
    {
     "name": "stdout",
     "output_type": "stream",
     "text": [
      "+----------+-----------+\n",
      "| peakhour | accidents |\n",
      "+----------+-----------+\n",
      "| 19       | 23        |\n",
      "| 17       | 23        |\n",
      "| 14       | 22        |\n",
      "| 20       | 21        |\n",
      "| 16       | 20        |\n",
      "+----------+-----------+\n"
     ]
    },
    {
     "name": "stderr",
     "output_type": "stream",
     "text": [
      "Starting Impala Shell without Kerberos authentication\n",
      "Connected to localhost.localdomain:21000\n",
      "Server version: impalad version 2.2.0-cdh5.4.3 DEBUG (build 517bb0f71cd604a00369254ac6d88394df83e0f6)\n",
      "Query: use RoadGB2\n",
      "Query: select hour(from_unixtime(unix_timestamp(concat(`date`,time),\"dd/MM/yyyyHH:mm\"))) as peakhour, count(*) as accidents from accident where Accident_Severity = 1 and Road_type = 3 group By peakhour order By accidents desc limit 5\n",
      "Fetched 5 row(s) in 2.79s\n"
     ]
    }
   ],
   "source": [
    "%%sh\n",
    "impala-shell -q 'use RoadGB2; select hour(from_unixtime(unix_timestamp(concat(`date`,time),\"dd/MM/yyyyHH:mm\"))) as peakhour, count(*) as accidents from accident where Accident_Severity = '1' and Road_type = '3' group By peakhour order By accidents desc limit 5;'"
   ]
  },
  {
   "cell_type": "code",
   "execution_count": 71,
   "metadata": {
    "collapsed": false
   },
   "outputs": [
    {
     "name": "stderr",
     "output_type": "stream",
     "text": [
      "Starting Impala Shell without Kerberos authentication\n",
      "Connected to localhost.localdomain:21000\n",
      "Server version: impalad version 2.2.0-cdh5.4.3 DEBUG (build 517bb0f71cd604a00369254ac6d88394df83e0f6)\n",
      "Query: use RoadGB2\n",
      "Query: select hour(from_unixtime(unix_timestamp(concat(`date`,time),\"dd/MM/yyyyHH:mm\"))) as peakhour, count(*) as accidents from accident where Accident_Severity = 1 and Road_type = 3 group By peakhour order By accidents desc limit 5\n",
      "Fetched 5 row(s) in 3.00s\n"
     ]
    }
   ],
   "source": [
    "%%sh\n",
    "impala-shell -q 'use RoadGB2; select hour(from_unixtime(unix_timestamp(concat(`date`,time),\"dd/MM/yyyyHH:mm\"))) as peakhour, count(*) as accidents from accident where Accident_Severity = '1' and Road_type = '3' group By peakhour order By accidents desc limit 5;' -B -o peakhour --output_delimiter=','"
   ]
  },
  {
   "cell_type": "code",
   "execution_count": 72,
   "metadata": {
    "collapsed": false
   },
   "outputs": [
    {
     "data": {
      "image/png": "[encoded data removed]",
      "text/plain": [
       "<Figure size 600x400 with 1 Axes>"
      ]
     },
     "metadata": {},
     "output_type": "display_data"
    }
   ],
   "source": [
    "q6=pd.read_csv('peakhour', names=['hour','total'])\n",
    "plt.title('pick hour in dual carriageway')\n",
    "plt.bar(q6 ['hour'].astype(str), q6['total'])\n",
    "plt.show()"
   ]
  },
  {
   "cell_type": "markdown",
   "metadata": {
    "collapsed": true
   },
   "source": [
    "##Q7: find the area that have most fatal motorcycle accidents?\n",
    "The area have most fatal motorcycle accidents is West Lindsey."
   ]
  },
  {
   "cell_type": "code",
   "execution_count": 73,
   "metadata": {
    "collapsed": false
   },
   "outputs": [
    {
     "name": "stdout",
     "output_type": "stream",
     "text": [
      "+------+-----------+\n",
      "| area | accidents |\n",
      "+------+-----------+\n",
      "| 356  | 8         |\n",
      "| 476  | 7         |\n",
      "| 130  | 7         |\n",
      "| 381  | 7         |\n",
      "| 596  | 6         |\n",
      "+------+-----------+\n"
     ]
    },
    {
     "name": "stderr",
     "output_type": "stream",
     "text": [
      "Starting Impala Shell without Kerberos authentication\n",
      "Connected to localhost.localdomain:21000\n",
      "Server version: impalad version 2.2.0-cdh5.4.3 DEBUG (build 517bb0f71cd604a00369254ac6d88394df83e0f6)\n",
      "Query: use RoadGB2\n",
      "Query: select a.local_authority_district as area, count(*) as accidents from accident a join vehicle v on v.accident_index = a.accident_index where a.accident_severity = 1 and v.vehicle_type IN(2,3,4,5,23,97) group by area order by accidents desc limit 5\n",
      "Fetched 5 row(s) in 3.64s\n"
     ]
    }
   ],
   "source": [
    "%%sh\n",
    "impala-shell -q 'use RoadGB2; select a.local_authority_district as area, count(*) as accidents from accident a join vehicle v on v.accident_index = a.accident_index where a.accident_severity = '1' and v.vehicle_type IN(2,3,4,5,23,97) group by area order by accidents desc limit 5;'"
   ]
  },
  {
   "cell_type": "code",
   "execution_count": 74,
   "metadata": {
    "collapsed": false
   },
   "outputs": [
    {
     "name": "stderr",
     "output_type": "stream",
     "text": [
      "Starting Impala Shell without Kerberos authentication\n",
      "Connected to localhost.localdomain:21000\n",
      "Server version: impalad version 2.2.0-cdh5.4.3 DEBUG (build 517bb0f71cd604a00369254ac6d88394df83e0f6)\n",
      "Query: use RoadGB2\n",
      "Query: select a.local_authority_district as area, count(*) as accidents from accident a join vehicle v on v.accident_index = a.accident_index where a.accident_severity = 1 and v.vehicle_type IN(2,3,4,5,23,97) group by area order by accidents desc limit 5\n",
      "Fetched 5 row(s) in 4.01s\n"
     ]
    }
   ],
   "source": [
    "%%sh\n",
    "impala-shell -q 'use RoadGB2; select a.local_authority_district as area, count(*) as accidents from accident a join vehicle v on v.accident_index = a.accident_index where a.accident_severity = '1' and v.vehicle_type IN(2,3,4,5,23,97) group by area order by accidents desc limit 5;' -B -o area --output_delimiter=','"
   ]
  },
  {
   "cell_type": "code",
   "execution_count": 75,
   "metadata": {
    "collapsed": false
   },
   "outputs": [
    {
     "data": {
      "image/png": "[encoded data removed]",
      "text/plain": [
       "<Figure size 600x400 with 1 Axes>"
      ]
     },
     "metadata": {},
     "output_type": "display_data"
    }
   ],
   "source": [
    "q7=pd.read_csv('area', names=['local_authority_district','total'])\n",
    "plt.title('area that have most fatal motorcycle accidents')\n",
    "plt.bar(q7 ['local_authority_district'].astype(str), q7['total'])\n",
    "plt.show()"
   ]
  },
  {
   "cell_type": "markdown",
   "metadata": {},
   "source": [
    "###Some information from the data\n",
    "#### Display the fatal accident by day of week in Greater Manchester police force area?\n",
    "Based on the results the day there is most fatal accident in Greater Manchester is Sunday."
   ]
  },
  {
   "cell_type": "code",
   "execution_count": 76,
   "metadata": {
    "collapsed": false
   },
   "outputs": [
    {
     "name": "stdout",
     "output_type": "stream",
     "text": [
      "+---------------+-------------+\n",
      "| fatalaccident | day_of_week |\n",
      "+---------------+-------------+\n",
      "| 12            | 1           |\n",
      "| 3             | 2           |\n",
      "| 9             | 3           |\n",
      "| 5             | 4           |\n",
      "| 5             | 5           |\n",
      "| 9             | 6           |\n",
      "| 7             | 7           |\n",
      "+---------------+-------------+\n"
     ]
    },
    {
     "name": "stderr",
     "output_type": "stream",
     "text": [
      "Starting Impala Shell without Kerberos authentication\n",
      "Connected to localhost.localdomain:21000\n",
      "Server version: impalad version 2.2.0-cdh5.4.3 DEBUG (build 517bb0f71cd604a00369254ac6d88394df83e0f6)\n",
      "Query: use RoadGB2\n",
      "Query: select count (ac.accident_index) as fatalAccident, Day_Of_Week from accident ac where Police_Force = 6 and Accident_Severity = 1 group By Day_Of_week order By Day_of_Week\n",
      "Fetched 7 row(s) in 2.84s\n"
     ]
    }
   ],
   "source": [
    "%%sh\n",
    "impala-shell -q 'use RoadGB2; select count (ac.accident_index) as fatalAccident, Day_Of_Week from accident ac where Police_Force = '6' and Accident_Severity = '1' group By Day_Of_week order By Day_of_Week;' "
   ]
  },
  {
   "cell_type": "code",
   "execution_count": 77,
   "metadata": {
    "collapsed": false
   },
   "outputs": [
    {
     "name": "stderr",
     "output_type": "stream",
     "text": [
      "Starting Impala Shell without Kerberos authentication\n",
      "Connected to localhost.localdomain:21000\n",
      "Server version: impalad version 2.2.0-cdh5.4.3 DEBUG (build 517bb0f71cd604a00369254ac6d88394df83e0f6)\n",
      "Query: use RoadGB2\n",
      "Query: select count (ac.accident_index) as fatalAccident, Day_Of_Week from accident ac where Police_Force = 6 and Accident_Severity = 1 group By Day_Of_week order By Day_of_Week\n",
      "Fetched 7 row(s) in 1.91s\n"
     ]
    }
   ],
   "source": [
    "%%sh\n",
    "impala-shell -q 'use RoadGB2; select count (ac.accident_index) as fatalAccident, Day_Of_Week from accident ac where Police_Force = '6' and Accident_Severity = '1' group By Day_Of_week order By Day_of_Week;' -B -o dayofweek --output_delimiter=','"
   ]
  },
  {
   "cell_type": "code",
   "execution_count": 78,
   "metadata": {
    "collapsed": false
   },
   "outputs": [
    {
     "data": {
      "image/png": "[encoded data removed]",
      "text/plain": [
       "<Figure size 600x400 with 1 Axes>"
      ]
     },
     "metadata": {},
     "output_type": "display_data"
    }
   ],
   "source": [
    "Info1=pd.read_csv('dayofweek', names=['total','day_of_week'])\n",
    "plt.title('Fatal accident in Greater Manchester')\n",
    "plt.bar(Info1 ['day_of_week'].astype(str), Info1['total'])\n",
    "plt.show()"
   ]
  },
  {
   "cell_type": "markdown",
   "metadata": {},
   "source": [
    "###The casualty type that have fatal accidents\n",
    "Result shows casualty type in cars had most fatal accidents that around 3136."
   ]
  },
  {
   "cell_type": "code",
   "execution_count": 79,
   "metadata": {
    "collapsed": false
   },
   "outputs": [
    {
     "name": "stdout",
     "output_type": "stream",
     "text": [
      "+--------------+----------+\n",
      "| casualtytype | accident |\n",
      "+--------------+----------+\n",
      "| 9            | 1568     |\n",
      "+--------------+----------+\n"
     ]
    },
    {
     "name": "stderr",
     "output_type": "stream",
     "text": [
      "Starting Impala Shell without Kerberos authentication\n",
      "Connected to localhost.localdomain:21000\n",
      "Server version: impalad version 2.2.0-cdh5.4.3 DEBUG (build 517bb0f71cd604a00369254ac6d88394df83e0f6)\n",
      "Query: use RoadGB2\n",
      "Query: select c.Casualty_Type as CasualtyType, count(*) As accident from casualties c join accident a ON a.accident_index = c.accident_index where c.Casualty_Type IS NOT NULL AND c.Casualty_Type != -1 AND (a.accident_severity = 1) group by c.Casualty_Type order by accident desc limit 1\n",
      "Fetched 1 row(s) in 2.65s\n"
     ]
    }
   ],
   "source": [
    "%%sh\n",
    "impala-shell -q 'use RoadGB2; select c.Casualty_Type as CasualtyType, count(*) As accident from casualties c join accident a ON a.accident_index = c.accident_index where c.Casualty_Type IS NOT NULL AND c.Casualty_Type != -1 AND (a.accident_severity = 1) group by c.Casualty_Type order by accident desc limit 1;'"
   ]
  },
  {
   "cell_type": "markdown",
   "metadata": {},
   "source": [
    "##Data Pre-processing\n",
    "Pre-processing data is a technique to discover data in data mining and big data (figure-1). Fast growing of data size in business, industrial, academic and science application. \n",
    "Generally pre-processing data is a powerful tool that can process complex data and it consumes time. Data pre-processing includes data cleaning, normalization, transformation, data integration, noise identification and missing values imputation. Then final data can be reliable and suitable source for analysis.\n",
    "### Data Exploration"
   ]
  },
  {
   "cell_type": "markdown",
   "metadata": {},
   "source": [
    "#### Reading the dataset in a dataframe using Pandas\n",
    "take a look at the data, import accident table and see the 5 row at the top and at the end or tail.\n",
    "Accidents includes 32 variables, detailing the location, time, date, lighting, weather, and road surface conditions, number of causalities, road type and other variables. "
   ]
  },
  {
   "cell_type": "code",
   "execution_count": 82,
   "metadata": {
    "collapsed": false
   },
   "outputs": [
    {
     "data": {
      "text/html": [
       "<div>\n",
       "<style scoped>\n",
       "    .dataframe tbody tr th:only-of-type {\n",
       "        vertical-align: middle;\n",
       "    }\n",
       "\n",
       "    .dataframe tbody tr th {\n",
       "        vertical-align: top;\n",
       "    }\n",
       "\n",
       "    .dataframe thead th {\n",
       "        text-align: right;\n",
       "    }\n",
       "</style>\n",
       "<table border=\"1\" class=\"dataframe\">\n",
       "  <thead>\n",
       "    <tr style=\"text-align: right;\">\n",
       "      <th></th>\n",
       "      <th>Accident_Index</th>\n",
       "      <th>Location_Easting_OSGR</th>\n",
       "      <th>Location_Northing_OSGR</th>\n",
       "      <th>Longitude</th>\n",
       "      <th>Latitude</th>\n",
       "      <th>Police_Force</th>\n",
       "      <th>Accident_Severity</th>\n",
       "      <th>Number_of_Vehicles</th>\n",
       "      <th>Number_of_Casualties</th>\n",
       "      <th>Date</th>\n",
       "      <th>...</th>\n",
       "      <th>Pedestrian_Crossing-Human_Control</th>\n",
       "      <th>Pedestrian_Crossing-Physical_Facilities</th>\n",
       "      <th>Light_Conditions</th>\n",
       "      <th>Weather_Conditions</th>\n",
       "      <th>Road_Surface_Conditions</th>\n",
       "      <th>Special_Conditions_at_Site</th>\n",
       "      <th>Carriageway_Hazards</th>\n",
       "      <th>Urban_or_Rural_Area</th>\n",
       "      <th>Did_Police_Officer_Attend_Scene_of_Accident</th>\n",
       "      <th>LSOA_of_Accident_Location</th>\n",
       "    </tr>\n",
       "  </thead>\n",
       "  <tbody>\n",
       "    <tr>\n",
       "      <th>0</th>\n",
       "      <td>2017010001708</td>\n",
       "      <td>532920.0</td>\n",
       "      <td>196330.0</td>\n",
       "      <td>-0.080107</td>\n",
       "      <td>51.650061</td>\n",
       "      <td>1</td>\n",
       "      <td>1</td>\n",
       "      <td>2</td>\n",
       "      <td>3</td>\n",
       "      <td>05/08/2017</td>\n",
       "      <td>...</td>\n",
       "      <td>0</td>\n",
       "      <td>0</td>\n",
       "      <td>4</td>\n",
       "      <td>1</td>\n",
       "      <td>1</td>\n",
       "      <td>0</td>\n",
       "      <td>0</td>\n",
       "      <td>1</td>\n",
       "      <td>1</td>\n",
       "      <td>E01001450</td>\n",
       "    </tr>\n",
       "    <tr>\n",
       "      <th>1</th>\n",
       "      <td>2017010009342</td>\n",
       "      <td>526790.0</td>\n",
       "      <td>181970.0</td>\n",
       "      <td>-0.173845</td>\n",
       "      <td>51.522425</td>\n",
       "      <td>1</td>\n",
       "      <td>3</td>\n",
       "      <td>2</td>\n",
       "      <td>1</td>\n",
       "      <td>01/01/2017</td>\n",
       "      <td>...</td>\n",
       "      <td>0</td>\n",
       "      <td>0</td>\n",
       "      <td>4</td>\n",
       "      <td>1</td>\n",
       "      <td>2</td>\n",
       "      <td>0</td>\n",
       "      <td>0</td>\n",
       "      <td>1</td>\n",
       "      <td>1</td>\n",
       "      <td>E01004702</td>\n",
       "    </tr>\n",
       "    <tr>\n",
       "      <th>2</th>\n",
       "      <td>2017010009344</td>\n",
       "      <td>535200.0</td>\n",
       "      <td>181260.0</td>\n",
       "      <td>-0.052969</td>\n",
       "      <td>51.514096</td>\n",
       "      <td>1</td>\n",
       "      <td>3</td>\n",
       "      <td>3</td>\n",
       "      <td>1</td>\n",
       "      <td>01/01/2017</td>\n",
       "      <td>...</td>\n",
       "      <td>0</td>\n",
       "      <td>0</td>\n",
       "      <td>4</td>\n",
       "      <td>1</td>\n",
       "      <td>1</td>\n",
       "      <td>0</td>\n",
       "      <td>0</td>\n",
       "      <td>1</td>\n",
       "      <td>1</td>\n",
       "      <td>E01004298</td>\n",
       "    </tr>\n",
       "    <tr>\n",
       "      <th>3</th>\n",
       "      <td>2017010009348</td>\n",
       "      <td>534340.0</td>\n",
       "      <td>193560.0</td>\n",
       "      <td>-0.060658</td>\n",
       "      <td>51.624832</td>\n",
       "      <td>1</td>\n",
       "      <td>3</td>\n",
       "      <td>2</td>\n",
       "      <td>1</td>\n",
       "      <td>01/01/2017</td>\n",
       "      <td>...</td>\n",
       "      <td>0</td>\n",
       "      <td>4</td>\n",
       "      <td>4</td>\n",
       "      <td>2</td>\n",
       "      <td>2</td>\n",
       "      <td>0</td>\n",
       "      <td>0</td>\n",
       "      <td>1</td>\n",
       "      <td>1</td>\n",
       "      <td>E01001429</td>\n",
       "    </tr>\n",
       "    <tr>\n",
       "      <th>4</th>\n",
       "      <td>2017010009350</td>\n",
       "      <td>533680.0</td>\n",
       "      <td>187820.0</td>\n",
       "      <td>-0.072372</td>\n",
       "      <td>51.573408</td>\n",
       "      <td>1</td>\n",
       "      <td>2</td>\n",
       "      <td>1</td>\n",
       "      <td>1</td>\n",
       "      <td>01/01/2017</td>\n",
       "      <td>...</td>\n",
       "      <td>0</td>\n",
       "      <td>5</td>\n",
       "      <td>4</td>\n",
       "      <td>1</td>\n",
       "      <td>2</td>\n",
       "      <td>0</td>\n",
       "      <td>0</td>\n",
       "      <td>1</td>\n",
       "      <td>1</td>\n",
       "      <td>E01001808</td>\n",
       "    </tr>\n",
       "  </tbody>\n",
       "</table>\n",
       "<p>5 rows × 32 columns</p>\n",
       "</div>"
      ],
      "text/plain": [
       "  Accident_Index  Location_Easting_OSGR  Location_Northing_OSGR  Longitude  \\\n",
       "0  2017010001708               532920.0                196330.0  -0.080107   \n",
       "1  2017010009342               526790.0                181970.0  -0.173845   \n",
       "2  2017010009344               535200.0                181260.0  -0.052969   \n",
       "3  2017010009348               534340.0                193560.0  -0.060658   \n",
       "4  2017010009350               533680.0                187820.0  -0.072372   \n",
       "\n",
       "    Latitude  Police_Force  Accident_Severity  Number_of_Vehicles  \\\n",
       "0  51.650061             1                  1                   2   \n",
       "1  51.522425             1                  3                   2   \n",
       "2  51.514096             1                  3                   3   \n",
       "3  51.624832             1                  3                   2   \n",
       "4  51.573408             1                  2                   1   \n",
       "\n",
       "   Number_of_Casualties        Date  ...  Pedestrian_Crossing-Human_Control  \\\n",
       "0                     3  05/08/2017  ...                                  0   \n",
       "1                     1  01/01/2017  ...                                  0   \n",
       "2                     1  01/01/2017  ...                                  0   \n",
       "3                     1  01/01/2017  ...                                  0   \n",
       "4                     1  01/01/2017  ...                                  0   \n",
       "\n",
       "  Pedestrian_Crossing-Physical_Facilities  Light_Conditions  \\\n",
       "0                                       0                 4   \n",
       "1                                       0                 4   \n",
       "2                                       0                 4   \n",
       "3                                       4                 4   \n",
       "4                                       5                 4   \n",
       "\n",
       "  Weather_Conditions  Road_Surface_Conditions  Special_Conditions_at_Site  \\\n",
       "0                  1                        1                           0   \n",
       "1                  1                        2                           0   \n",
       "2                  1                        1                           0   \n",
       "3                  2                        2                           0   \n",
       "4                  1                        2                           0   \n",
       "\n",
       "   Carriageway_Hazards  Urban_or_Rural_Area  \\\n",
       "0                    0                    1   \n",
       "1                    0                    1   \n",
       "2                    0                    1   \n",
       "3                    0                    1   \n",
       "4                    0                    1   \n",
       "\n",
       "   Did_Police_Officer_Attend_Scene_of_Accident  LSOA_of_Accident_Location  \n",
       "0                                            1                  E01001450  \n",
       "1                                            1                  E01004702  \n",
       "2                                            1                  E01004298  \n",
       "3                                            1                  E01001429  \n",
       "4                                            1                  E01001808  \n",
       "\n",
       "[5 rows x 32 columns]"
      ]
     },
     "execution_count": 82,
     "metadata": {},
     "output_type": "execute_result"
    }
   ],
   "source": [
    "filename = 'Acc.csv'\n",
    "dataAcc = pd.read_csv('Acc.csv')\n",
    "dataAcc.head()"
   ]
  },
  {
   "cell_type": "code",
   "execution_count": 81,
   "metadata": {
    "collapsed": false
   },
   "outputs": [
    {
     "data": {
      "text/html": [
       "<div>\n",
       "<style scoped>\n",
       "    .dataframe tbody tr th:only-of-type {\n",
       "        vertical-align: middle;\n",
       "    }\n",
       "\n",
       "    .dataframe tbody tr th {\n",
       "        vertical-align: top;\n",
       "    }\n",
       "\n",
       "    .dataframe thead th {\n",
       "        text-align: right;\n",
       "    }\n",
       "</style>\n",
       "<table border=\"1\" class=\"dataframe\">\n",
       "  <thead>\n",
       "    <tr style=\"text-align: right;\">\n",
       "      <th></th>\n",
       "      <th>Accident_Index</th>\n",
       "      <th>Location_Easting_OSGR</th>\n",
       "      <th>Location_Northing_OSGR</th>\n",
       "      <th>Longitude</th>\n",
       "      <th>Latitude</th>\n",
       "      <th>Police_Force</th>\n",
       "      <th>Accident_Severity</th>\n",
       "      <th>Number_of_Vehicles</th>\n",
       "      <th>Number_of_Casualties</th>\n",
       "      <th>Date</th>\n",
       "      <th>...</th>\n",
       "      <th>Pedestrian_Crossing-Human_Control</th>\n",
       "      <th>Pedestrian_Crossing-Physical_Facilities</th>\n",
       "      <th>Light_Conditions</th>\n",
       "      <th>Weather_Conditions</th>\n",
       "      <th>Road_Surface_Conditions</th>\n",
       "      <th>Special_Conditions_at_Site</th>\n",
       "      <th>Carriageway_Hazards</th>\n",
       "      <th>Urban_or_Rural_Area</th>\n",
       "      <th>Did_Police_Officer_Attend_Scene_of_Accident</th>\n",
       "      <th>LSOA_of_Accident_Location</th>\n",
       "    </tr>\n",
       "  </thead>\n",
       "  <tbody>\n",
       "    <tr>\n",
       "      <th>129977</th>\n",
       "      <td>2017984121017</td>\n",
       "      <td>308024.0</td>\n",
       "      <td>602926.0</td>\n",
       "      <td>-3.450645</td>\n",
       "      <td>55.311793</td>\n",
       "      <td>98</td>\n",
       "      <td>3</td>\n",
       "      <td>1</td>\n",
       "      <td>1</td>\n",
       "      <td>17/12/2017</td>\n",
       "      <td>...</td>\n",
       "      <td>0</td>\n",
       "      <td>0</td>\n",
       "      <td>1</td>\n",
       "      <td>8</td>\n",
       "      <td>4</td>\n",
       "      <td>0</td>\n",
       "      <td>0</td>\n",
       "      <td>2</td>\n",
       "      <td>1</td>\n",
       "      <td>NaN</td>\n",
       "    </tr>\n",
       "    <tr>\n",
       "      <th>129978</th>\n",
       "      <td>2017984121217</td>\n",
       "      <td>331826.0</td>\n",
       "      <td>567154.0</td>\n",
       "      <td>-3.067116</td>\n",
       "      <td>54.994285</td>\n",
       "      <td>98</td>\n",
       "      <td>3</td>\n",
       "      <td>1</td>\n",
       "      <td>1</td>\n",
       "      <td>15/12/2017</td>\n",
       "      <td>...</td>\n",
       "      <td>0</td>\n",
       "      <td>0</td>\n",
       "      <td>1</td>\n",
       "      <td>1</td>\n",
       "      <td>1</td>\n",
       "      <td>0</td>\n",
       "      <td>6</td>\n",
       "      <td>1</td>\n",
       "      <td>2</td>\n",
       "      <td>NaN</td>\n",
       "    </tr>\n",
       "    <tr>\n",
       "      <th>129979</th>\n",
       "      <td>2017984121717</td>\n",
       "      <td>321809.0</td>\n",
       "      <td>573939.0</td>\n",
       "      <td>-3.225506</td>\n",
       "      <td>55.053767</td>\n",
       "      <td>98</td>\n",
       "      <td>3</td>\n",
       "      <td>2</td>\n",
       "      <td>1</td>\n",
       "      <td>18/12/2017</td>\n",
       "      <td>...</td>\n",
       "      <td>0</td>\n",
       "      <td>0</td>\n",
       "      <td>1</td>\n",
       "      <td>1</td>\n",
       "      <td>2</td>\n",
       "      <td>0</td>\n",
       "      <td>0</td>\n",
       "      <td>2</td>\n",
       "      <td>1</td>\n",
       "      <td>NaN</td>\n",
       "    </tr>\n",
       "    <tr>\n",
       "      <th>129980</th>\n",
       "      <td>2017984122317</td>\n",
       "      <td>310467.0</td>\n",
       "      <td>604501.0</td>\n",
       "      <td>-3.412672</td>\n",
       "      <td>55.326392</td>\n",
       "      <td>98</td>\n",
       "      <td>3</td>\n",
       "      <td>1</td>\n",
       "      <td>1</td>\n",
       "      <td>18/07/2017</td>\n",
       "      <td>...</td>\n",
       "      <td>0</td>\n",
       "      <td>0</td>\n",
       "      <td>1</td>\n",
       "      <td>1</td>\n",
       "      <td>1</td>\n",
       "      <td>0</td>\n",
       "      <td>0</td>\n",
       "      <td>2</td>\n",
       "      <td>1</td>\n",
       "      <td>NaN</td>\n",
       "    </tr>\n",
       "    <tr>\n",
       "      <th>129981</th>\n",
       "      <td>2017984122617</td>\n",
       "      <td>318705.0</td>\n",
       "      <td>566886.0</td>\n",
       "      <td>-3.272073</td>\n",
       "      <td>54.989905</td>\n",
       "      <td>98</td>\n",
       "      <td>2</td>\n",
       "      <td>2</td>\n",
       "      <td>2</td>\n",
       "      <td>20/12/2017</td>\n",
       "      <td>...</td>\n",
       "      <td>0</td>\n",
       "      <td>0</td>\n",
       "      <td>1</td>\n",
       "      <td>7</td>\n",
       "      <td>2</td>\n",
       "      <td>0</td>\n",
       "      <td>0</td>\n",
       "      <td>2</td>\n",
       "      <td>1</td>\n",
       "      <td>NaN</td>\n",
       "    </tr>\n",
       "  </tbody>\n",
       "</table>\n",
       "<p>5 rows × 32 columns</p>\n",
       "</div>"
      ],
      "text/plain": [
       "       Accident_Index  Location_Easting_OSGR  Location_Northing_OSGR  \\\n",
       "129977  2017984121017               308024.0                602926.0   \n",
       "129978  2017984121217               331826.0                567154.0   \n",
       "129979  2017984121717               321809.0                573939.0   \n",
       "129980  2017984122317               310467.0                604501.0   \n",
       "129981  2017984122617               318705.0                566886.0   \n",
       "\n",
       "        Longitude   Latitude  Police_Force  Accident_Severity  \\\n",
       "129977  -3.450645  55.311793            98                  3   \n",
       "129978  -3.067116  54.994285            98                  3   \n",
       "129979  -3.225506  55.053767            98                  3   \n",
       "129980  -3.412672  55.326392            98                  3   \n",
       "129981  -3.272073  54.989905            98                  2   \n",
       "\n",
       "        Number_of_Vehicles  Number_of_Casualties        Date  ...  \\\n",
       "129977                   1                     1  17/12/2017  ...   \n",
       "129978                   1                     1  15/12/2017  ...   \n",
       "129979                   2                     1  18/12/2017  ...   \n",
       "129980                   1                     1  18/07/2017  ...   \n",
       "129981                   2                     2  20/12/2017  ...   \n",
       "\n",
       "        Pedestrian_Crossing-Human_Control  \\\n",
       "129977                                  0   \n",
       "129978                                  0   \n",
       "129979                                  0   \n",
       "129980                                  0   \n",
       "129981                                  0   \n",
       "\n",
       "       Pedestrian_Crossing-Physical_Facilities  Light_Conditions  \\\n",
       "129977                                       0                 1   \n",
       "129978                                       0                 1   \n",
       "129979                                       0                 1   \n",
       "129980                                       0                 1   \n",
       "129981                                       0                 1   \n",
       "\n",
       "       Weather_Conditions  Road_Surface_Conditions  \\\n",
       "129977                  8                        4   \n",
       "129978                  1                        1   \n",
       "129979                  1                        2   \n",
       "129980                  1                        1   \n",
       "129981                  7                        2   \n",
       "\n",
       "        Special_Conditions_at_Site  Carriageway_Hazards  Urban_or_Rural_Area  \\\n",
       "129977                           0                    0                    2   \n",
       "129978                           0                    6                    1   \n",
       "129979                           0                    0                    2   \n",
       "129980                           0                    0                    2   \n",
       "129981                           0                    0                    2   \n",
       "\n",
       "        Did_Police_Officer_Attend_Scene_of_Accident  LSOA_of_Accident_Location  \n",
       "129977                                            1                        NaN  \n",
       "129978                                            2                        NaN  \n",
       "129979                                            1                        NaN  \n",
       "129980                                            1                        NaN  \n",
       "129981                                            1                        NaN  \n",
       "\n",
       "[5 rows x 32 columns]"
      ]
     },
     "execution_count": 81,
     "metadata": {},
     "output_type": "execute_result"
    }
   ],
   "source": [
    "dataAcc.tail()"
   ]
  },
  {
   "cell_type": "code",
   "execution_count": 83,
   "metadata": {
    "collapsed": false
   },
   "outputs": [
    {
     "data": {
      "text/plain": [
       "Index([u'Accident_Index', u'Location_Easting_OSGR', u'Location_Northing_OSGR',\n",
       "       u'Longitude', u'Latitude', u'Police_Force', u'Accident_Severity',\n",
       "       u'Number_of_Vehicles', u'Number_of_Casualties', u'Date', u'Day_of_Week',\n",
       "       u'Time', u'Local_Authority_(District)', u'Local_Authority_(Highway)',\n",
       "       u'1st_Road_Class', u'1st_Road_Number', u'Road_Type', u'Speed_limit',\n",
       "       u'Junction_Detail', u'Junction_Control', u'2nd_Road_Class',\n",
       "       u'2nd_Road_Number', u'Pedestrian_Crossing-Human_Control',\n",
       "       u'Pedestrian_Crossing-Physical_Facilities', u'Light_Conditions',\n",
       "       u'Weather_Conditions', u'Road_Surface_Conditions',\n",
       "       u'Special_Conditions_at_Site', u'Carriageway_Hazards',\n",
       "       u'Urban_or_Rural_Area', u'Did_Police_Officer_Attend_Scene_of_Accident',\n",
       "       u'LSOA_of_Accident_Location'],\n",
       "      dtype='object')"
      ]
     },
     "execution_count": 83,
     "metadata": {},
     "output_type": "execute_result"
    }
   ],
   "source": [
    "dataAcc.columns"
   ]
  },
  {
   "cell_type": "code",
   "execution_count": 84,
   "metadata": {
    "collapsed": false
   },
   "outputs": [
    {
     "data": {
      "text/plain": [
       "array([[2017010001708, 532920.0, 196330.0, ..., 1, 1, 'E01001450'],\n",
       "       [2017010009342, 526790.0, 181970.0, ..., 1, 1, 'E01004702'],\n",
       "       [2017010009344, 535200.0, 181260.0, ..., 1, 1, 'E01004298'],\n",
       "       ...,\n",
       "       ['2017984121717', 321809.0, 573939.0, ..., 2, 1, nan],\n",
       "       ['2017984122317', 310467.0, 604501.0, ..., 2, 1, nan],\n",
       "       ['2017984122617', 318705.0, 566886.0, ..., 2, 1, nan]],\n",
       "      dtype=object)"
      ]
     },
     "execution_count": 84,
     "metadata": {},
     "output_type": "execute_result"
    }
   ],
   "source": [
    "dataAcc.to_numpy()"
   ]
  },
  {
   "cell_type": "markdown",
   "metadata": {},
   "source": [
    "#### Describe accident dataset and see the summary result."
   ]
  },
  {
   "cell_type": "code",
   "execution_count": 85,
   "metadata": {
    "collapsed": false
   },
   "outputs": [
    {
     "data": {
      "text/html": [
       "<div>\n",
       "<style scoped>\n",
       "    .dataframe tbody tr th:only-of-type {\n",
       "        vertical-align: middle;\n",
       "    }\n",
       "\n",
       "    .dataframe tbody tr th {\n",
       "        vertical-align: top;\n",
       "    }\n",
       "\n",
       "    .dataframe thead th {\n",
       "        text-align: right;\n",
       "    }\n",
       "</style>\n",
       "<table border=\"1\" class=\"dataframe\">\n",
       "  <thead>\n",
       "    <tr style=\"text-align: right;\">\n",
       "      <th></th>\n",
       "      <th>Location_Easting_OSGR</th>\n",
       "      <th>Location_Northing_OSGR</th>\n",
       "      <th>Longitude</th>\n",
       "      <th>Latitude</th>\n",
       "      <th>Police_Force</th>\n",
       "      <th>Accident_Severity</th>\n",
       "      <th>Number_of_Vehicles</th>\n",
       "      <th>Number_of_Casualties</th>\n",
       "      <th>Day_of_Week</th>\n",
       "      <th>Local_Authority_(District)</th>\n",
       "      <th>...</th>\n",
       "      <th>2nd_Road_Number</th>\n",
       "      <th>Pedestrian_Crossing-Human_Control</th>\n",
       "      <th>Pedestrian_Crossing-Physical_Facilities</th>\n",
       "      <th>Light_Conditions</th>\n",
       "      <th>Weather_Conditions</th>\n",
       "      <th>Road_Surface_Conditions</th>\n",
       "      <th>Special_Conditions_at_Site</th>\n",
       "      <th>Carriageway_Hazards</th>\n",
       "      <th>Urban_or_Rural_Area</th>\n",
       "      <th>Did_Police_Officer_Attend_Scene_of_Accident</th>\n",
       "    </tr>\n",
       "  </thead>\n",
       "  <tbody>\n",
       "    <tr>\n",
       "      <th>count</th>\n",
       "      <td>129963.000000</td>\n",
       "      <td>1.299630e+05</td>\n",
       "      <td>129953.000000</td>\n",
       "      <td>129953.000000</td>\n",
       "      <td>129982.000000</td>\n",
       "      <td>129982.000000</td>\n",
       "      <td>129982.000000</td>\n",
       "      <td>129982.000000</td>\n",
       "      <td>129982.000000</td>\n",
       "      <td>129982.000000</td>\n",
       "      <td>...</td>\n",
       "      <td>129982.000000</td>\n",
       "      <td>129982.000000</td>\n",
       "      <td>129982.000000</td>\n",
       "      <td>129982.000000</td>\n",
       "      <td>129982.000000</td>\n",
       "      <td>129982.000000</td>\n",
       "      <td>129982.000000</td>\n",
       "      <td>129982.000000</td>\n",
       "      <td>129982.000000</td>\n",
       "      <td>129982.000000</td>\n",
       "    </tr>\n",
       "    <tr>\n",
       "      <th>mean</th>\n",
       "      <td>451170.256719</td>\n",
       "      <td>2.835784e+05</td>\n",
       "      <td>-1.268385</td>\n",
       "      <td>52.439387</td>\n",
       "      <td>28.527996</td>\n",
       "      <td>2.800849</td>\n",
       "      <td>1.838147</td>\n",
       "      <td>1.315513</td>\n",
       "      <td>4.105245</td>\n",
       "      <td>328.899286</td>\n",
       "      <td>...</td>\n",
       "      <td>301.154729</td>\n",
       "      <td>0.002739</td>\n",
       "      <td>0.823452</td>\n",
       "      <td>2.036597</td>\n",
       "      <td>1.641535</td>\n",
       "      <td>1.284093</td>\n",
       "      <td>0.072318</td>\n",
       "      <td>0.046714</td>\n",
       "      <td>1.327291</td>\n",
       "      <td>1.264744</td>\n",
       "    </tr>\n",
       "    <tr>\n",
       "      <th>std</th>\n",
       "      <td>95152.629739</td>\n",
       "      <td>1.534918e+05</td>\n",
       "      <td>1.395881</td>\n",
       "      <td>1.382508</td>\n",
       "      <td>25.064407</td>\n",
       "      <td>0.430441</td>\n",
       "      <td>0.722479</td>\n",
       "      <td>0.765469</td>\n",
       "      <td>1.930446</td>\n",
       "      <td>258.587181</td>\n",
       "      <td>...</td>\n",
       "      <td>1152.369545</td>\n",
       "      <td>0.248010</td>\n",
       "      <td>1.950560</td>\n",
       "      <td>1.724019</td>\n",
       "      <td>1.843830</td>\n",
       "      <td>0.645149</td>\n",
       "      <td>0.670572</td>\n",
       "      <td>0.563003</td>\n",
       "      <td>0.469390</td>\n",
       "      <td>0.441356</td>\n",
       "    </tr>\n",
       "    <tr>\n",
       "      <th>min</th>\n",
       "      <td>73639.000000</td>\n",
       "      <td>1.210700e+04</td>\n",
       "      <td>-7.409550</td>\n",
       "      <td>49.929558</td>\n",
       "      <td>1.000000</td>\n",
       "      <td>1.000000</td>\n",
       "      <td>1.000000</td>\n",
       "      <td>1.000000</td>\n",
       "      <td>1.000000</td>\n",
       "      <td>1.000000</td>\n",
       "      <td>...</td>\n",
       "      <td>-1.000000</td>\n",
       "      <td>-1.000000</td>\n",
       "      <td>-1.000000</td>\n",
       "      <td>-1.000000</td>\n",
       "      <td>-1.000000</td>\n",
       "      <td>-1.000000</td>\n",
       "      <td>-1.000000</td>\n",
       "      <td>-1.000000</td>\n",
       "      <td>1.000000</td>\n",
       "      <td>1.000000</td>\n",
       "    </tr>\n",
       "    <tr>\n",
       "      <th>25%</th>\n",
       "      <td>387278.500000</td>\n",
       "      <td>1.760000e+05</td>\n",
       "      <td>-2.190772</td>\n",
       "      <td>51.470399</td>\n",
       "      <td>5.000000</td>\n",
       "      <td>3.000000</td>\n",
       "      <td>1.000000</td>\n",
       "      <td>1.000000</td>\n",
       "      <td>2.000000</td>\n",
       "      <td>91.000000</td>\n",
       "      <td>...</td>\n",
       "      <td>0.000000</td>\n",
       "      <td>0.000000</td>\n",
       "      <td>0.000000</td>\n",
       "      <td>1.000000</td>\n",
       "      <td>1.000000</td>\n",
       "      <td>1.000000</td>\n",
       "      <td>0.000000</td>\n",
       "      <td>0.000000</td>\n",
       "      <td>1.000000</td>\n",
       "      <td>1.000000</td>\n",
       "    </tr>\n",
       "    <tr>\n",
       "      <th>50%</th>\n",
       "      <td>457594.000000</td>\n",
       "      <td>2.241260e+05</td>\n",
       "      <td>-1.149752</td>\n",
       "      <td>51.900636</td>\n",
       "      <td>23.000000</td>\n",
       "      <td>3.000000</td>\n",
       "      <td>2.000000</td>\n",
       "      <td>1.000000</td>\n",
       "      <td>4.000000</td>\n",
       "      <td>303.000000</td>\n",
       "      <td>...</td>\n",
       "      <td>0.000000</td>\n",
       "      <td>0.000000</td>\n",
       "      <td>0.000000</td>\n",
       "      <td>1.000000</td>\n",
       "      <td>1.000000</td>\n",
       "      <td>1.000000</td>\n",
       "      <td>0.000000</td>\n",
       "      <td>0.000000</td>\n",
       "      <td>1.000000</td>\n",
       "      <td>1.000000</td>\n",
       "    </tr>\n",
       "    <tr>\n",
       "      <th>75%</th>\n",
       "      <td>528910.000000</td>\n",
       "      <td>3.888285e+05</td>\n",
       "      <td>-0.141685</td>\n",
       "      <td>53.393024</td>\n",
       "      <td>45.000000</td>\n",
       "      <td>3.000000</td>\n",
       "      <td>2.000000</td>\n",
       "      <td>1.000000</td>\n",
       "      <td>6.000000</td>\n",
       "      <td>513.000000</td>\n",
       "      <td>...</td>\n",
       "      <td>0.000000</td>\n",
       "      <td>0.000000</td>\n",
       "      <td>0.000000</td>\n",
       "      <td>4.000000</td>\n",
       "      <td>1.000000</td>\n",
       "      <td>2.000000</td>\n",
       "      <td>0.000000</td>\n",
       "      <td>0.000000</td>\n",
       "      <td>2.000000</td>\n",
       "      <td>2.000000</td>\n",
       "    </tr>\n",
       "    <tr>\n",
       "      <th>max</th>\n",
       "      <td>655391.000000</td>\n",
       "      <td>1.177531e+06</td>\n",
       "      <td>1.759641</td>\n",
       "      <td>60.480924</td>\n",
       "      <td>98.000000</td>\n",
       "      <td>3.000000</td>\n",
       "      <td>23.000000</td>\n",
       "      <td>42.000000</td>\n",
       "      <td>7.000000</td>\n",
       "      <td>941.000000</td>\n",
       "      <td>...</td>\n",
       "      <td>9704.000000</td>\n",
       "      <td>2.000000</td>\n",
       "      <td>8.000000</td>\n",
       "      <td>7.000000</td>\n",
       "      <td>9.000000</td>\n",
       "      <td>5.000000</td>\n",
       "      <td>7.000000</td>\n",
       "      <td>7.000000</td>\n",
       "      <td>3.000000</td>\n",
       "      <td>3.000000</td>\n",
       "    </tr>\n",
       "  </tbody>\n",
       "</table>\n",
       "<p>8 rows × 27 columns</p>\n",
       "</div>"
      ],
      "text/plain": [
       "       Location_Easting_OSGR  Location_Northing_OSGR      Longitude  \\\n",
       "count          129963.000000            1.299630e+05  129953.000000   \n",
       "mean           451170.256719            2.835784e+05      -1.268385   \n",
       "std             95152.629739            1.534918e+05       1.395881   \n",
       "min             73639.000000            1.210700e+04      -7.409550   \n",
       "25%            387278.500000            1.760000e+05      -2.190772   \n",
       "50%            457594.000000            2.241260e+05      -1.149752   \n",
       "75%            528910.000000            3.888285e+05      -0.141685   \n",
       "max            655391.000000            1.177531e+06       1.759641   \n",
       "\n",
       "            Latitude   Police_Force  Accident_Severity  Number_of_Vehicles  \\\n",
       "count  129953.000000  129982.000000      129982.000000       129982.000000   \n",
       "mean       52.439387      28.527996           2.800849            1.838147   \n",
       "std         1.382508      25.064407           0.430441            0.722479   \n",
       "min        49.929558       1.000000           1.000000            1.000000   \n",
       "25%        51.470399       5.000000           3.000000            1.000000   \n",
       "50%        51.900636      23.000000           3.000000            2.000000   \n",
       "75%        53.393024      45.000000           3.000000            2.000000   \n",
       "max        60.480924      98.000000           3.000000           23.000000   \n",
       "\n",
       "       Number_of_Casualties    Day_of_Week  Local_Authority_(District)  ...  \\\n",
       "count         129982.000000  129982.000000               129982.000000  ...   \n",
       "mean               1.315513       4.105245                  328.899286  ...   \n",
       "std                0.765469       1.930446                  258.587181  ...   \n",
       "min                1.000000       1.000000                    1.000000  ...   \n",
       "25%                1.000000       2.000000                   91.000000  ...   \n",
       "50%                1.000000       4.000000                  303.000000  ...   \n",
       "75%                1.000000       6.000000                  513.000000  ...   \n",
       "max               42.000000       7.000000                  941.000000  ...   \n",
       "\n",
       "       2nd_Road_Number  Pedestrian_Crossing-Human_Control  \\\n",
       "count    129982.000000                      129982.000000   \n",
       "mean        301.154729                           0.002739   \n",
       "std        1152.369545                           0.248010   \n",
       "min          -1.000000                          -1.000000   \n",
       "25%           0.000000                           0.000000   \n",
       "50%           0.000000                           0.000000   \n",
       "75%           0.000000                           0.000000   \n",
       "max        9704.000000                           2.000000   \n",
       "\n",
       "       Pedestrian_Crossing-Physical_Facilities  Light_Conditions  \\\n",
       "count                            129982.000000     129982.000000   \n",
       "mean                                  0.823452          2.036597   \n",
       "std                                   1.950560          1.724019   \n",
       "min                                  -1.000000         -1.000000   \n",
       "25%                                   0.000000          1.000000   \n",
       "50%                                   0.000000          1.000000   \n",
       "75%                                   0.000000          4.000000   \n",
       "max                                   8.000000          7.000000   \n",
       "\n",
       "       Weather_Conditions  Road_Surface_Conditions  \\\n",
       "count       129982.000000            129982.000000   \n",
       "mean             1.641535                 1.284093   \n",
       "std              1.843830                 0.645149   \n",
       "min             -1.000000                -1.000000   \n",
       "25%              1.000000                 1.000000   \n",
       "50%              1.000000                 1.000000   \n",
       "75%              1.000000                 2.000000   \n",
       "max              9.000000                 5.000000   \n",
       "\n",
       "       Special_Conditions_at_Site  Carriageway_Hazards  Urban_or_Rural_Area  \\\n",
       "count               129982.000000        129982.000000        129982.000000   \n",
       "mean                     0.072318             0.046714             1.327291   \n",
       "std                      0.670572             0.563003             0.469390   \n",
       "min                     -1.000000            -1.000000             1.000000   \n",
       "25%                      0.000000             0.000000             1.000000   \n",
       "50%                      0.000000             0.000000             1.000000   \n",
       "75%                      0.000000             0.000000             2.000000   \n",
       "max                      7.000000             7.000000             3.000000   \n",
       "\n",
       "       Did_Police_Officer_Attend_Scene_of_Accident  \n",
       "count                                129982.000000  \n",
       "mean                                      1.264744  \n",
       "std                                       0.441356  \n",
       "min                                       1.000000  \n",
       "25%                                       1.000000  \n",
       "50%                                       1.000000  \n",
       "75%                                       2.000000  \n",
       "max                                       3.000000  \n",
       "\n",
       "[8 rows x 27 columns]"
      ]
     },
     "execution_count": 85,
     "metadata": {},
     "output_type": "execute_result"
    }
   ],
   "source": [
    "dataAcc.describe()"
   ]
  },
  {
   "cell_type": "markdown",
   "metadata": {},
   "source": [
    "####GroupBy sorting\n",
    "By default the group keys are sorted during the groupby operation."
   ]
  },
  {
   "cell_type": "code",
   "execution_count": 86,
   "metadata": {
    "collapsed": false
   },
   "outputs": [
    {
     "data": {
      "text/html": [
       "<div>\n",
       "<style scoped>\n",
       "    .dataframe tbody tr th:only-of-type {\n",
       "        vertical-align: middle;\n",
       "    }\n",
       "\n",
       "    .dataframe tbody tr th {\n",
       "        vertical-align: top;\n",
       "    }\n",
       "\n",
       "    .dataframe thead th {\n",
       "        text-align: right;\n",
       "    }\n",
       "</style>\n",
       "<table border=\"1\" class=\"dataframe\">\n",
       "  <thead>\n",
       "    <tr style=\"text-align: right;\">\n",
       "      <th></th>\n",
       "      <th>Location_Easting_OSGR</th>\n",
       "      <th>Location_Northing_OSGR</th>\n",
       "      <th>Longitude</th>\n",
       "      <th>Latitude</th>\n",
       "      <th>Police_Force</th>\n",
       "      <th>Number_of_Vehicles</th>\n",
       "      <th>Number_of_Casualties</th>\n",
       "      <th>Day_of_Week</th>\n",
       "      <th>Local_Authority_(District)</th>\n",
       "      <th>1st_Road_Class</th>\n",
       "      <th>...</th>\n",
       "      <th>2nd_Road_Number</th>\n",
       "      <th>Pedestrian_Crossing-Human_Control</th>\n",
       "      <th>Pedestrian_Crossing-Physical_Facilities</th>\n",
       "      <th>Light_Conditions</th>\n",
       "      <th>Weather_Conditions</th>\n",
       "      <th>Road_Surface_Conditions</th>\n",
       "      <th>Special_Conditions_at_Site</th>\n",
       "      <th>Carriageway_Hazards</th>\n",
       "      <th>Urban_or_Rural_Area</th>\n",
       "      <th>Did_Police_Officer_Attend_Scene_of_Accident</th>\n",
       "    </tr>\n",
       "    <tr>\n",
       "      <th>Accident_Severity</th>\n",
       "      <th></th>\n",
       "      <th></th>\n",
       "      <th></th>\n",
       "      <th></th>\n",
       "      <th></th>\n",
       "      <th></th>\n",
       "      <th></th>\n",
       "      <th></th>\n",
       "      <th></th>\n",
       "      <th></th>\n",
       "      <th></th>\n",
       "      <th></th>\n",
       "      <th></th>\n",
       "      <th></th>\n",
       "      <th></th>\n",
       "      <th></th>\n",
       "      <th></th>\n",
       "      <th></th>\n",
       "      <th></th>\n",
       "      <th></th>\n",
       "      <th></th>\n",
       "    </tr>\n",
       "  </thead>\n",
       "  <tbody>\n",
       "    <tr>\n",
       "      <th>1</th>\n",
       "      <td>7.232359e+08</td>\n",
       "      <td>5.235922e+08</td>\n",
       "      <td>-2604.856566</td>\n",
       "      <td>8.832403e+04</td>\n",
       "      <td>58987</td>\n",
       "      <td>2963</td>\n",
       "      <td>2823</td>\n",
       "      <td>6770</td>\n",
       "      <td>673972</td>\n",
       "      <td>6328</td>\n",
       "      <td>...</td>\n",
       "      <td>329050</td>\n",
       "      <td>11</td>\n",
       "      <td>1133</td>\n",
       "      <td>4473</td>\n",
       "      <td>2537</td>\n",
       "      <td>2256</td>\n",
       "      <td>90</td>\n",
       "      <td>117</td>\n",
       "      <td>2736</td>\n",
       "      <td>1835</td>\n",
       "    </tr>\n",
       "    <tr>\n",
       "      <th>2</th>\n",
       "      <td>1.006459e+10</td>\n",
       "      <td>6.610485e+09</td>\n",
       "      <td>-30021.581426</td>\n",
       "      <td>1.183347e+06</td>\n",
       "      <td>680839</td>\n",
       "      <td>38805</td>\n",
       "      <td>31157</td>\n",
       "      <td>92202</td>\n",
       "      <td>7850514</td>\n",
       "      <td>95665</td>\n",
       "      <td>...</td>\n",
       "      <td>5827085</td>\n",
       "      <td>267</td>\n",
       "      <td>17835</td>\n",
       "      <td>48381</td>\n",
       "      <td>34600</td>\n",
       "      <td>29293</td>\n",
       "      <td>2081</td>\n",
       "      <td>1419</td>\n",
       "      <td>31203</td>\n",
       "      <td>26388</td>\n",
       "    </tr>\n",
       "    <tr>\n",
       "      <th>3</th>\n",
       "      <td>4.784761e+10</td>\n",
       "      <td>2.972062e+10</td>\n",
       "      <td>-132203.957836</td>\n",
       "      <td>5.542984e+06</td>\n",
       "      <td>2968300</td>\n",
       "      <td>197158</td>\n",
       "      <td>137013</td>\n",
       "      <td>434636</td>\n",
       "      <td>34226501</td>\n",
       "      <td>447071</td>\n",
       "      <td>...</td>\n",
       "      <td>32988559</td>\n",
       "      <td>78</td>\n",
       "      <td>88066</td>\n",
       "      <td>211867</td>\n",
       "      <td>176233</td>\n",
       "      <td>135360</td>\n",
       "      <td>7229</td>\n",
       "      <td>4536</td>\n",
       "      <td>138585</td>\n",
       "      <td>136171</td>\n",
       "    </tr>\n",
       "  </tbody>\n",
       "</table>\n",
       "<p>3 rows × 26 columns</p>\n",
       "</div>"
      ],
      "text/plain": [
       "                   Location_Easting_OSGR  Location_Northing_OSGR  \\\n",
       "Accident_Severity                                                  \n",
       "1                           7.232359e+08            5.235922e+08   \n",
       "2                           1.006459e+10            6.610485e+09   \n",
       "3                           4.784761e+10            2.972062e+10   \n",
       "\n",
       "                       Longitude      Latitude  Police_Force  \\\n",
       "Accident_Severity                                              \n",
       "1                   -2604.856566  8.832403e+04         58987   \n",
       "2                  -30021.581426  1.183347e+06        680839   \n",
       "3                 -132203.957836  5.542984e+06       2968300   \n",
       "\n",
       "                   Number_of_Vehicles  Number_of_Casualties  Day_of_Week  \\\n",
       "Accident_Severity                                                          \n",
       "1                                2963                  2823         6770   \n",
       "2                               38805                 31157        92202   \n",
       "3                              197158                137013       434636   \n",
       "\n",
       "                   Local_Authority_(District)  1st_Road_Class  ...  \\\n",
       "Accident_Severity                                              ...   \n",
       "1                                      673972            6328  ...   \n",
       "2                                     7850514           95665  ...   \n",
       "3                                    34226501          447071  ...   \n",
       "\n",
       "                   2nd_Road_Number  Pedestrian_Crossing-Human_Control  \\\n",
       "Accident_Severity                                                       \n",
       "1                           329050                                 11   \n",
       "2                          5827085                                267   \n",
       "3                         32988559                                 78   \n",
       "\n",
       "                   Pedestrian_Crossing-Physical_Facilities  Light_Conditions  \\\n",
       "Accident_Severity                                                              \n",
       "1                                                     1133              4473   \n",
       "2                                                    17835             48381   \n",
       "3                                                    88066            211867   \n",
       "\n",
       "                   Weather_Conditions  Road_Surface_Conditions  \\\n",
       "Accident_Severity                                                \n",
       "1                                2537                     2256   \n",
       "2                               34600                    29293   \n",
       "3                              176233                   135360   \n",
       "\n",
       "                   Special_Conditions_at_Site  Carriageway_Hazards  \\\n",
       "Accident_Severity                                                    \n",
       "1                                          90                  117   \n",
       "2                                        2081                 1419   \n",
       "3                                        7229                 4536   \n",
       "\n",
       "                   Urban_or_Rural_Area  \\\n",
       "Accident_Severity                        \n",
       "1                                 2736   \n",
       "2                                31203   \n",
       "3                               138585   \n",
       "\n",
       "                   Did_Police_Officer_Attend_Scene_of_Accident  \n",
       "Accident_Severity                                               \n",
       "1                                                         1835  \n",
       "2                                                        26388  \n",
       "3                                                       136171  \n",
       "\n",
       "[3 rows x 26 columns]"
      ]
     },
     "execution_count": 86,
     "metadata": {},
     "output_type": "execute_result"
    }
   ],
   "source": [
    "dataAcc.groupby('Accident_Severity').sum()"
   ]
  },
  {
   "cell_type": "markdown",
   "metadata": {},
   "source": [
    "####GroupBy object attributes\n",
    "The groups attribute is a dict whose keys are the computed unique groups and corresponding values being the axis labels belonging to each group. "
   ]
  },
  {
   "cell_type": "code",
   "execution_count": 87,
   "metadata": {
    "collapsed": false
   },
   "outputs": [
    {
     "data": {
      "text/html": [
       "<div>\n",
       "<style scoped>\n",
       "    .dataframe tbody tr th:only-of-type {\n",
       "        vertical-align: middle;\n",
       "    }\n",
       "\n",
       "    .dataframe tbody tr th {\n",
       "        vertical-align: top;\n",
       "    }\n",
       "\n",
       "    .dataframe thead th {\n",
       "        text-align: right;\n",
       "    }\n",
       "</style>\n",
       "<table border=\"1\" class=\"dataframe\">\n",
       "  <thead>\n",
       "    <tr style=\"text-align: right;\">\n",
       "      <th></th>\n",
       "      <th>Police_Force</th>\n",
       "    </tr>\n",
       "    <tr>\n",
       "      <th>Accident_Severity</th>\n",
       "      <th></th>\n",
       "    </tr>\n",
       "  </thead>\n",
       "  <tbody>\n",
       "    <tr>\n",
       "      <th>1</th>\n",
       "      <td>1676</td>\n",
       "    </tr>\n",
       "    <tr>\n",
       "      <th>2</th>\n",
       "      <td>22534</td>\n",
       "    </tr>\n",
       "    <tr>\n",
       "      <th>3</th>\n",
       "      <td>105772</td>\n",
       "    </tr>\n",
       "  </tbody>\n",
       "</table>\n",
       "</div>"
      ],
      "text/plain": [
       "                   Police_Force\n",
       "Accident_Severity              \n",
       "1                          1676\n",
       "2                         22534\n",
       "3                        105772"
      ]
     },
     "execution_count": 87,
     "metadata": {},
     "output_type": "execute_result"
    }
   ],
   "source": [
    "accnew= dataAcc.groupby('Accident_Severity')[['Police_Force']].count()\n",
    "accnew.head(3)"
   ]
  },
  {
   "cell_type": "code",
   "execution_count": 88,
   "metadata": {
    "collapsed": false
   },
   "outputs": [
    {
     "data": {
      "text/html": [
       "<div>\n",
       "<style scoped>\n",
       "    .dataframe tbody tr th:only-of-type {\n",
       "        vertical-align: middle;\n",
       "    }\n",
       "\n",
       "    .dataframe tbody tr th {\n",
       "        vertical-align: top;\n",
       "    }\n",
       "\n",
       "    .dataframe thead th {\n",
       "        text-align: right;\n",
       "    }\n",
       "</style>\n",
       "<table border=\"1\" class=\"dataframe\">\n",
       "  <thead>\n",
       "    <tr style=\"text-align: right;\">\n",
       "      <th></th>\n",
       "      <th>Top Numbers</th>\n",
       "    </tr>\n",
       "    <tr>\n",
       "      <th>Accident_Severity</th>\n",
       "      <th></th>\n",
       "    </tr>\n",
       "  </thead>\n",
       "  <tbody>\n",
       "    <tr>\n",
       "      <th>1</th>\n",
       "      <td>1676</td>\n",
       "    </tr>\n",
       "    <tr>\n",
       "      <th>2</th>\n",
       "      <td>22534</td>\n",
       "    </tr>\n",
       "    <tr>\n",
       "      <th>3</th>\n",
       "      <td>105772</td>\n",
       "    </tr>\n",
       "  </tbody>\n",
       "</table>\n",
       "</div>"
      ],
      "text/plain": [
       "                   Top Numbers\n",
       "Accident_Severity             \n",
       "1                         1676\n",
       "2                        22534\n",
       "3                       105772"
      ]
     },
     "execution_count": 88,
     "metadata": {},
     "output_type": "execute_result"
    }
   ],
   "source": [
    "accnew.sort_values('Police_Force').reset_index()\n",
    "accnew.columns=['Top Numbers']\n",
    "accnew"
   ]
  },
  {
   "cell_type": "code",
   "execution_count": 89,
   "metadata": {
    "collapsed": false
   },
   "outputs": [
    {
     "data": {
      "text/html": [
       "<div>\n",
       "<style scoped>\n",
       "    .dataframe tbody tr th:only-of-type {\n",
       "        vertical-align: middle;\n",
       "    }\n",
       "\n",
       "    .dataframe tbody tr th {\n",
       "        vertical-align: top;\n",
       "    }\n",
       "\n",
       "    .dataframe thead th {\n",
       "        text-align: right;\n",
       "    }\n",
       "</style>\n",
       "<table border=\"1\" class=\"dataframe\">\n",
       "  <thead>\n",
       "    <tr style=\"text-align: right;\">\n",
       "      <th></th>\n",
       "      <th>Police_Force</th>\n",
       "      <th>Accident_Severity</th>\n",
       "    </tr>\n",
       "  </thead>\n",
       "  <tbody>\n",
       "    <tr>\n",
       "      <th>0</th>\n",
       "      <td>1</td>\n",
       "      <td>26747</td>\n",
       "    </tr>\n",
       "    <tr>\n",
       "      <th>1</th>\n",
       "      <td>3</td>\n",
       "      <td>1291</td>\n",
       "    </tr>\n",
       "    <tr>\n",
       "      <th>2</th>\n",
       "      <td>4</td>\n",
       "      <td>3355</td>\n",
       "    </tr>\n",
       "    <tr>\n",
       "      <th>3</th>\n",
       "      <td>5</td>\n",
       "      <td>2241</td>\n",
       "    </tr>\n",
       "    <tr>\n",
       "      <th>4</th>\n",
       "      <td>6</td>\n",
       "      <td>4069</td>\n",
       "    </tr>\n",
       "  </tbody>\n",
       "</table>\n",
       "</div>"
      ],
      "text/plain": [
       "   Police_Force  Accident_Severity\n",
       "0             1              26747\n",
       "1             3               1291\n",
       "2             4               3355\n",
       "3             5               2241\n",
       "4             6               4069"
      ]
     },
     "execution_count": 89,
     "metadata": {},
     "output_type": "execute_result"
    }
   ],
   "source": [
    "TopP = dataAcc.groupby('Police_Force')['Accident_Severity'].count().reset_index()\n",
    "TopP.head(5)"
   ]
  },
  {
   "cell_type": "markdown",
   "metadata": {},
   "source": [
    "####Applying multiple functions at once\n",
    "With grouped Series can also pass a list or dict of functions to do aggregation with, outputting a DataFrame:"
   ]
  },
  {
   "cell_type": "code",
   "execution_count": 90,
   "metadata": {
    "collapsed": false
   },
   "outputs": [
    {
     "data": {
      "text/html": [
       "<div>\n",
       "<style scoped>\n",
       "    .dataframe tbody tr th:only-of-type {\n",
       "        vertical-align: middle;\n",
       "    }\n",
       "\n",
       "    .dataframe tbody tr th {\n",
       "        vertical-align: top;\n",
       "    }\n",
       "\n",
       "    .dataframe thead th {\n",
       "        text-align: right;\n",
       "    }\n",
       "</style>\n",
       "<table border=\"1\" class=\"dataframe\">\n",
       "  <thead>\n",
       "    <tr style=\"text-align: right;\">\n",
       "      <th></th>\n",
       "      <th>sum</th>\n",
       "      <th>max</th>\n",
       "      <th>min</th>\n",
       "      <th>mean</th>\n",
       "    </tr>\n",
       "    <tr>\n",
       "      <th>Accident_Severity</th>\n",
       "      <th></th>\n",
       "      <th></th>\n",
       "      <th></th>\n",
       "      <th></th>\n",
       "    </tr>\n",
       "  </thead>\n",
       "  <tbody>\n",
       "    <tr>\n",
       "      <th>1</th>\n",
       "      <td>2823</td>\n",
       "      <td>14</td>\n",
       "      <td>1</td>\n",
       "      <td>1.684368</td>\n",
       "    </tr>\n",
       "    <tr>\n",
       "      <th>2</th>\n",
       "      <td>31157</td>\n",
       "      <td>34</td>\n",
       "      <td>1</td>\n",
       "      <td>1.382666</td>\n",
       "    </tr>\n",
       "    <tr>\n",
       "      <th>3</th>\n",
       "      <td>137013</td>\n",
       "      <td>42</td>\n",
       "      <td>1</td>\n",
       "      <td>1.295362</td>\n",
       "    </tr>\n",
       "  </tbody>\n",
       "</table>\n",
       "</div>"
      ],
      "text/plain": [
       "                      sum  max  min      mean\n",
       "Accident_Severity                            \n",
       "1                    2823   14    1  1.684368\n",
       "2                   31157   34    1  1.382666\n",
       "3                  137013   42    1  1.295362"
      ]
     },
     "execution_count": 90,
     "metadata": {},
     "output_type": "execute_result"
    }
   ],
   "source": [
    "top3 = dataAcc.groupby('Accident_Severity').Number_of_Casualties.agg(['sum', 'max', 'min', 'mean'])\n",
    "top3"
   ]
  },
  {
   "cell_type": "markdown",
   "metadata": {},
   "source": [
    "save changes as dataframe with different type such as csv, exls"
   ]
  },
  {
   "cell_type": "code",
   "execution_count": 91,
   "metadata": {
    "collapsed": true
   },
   "outputs": [],
   "source": [
    "TopP.to_csv('modified1.csv', index = False)"
   ]
  },
  {
   "cell_type": "markdown",
   "metadata": {},
   "source": [
    "Passing a lambda function will yield a <lambda> named row:"
   ]
  },
  {
   "cell_type": "code",
   "execution_count": 92,
   "metadata": {
    "collapsed": false
   },
   "outputs": [
    {
     "data": {
      "text/plain": [
       "sum         3.708126e+06\n",
       "<lambda>    2.852800e+01\n",
       "Name: Police_Force, dtype: float64"
      ]
     },
     "execution_count": 92,
     "metadata": {},
     "output_type": "execute_result"
    }
   ],
   "source": [
    "dataAcc.Police_Force.agg(['sum', lambda x: x.mean()])"
   ]
  },
  {
   "cell_type": "code",
   "execution_count": 93,
   "metadata": {
    "collapsed": false
   },
   "outputs": [
    {
     "name": "stdout",
     "output_type": "stream",
     "text": [
      "  Accident_Index  Location_Easting_OSGR  Location_Northing_OSGR  Longitude  \\\n",
      "0  2017010001708               532920.0                196330.0  -0.080107   \n",
      "1  2017010009342               526790.0                181970.0  -0.173845   \n",
      "2  2017010009344               535200.0                181260.0  -0.052969   \n",
      "3  2017010009348               534340.0                193560.0  -0.060658   \n",
      "\n",
      "    Latitude  Police_Force  Accident_Severity  Number_of_Vehicles  \\\n",
      "0  51.650061             1                  1                   2   \n",
      "1  51.522425             1                  3                   2   \n",
      "2  51.514096             1                  3                   3   \n",
      "3  51.624832             1                  3                   2   \n",
      "\n",
      "   Number_of_Casualties        Date  ...  Pedestrian_Crossing-Human_Control  \\\n",
      "0                     3  05/08/2017  ...                                  0   \n",
      "1                     1  01/01/2017  ...                                  0   \n",
      "2                     1  01/01/2017  ...                                  0   \n",
      "3                     1  01/01/2017  ...                                  0   \n",
      "\n",
      "  Pedestrian_Crossing-Physical_Facilities  Light_Conditions  \\\n",
      "0                                       0                 4   \n",
      "1                                       0                 4   \n",
      "2                                       0                 4   \n",
      "3                                       4                 4   \n",
      "\n",
      "  Weather_Conditions  Road_Surface_Conditions  Special_Conditions_at_Site  \\\n",
      "0                  1                        1                           0   \n",
      "1                  1                        2                           0   \n",
      "2                  1                        1                           0   \n",
      "3                  2                        2                           0   \n",
      "\n",
      "   Carriageway_Hazards  Urban_or_Rural_Area  \\\n",
      "0                    0                    1   \n",
      "1                    0                    1   \n",
      "2                    0                    1   \n",
      "3                    0                    1   \n",
      "\n",
      "   Did_Police_Officer_Attend_Scene_of_Accident  LSOA_of_Accident_Location  \n",
      "0                                            1                  E01001450  \n",
      "1                                            1                  E01004702  \n",
      "2                                            1                  E01004298  \n",
      "3                                            1                  E01001429  \n",
      "\n",
      "[4 rows x 32 columns]\n"
     ]
    }
   ],
   "source": [
    "#read each row \n",
    "\n",
    "#for index, row in dataAcc.iterrows():\n",
    "    #print (index, ['Police_Force'])\n",
    "print(dataAcc.iloc[0:4])"
   ]
  },
  {
   "cell_type": "markdown",
   "metadata": {},
   "source": [
    "### check accident data type. "
   ]
  },
  {
   "cell_type": "code",
   "execution_count": 94,
   "metadata": {
    "collapsed": false
   },
   "outputs": [
    {
     "data": {
      "text/plain": [
       "Accident_Index                                  object\n",
       "Location_Easting_OSGR                          float64\n",
       "Location_Northing_OSGR                         float64\n",
       "Longitude                                      float64\n",
       "Latitude                                       float64\n",
       "Police_Force                                     int64\n",
       "Accident_Severity                                int64\n",
       "Number_of_Vehicles                               int64\n",
       "Number_of_Casualties                             int64\n",
       "Date                                            object\n",
       "Day_of_Week                                      int64\n",
       "Time                                            object\n",
       "Local_Authority_(District)                       int64\n",
       "Local_Authority_(Highway)                       object\n",
       "1st_Road_Class                                   int64\n",
       "1st_Road_Number                                  int64\n",
       "Road_Type                                        int64\n",
       "Speed_limit                                      int64\n",
       "Junction_Detail                                  int64\n",
       "Junction_Control                                 int64\n",
       "2nd_Road_Class                                   int64\n",
       "2nd_Road_Number                                  int64\n",
       "Pedestrian_Crossing-Human_Control                int64\n",
       "Pedestrian_Crossing-Physical_Facilities          int64\n",
       "Light_Conditions                                 int64\n",
       "Weather_Conditions                               int64\n",
       "Road_Surface_Conditions                          int64\n",
       "Special_Conditions_at_Site                       int64\n",
       "Carriageway_Hazards                              int64\n",
       "Urban_or_Rural_Area                              int64\n",
       "Did_Police_Officer_Attend_Scene_of_Accident      int64\n",
       "LSOA_of_Accident_Location                       object\n",
       "dtype: object"
      ]
     },
     "execution_count": 94,
     "metadata": {},
     "output_type": "execute_result"
    }
   ],
   "source": [
    "dataAcc.dtypes"
   ]
  },
  {
   "cell_type": "markdown",
   "metadata": {},
   "source": [
    "### Check missing values in the dataset.\n",
    "Check missing value\n",
    "Missing values are not many but some variables have them so should be deal and estimated that. Sometimes missing value may not be NaNs, for example for the Road Safety data missing value is -1. So I checked missing values in three datasets. Also, it can fill that with 0, other values and replacement by mean. "
   ]
  },
  {
   "cell_type": "code",
   "execution_count": 95,
   "metadata": {
    "collapsed": false
   },
   "outputs": [
    {
     "data": {
      "text/plain": [
       "Accident_Index                                    0\n",
       "Location_Easting_OSGR                            19\n",
       "Location_Northing_OSGR                           19\n",
       "Longitude                                        29\n",
       "Latitude                                         29\n",
       "Police_Force                                      0\n",
       "Accident_Severity                                 0\n",
       "Number_of_Vehicles                                0\n",
       "Number_of_Casualties                              0\n",
       "Date                                              0\n",
       "Day_of_Week                                       0\n",
       "Time                                              3\n",
       "Local_Authority_(District)                        0\n",
       "Local_Authority_(Highway)                         0\n",
       "1st_Road_Class                                    0\n",
       "1st_Road_Number                                   0\n",
       "Road_Type                                         0\n",
       "Speed_limit                                       0\n",
       "Junction_Detail                                   0\n",
       "Junction_Control                                  0\n",
       "2nd_Road_Class                                    0\n",
       "2nd_Road_Number                                   0\n",
       "Pedestrian_Crossing-Human_Control                 0\n",
       "Pedestrian_Crossing-Physical_Facilities           0\n",
       "Light_Conditions                                  0\n",
       "Weather_Conditions                                0\n",
       "Road_Surface_Conditions                           0\n",
       "Special_Conditions_at_Site                        0\n",
       "Carriageway_Hazards                               0\n",
       "Urban_or_Rural_Area                               0\n",
       "Did_Police_Officer_Attend_Scene_of_Accident       0\n",
       "LSOA_of_Accident_Location                      7131\n",
       "dtype: int64"
      ]
     },
     "execution_count": 95,
     "metadata": {},
     "output_type": "execute_result"
    }
   ],
   "source": [
    "dataAcc.apply(lambda x: sum(x.isnull()),axis=0) "
   ]
  },
  {
   "cell_type": "code",
   "execution_count": 96,
   "metadata": {
    "collapsed": false
   },
   "outputs": [
    {
     "name": "stdout",
     "output_type": "stream",
     "text": [
      "<class 'pandas.core.frame.DataFrame'>\n",
      "RangeIndex: 129982 entries, 0 to 129981\n",
      "Data columns (total 32 columns):\n",
      "Accident_Index                                 129982 non-null object\n",
      "Location_Easting_OSGR                          129963 non-null float64\n",
      "Location_Northing_OSGR                         129963 non-null float64\n",
      "Longitude                                      129953 non-null float64\n",
      "Latitude                                       129953 non-null float64\n",
      "Police_Force                                   129982 non-null int64\n",
      "Accident_Severity                              129982 non-null int64\n",
      "Number_of_Vehicles                             129982 non-null int64\n",
      "Number_of_Casualties                           129982 non-null int64\n",
      "Date                                           129982 non-null object\n",
      "Day_of_Week                                    129982 non-null int64\n",
      "Time                                           129979 non-null object\n",
      "Local_Authority_(District)                     129982 non-null int64\n",
      "Local_Authority_(Highway)                      129982 non-null object\n",
      "1st_Road_Class                                 129982 non-null int64\n",
      "1st_Road_Number                                129982 non-null int64\n",
      "Road_Type                                      129982 non-null int64\n",
      "Speed_limit                                    129982 non-null int64\n",
      "Junction_Detail                                129982 non-null int64\n",
      "Junction_Control                               129982 non-null int64\n",
      "2nd_Road_Class                                 129982 non-null int64\n",
      "2nd_Road_Number                                129982 non-null int64\n",
      "Pedestrian_Crossing-Human_Control              129982 non-null int64\n",
      "Pedestrian_Crossing-Physical_Facilities        129982 non-null int64\n",
      "Light_Conditions                               129982 non-null int64\n",
      "Weather_Conditions                             129982 non-null int64\n",
      "Road_Surface_Conditions                        129982 non-null int64\n",
      "Special_Conditions_at_Site                     129982 non-null int64\n",
      "Carriageway_Hazards                            129982 non-null int64\n",
      "Urban_or_Rural_Area                            129982 non-null int64\n",
      "Did_Police_Officer_Attend_Scene_of_Accident    129982 non-null int64\n",
      "LSOA_of_Accident_Location                      122851 non-null object\n",
      "dtypes: float64(4), int64(23), object(5)\n",
      "memory usage: 31.7+ MB\n"
     ]
    }
   ],
   "source": [
    "dataAcc.info()"
   ]
  },
  {
   "cell_type": "markdown",
   "metadata": {},
   "source": [
    "#### You can also use this method to check for null values"
   ]
  },
  {
   "cell_type": "code",
   "execution_count": 97,
   "metadata": {
    "collapsed": false
   },
   "outputs": [
    {
     "data": {
      "text/plain": [
       "Accident_Index                                 False\n",
       "Location_Easting_OSGR                           True\n",
       "Location_Northing_OSGR                          True\n",
       "Longitude                                       True\n",
       "Latitude                                        True\n",
       "Police_Force                                   False\n",
       "Accident_Severity                              False\n",
       "Number_of_Vehicles                             False\n",
       "Number_of_Casualties                           False\n",
       "Date                                           False\n",
       "Day_of_Week                                    False\n",
       "Time                                            True\n",
       "Local_Authority_(District)                     False\n",
       "Local_Authority_(Highway)                      False\n",
       "1st_Road_Class                                 False\n",
       "1st_Road_Number                                False\n",
       "Road_Type                                      False\n",
       "Speed_limit                                    False\n",
       "Junction_Detail                                False\n",
       "Junction_Control                               False\n",
       "2nd_Road_Class                                 False\n",
       "2nd_Road_Number                                False\n",
       "Pedestrian_Crossing-Human_Control              False\n",
       "Pedestrian_Crossing-Physical_Facilities        False\n",
       "Light_Conditions                               False\n",
       "Weather_Conditions                             False\n",
       "Road_Surface_Conditions                        False\n",
       "Special_Conditions_at_Site                     False\n",
       "Carriageway_Hazards                            False\n",
       "Urban_or_Rural_Area                            False\n",
       "Did_Police_Officer_Attend_Scene_of_Accident    False\n",
       "LSOA_of_Accident_Location                       True\n",
       "dtype: bool"
      ]
     },
     "execution_count": 97,
     "metadata": {},
     "output_type": "execute_result"
    }
   ],
   "source": [
    "pd.isnull(dataAcc).any()"
   ]
  },
  {
   "cell_type": "markdown",
   "metadata": {},
   "source": [
    "### To drop any rows that have missing data."
   ]
  },
  {
   "cell_type": "code",
   "execution_count": 98,
   "metadata": {
    "collapsed": false
   },
   "outputs": [
    {
     "data": {
      "text/plain": [
       "1     26747\n",
       "20     5682\n",
       "46     4788\n",
       "13     4370\n",
       "43     4129\n",
       "44     4072\n",
       "6      4069\n",
       "47     3912\n",
       "50     3568\n",
       "45     3502\n",
       "4      3355\n",
       "42     3235\n",
       "97     3185\n",
       "14     2794\n",
       "52     2774\n",
       "31     2492\n",
       "10     2362\n",
       "16     2328\n",
       "41     2242\n",
       "5      2241\n",
       "7      2210\n",
       "22     2121\n",
       "35     2004\n",
       "32     1908\n",
       "12     1856\n",
       "21     1807\n",
       "36     1767\n",
       "62     1731\n",
       "95     1692\n",
       "40     1659\n",
       "30     1643\n",
       "33     1623\n",
       "55     1596\n",
       "37     1573\n",
       "23     1368\n",
       "54     1320\n",
       "3      1291\n",
       "63     1190\n",
       "34     1068\n",
       "11     1048\n",
       "60     1004\n",
       "53      799\n",
       "17      679\n",
       "61      629\n",
       "92      467\n",
       "93      459\n",
       "96      406\n",
       "91      352\n",
       "94      316\n",
       "48      313\n",
       "98      236\n",
       "Name: Police_Force, dtype: int64"
      ]
     },
     "execution_count": 98,
     "metadata": {},
     "output_type": "execute_result"
    }
   ],
   "source": [
    "dataAcc.dropna(how ='any')\n",
    "dataAcc.fillna(0)\n",
    "dataAcc['Police_Force'].value_counts()"
   ]
  },
  {
   "cell_type": "markdown",
   "metadata": {},
   "source": [
    "### To put mean value if there is any rows that have missing data."
   ]
  },
  {
   "cell_type": "code",
   "execution_count": 99,
   "metadata": {
    "collapsed": false
   },
   "outputs": [],
   "source": [
    "dataAcc['Police_Force'].fillna(dataAcc['Police_Force'].mean(), inplace=True)"
   ]
  },
  {
   "cell_type": "markdown",
   "metadata": {},
   "source": [
    "#### Import casualty table and make datafarme in panda.\n",
    "look at the head and tail of the dataset and have summry of dataset.\n",
    "Casualties table includes 16 columns and it links via ‘Accident Index’ to the Accidents table, and each row representing a single person injured in a collision."
   ]
  },
  {
   "cell_type": "code",
   "execution_count": 100,
   "metadata": {
    "collapsed": false
   },
   "outputs": [
    {
     "data": {
      "text/html": [
       "<div>\n",
       "<style scoped>\n",
       "    .dataframe tbody tr th:only-of-type {\n",
       "        vertical-align: middle;\n",
       "    }\n",
       "\n",
       "    .dataframe tbody tr th {\n",
       "        vertical-align: top;\n",
       "    }\n",
       "\n",
       "    .dataframe thead th {\n",
       "        text-align: right;\n",
       "    }\n",
       "</style>\n",
       "<table border=\"1\" class=\"dataframe\">\n",
       "  <thead>\n",
       "    <tr style=\"text-align: right;\">\n",
       "      <th></th>\n",
       "      <th>Accident_Index</th>\n",
       "      <th>Vehicle_Reference</th>\n",
       "      <th>Casualty_Reference</th>\n",
       "      <th>Casualty_Class</th>\n",
       "      <th>Sex_of_Casualty</th>\n",
       "      <th>Age_of_Casualty</th>\n",
       "      <th>Age_Band_of_Casualty</th>\n",
       "      <th>Casualty_Severity</th>\n",
       "      <th>Pedestrian_Location</th>\n",
       "      <th>Pedestrian_Movement</th>\n",
       "      <th>Car_Passenger</th>\n",
       "      <th>Bus_or_Coach_Passenger</th>\n",
       "      <th>Pedestrian_Road_Maintenance_Worker</th>\n",
       "      <th>Casualty_Type</th>\n",
       "      <th>Casualty_Home_Area_Type</th>\n",
       "      <th>Casualty_IMD_Decile</th>\n",
       "    </tr>\n",
       "  </thead>\n",
       "  <tbody>\n",
       "    <tr>\n",
       "      <th>0</th>\n",
       "      <td>2017010001708</td>\n",
       "      <td>1</td>\n",
       "      <td>1</td>\n",
       "      <td>2</td>\n",
       "      <td>2</td>\n",
       "      <td>18</td>\n",
       "      <td>4</td>\n",
       "      <td>3</td>\n",
       "      <td>0</td>\n",
       "      <td>0</td>\n",
       "      <td>1</td>\n",
       "      <td>0</td>\n",
       "      <td>0</td>\n",
       "      <td>9</td>\n",
       "      <td>1</td>\n",
       "      <td>2</td>\n",
       "    </tr>\n",
       "    <tr>\n",
       "      <th>1</th>\n",
       "      <td>2017010001708</td>\n",
       "      <td>2</td>\n",
       "      <td>2</td>\n",
       "      <td>1</td>\n",
       "      <td>1</td>\n",
       "      <td>19</td>\n",
       "      <td>4</td>\n",
       "      <td>2</td>\n",
       "      <td>0</td>\n",
       "      <td>0</td>\n",
       "      <td>0</td>\n",
       "      <td>0</td>\n",
       "      <td>0</td>\n",
       "      <td>2</td>\n",
       "      <td>-1</td>\n",
       "      <td>-1</td>\n",
       "    </tr>\n",
       "    <tr>\n",
       "      <th>2</th>\n",
       "      <td>2017010001708</td>\n",
       "      <td>2</td>\n",
       "      <td>3</td>\n",
       "      <td>2</td>\n",
       "      <td>1</td>\n",
       "      <td>18</td>\n",
       "      <td>4</td>\n",
       "      <td>1</td>\n",
       "      <td>0</td>\n",
       "      <td>0</td>\n",
       "      <td>0</td>\n",
       "      <td>0</td>\n",
       "      <td>0</td>\n",
       "      <td>2</td>\n",
       "      <td>-1</td>\n",
       "      <td>-1</td>\n",
       "    </tr>\n",
       "    <tr>\n",
       "      <th>3</th>\n",
       "      <td>2017010009342</td>\n",
       "      <td>1</td>\n",
       "      <td>1</td>\n",
       "      <td>2</td>\n",
       "      <td>2</td>\n",
       "      <td>33</td>\n",
       "      <td>6</td>\n",
       "      <td>3</td>\n",
       "      <td>0</td>\n",
       "      <td>0</td>\n",
       "      <td>1</td>\n",
       "      <td>0</td>\n",
       "      <td>0</td>\n",
       "      <td>9</td>\n",
       "      <td>1</td>\n",
       "      <td>5</td>\n",
       "    </tr>\n",
       "    <tr>\n",
       "      <th>4</th>\n",
       "      <td>2017010009344</td>\n",
       "      <td>3</td>\n",
       "      <td>1</td>\n",
       "      <td>1</td>\n",
       "      <td>2</td>\n",
       "      <td>31</td>\n",
       "      <td>6</td>\n",
       "      <td>3</td>\n",
       "      <td>0</td>\n",
       "      <td>0</td>\n",
       "      <td>0</td>\n",
       "      <td>0</td>\n",
       "      <td>0</td>\n",
       "      <td>9</td>\n",
       "      <td>1</td>\n",
       "      <td>5</td>\n",
       "    </tr>\n",
       "  </tbody>\n",
       "</table>\n",
       "</div>"
      ],
      "text/plain": [
       "  Accident_Index  Vehicle_Reference  Casualty_Reference  Casualty_Class  \\\n",
       "0  2017010001708                  1                   1               2   \n",
       "1  2017010001708                  2                   2               1   \n",
       "2  2017010001708                  2                   3               2   \n",
       "3  2017010009342                  1                   1               2   \n",
       "4  2017010009344                  3                   1               1   \n",
       "\n",
       "   Sex_of_Casualty  Age_of_Casualty  Age_Band_of_Casualty  Casualty_Severity  \\\n",
       "0                2               18                     4                  3   \n",
       "1                1               19                     4                  2   \n",
       "2                1               18                     4                  1   \n",
       "3                2               33                     6                  3   \n",
       "4                2               31                     6                  3   \n",
       "\n",
       "   Pedestrian_Location  Pedestrian_Movement  Car_Passenger  \\\n",
       "0                    0                    0              1   \n",
       "1                    0                    0              0   \n",
       "2                    0                    0              0   \n",
       "3                    0                    0              1   \n",
       "4                    0                    0              0   \n",
       "\n",
       "   Bus_or_Coach_Passenger  Pedestrian_Road_Maintenance_Worker  Casualty_Type  \\\n",
       "0                       0                                   0              9   \n",
       "1                       0                                   0              2   \n",
       "2                       0                                   0              2   \n",
       "3                       0                                   0              9   \n",
       "4                       0                                   0              9   \n",
       "\n",
       "   Casualty_Home_Area_Type  Casualty_IMD_Decile  \n",
       "0                        1                    2  \n",
       "1                       -1                   -1  \n",
       "2                       -1                   -1  \n",
       "3                        1                    5  \n",
       "4                        1                    5  "
      ]
     },
     "execution_count": 100,
     "metadata": {},
     "output_type": "execute_result"
    }
   ],
   "source": [
    "filename = 'Cas.csv'\n",
    "datacas = pd.read_csv('Cas.csv')\n",
    "datacas.head()"
   ]
  },
  {
   "cell_type": "code",
   "execution_count": 101,
   "metadata": {
    "collapsed": false
   },
   "outputs": [
    {
     "data": {
      "text/html": [
       "<div>\n",
       "<style scoped>\n",
       "    .dataframe tbody tr th:only-of-type {\n",
       "        vertical-align: middle;\n",
       "    }\n",
       "\n",
       "    .dataframe tbody tr th {\n",
       "        vertical-align: top;\n",
       "    }\n",
       "\n",
       "    .dataframe thead th {\n",
       "        text-align: right;\n",
       "    }\n",
       "</style>\n",
       "<table border=\"1\" class=\"dataframe\">\n",
       "  <thead>\n",
       "    <tr style=\"text-align: right;\">\n",
       "      <th></th>\n",
       "      <th>Accident_Index</th>\n",
       "      <th>Vehicle_Reference</th>\n",
       "      <th>Casualty_Reference</th>\n",
       "      <th>Casualty_Class</th>\n",
       "      <th>Sex_of_Casualty</th>\n",
       "      <th>Age_of_Casualty</th>\n",
       "      <th>Age_Band_of_Casualty</th>\n",
       "      <th>Casualty_Severity</th>\n",
       "      <th>Pedestrian_Location</th>\n",
       "      <th>Pedestrian_Movement</th>\n",
       "      <th>Car_Passenger</th>\n",
       "      <th>Bus_or_Coach_Passenger</th>\n",
       "      <th>Pedestrian_Road_Maintenance_Worker</th>\n",
       "      <th>Casualty_Type</th>\n",
       "      <th>Casualty_Home_Area_Type</th>\n",
       "      <th>Casualty_IMD_Decile</th>\n",
       "    </tr>\n",
       "  </thead>\n",
       "  <tbody>\n",
       "    <tr>\n",
       "      <th>170988</th>\n",
       "      <td>2017984121217</td>\n",
       "      <td>1</td>\n",
       "      <td>1</td>\n",
       "      <td>3</td>\n",
       "      <td>2</td>\n",
       "      <td>49</td>\n",
       "      <td>8</td>\n",
       "      <td>3</td>\n",
       "      <td>9</td>\n",
       "      <td>6</td>\n",
       "      <td>0</td>\n",
       "      <td>0</td>\n",
       "      <td>0</td>\n",
       "      <td>0</td>\n",
       "      <td>3</td>\n",
       "      <td>-1</td>\n",
       "    </tr>\n",
       "    <tr>\n",
       "      <th>170989</th>\n",
       "      <td>2017984121717</td>\n",
       "      <td>1</td>\n",
       "      <td>1</td>\n",
       "      <td>2</td>\n",
       "      <td>1</td>\n",
       "      <td>22</td>\n",
       "      <td>5</td>\n",
       "      <td>3</td>\n",
       "      <td>0</td>\n",
       "      <td>0</td>\n",
       "      <td>1</td>\n",
       "      <td>0</td>\n",
       "      <td>0</td>\n",
       "      <td>19</td>\n",
       "      <td>1</td>\n",
       "      <td>2</td>\n",
       "    </tr>\n",
       "    <tr>\n",
       "      <th>170990</th>\n",
       "      <td>2017984122317</td>\n",
       "      <td>1</td>\n",
       "      <td>1</td>\n",
       "      <td>1</td>\n",
       "      <td>1</td>\n",
       "      <td>25</td>\n",
       "      <td>5</td>\n",
       "      <td>3</td>\n",
       "      <td>0</td>\n",
       "      <td>0</td>\n",
       "      <td>0</td>\n",
       "      <td>0</td>\n",
       "      <td>0</td>\n",
       "      <td>4</td>\n",
       "      <td>1</td>\n",
       "      <td>-1</td>\n",
       "    </tr>\n",
       "    <tr>\n",
       "      <th>170991</th>\n",
       "      <td>2017984122617</td>\n",
       "      <td>1</td>\n",
       "      <td>1</td>\n",
       "      <td>1</td>\n",
       "      <td>1</td>\n",
       "      <td>49</td>\n",
       "      <td>8</td>\n",
       "      <td>3</td>\n",
       "      <td>0</td>\n",
       "      <td>0</td>\n",
       "      <td>0</td>\n",
       "      <td>0</td>\n",
       "      <td>0</td>\n",
       "      <td>9</td>\n",
       "      <td>3</td>\n",
       "      <td>-1</td>\n",
       "    </tr>\n",
       "    <tr>\n",
       "      <th>170992</th>\n",
       "      <td>2017984122617</td>\n",
       "      <td>2</td>\n",
       "      <td>2</td>\n",
       "      <td>1</td>\n",
       "      <td>1</td>\n",
       "      <td>50</td>\n",
       "      <td>8</td>\n",
       "      <td>2</td>\n",
       "      <td>0</td>\n",
       "      <td>0</td>\n",
       "      <td>0</td>\n",
       "      <td>0</td>\n",
       "      <td>0</td>\n",
       "      <td>9</td>\n",
       "      <td>2</td>\n",
       "      <td>-1</td>\n",
       "    </tr>\n",
       "  </tbody>\n",
       "</table>\n",
       "</div>"
      ],
      "text/plain": [
       "       Accident_Index  Vehicle_Reference  Casualty_Reference  Casualty_Class  \\\n",
       "170988  2017984121217                  1                   1               3   \n",
       "170989  2017984121717                  1                   1               2   \n",
       "170990  2017984122317                  1                   1               1   \n",
       "170991  2017984122617                  1                   1               1   \n",
       "170992  2017984122617                  2                   2               1   \n",
       "\n",
       "        Sex_of_Casualty  Age_of_Casualty  Age_Band_of_Casualty  \\\n",
       "170988                2               49                     8   \n",
       "170989                1               22                     5   \n",
       "170990                1               25                     5   \n",
       "170991                1               49                     8   \n",
       "170992                1               50                     8   \n",
       "\n",
       "        Casualty_Severity  Pedestrian_Location  Pedestrian_Movement  \\\n",
       "170988                  3                    9                    6   \n",
       "170989                  3                    0                    0   \n",
       "170990                  3                    0                    0   \n",
       "170991                  3                    0                    0   \n",
       "170992                  2                    0                    0   \n",
       "\n",
       "        Car_Passenger  Bus_or_Coach_Passenger  \\\n",
       "170988              0                       0   \n",
       "170989              1                       0   \n",
       "170990              0                       0   \n",
       "170991              0                       0   \n",
       "170992              0                       0   \n",
       "\n",
       "        Pedestrian_Road_Maintenance_Worker  Casualty_Type  \\\n",
       "170988                                   0              0   \n",
       "170989                                   0             19   \n",
       "170990                                   0              4   \n",
       "170991                                   0              9   \n",
       "170992                                   0              9   \n",
       "\n",
       "        Casualty_Home_Area_Type  Casualty_IMD_Decile  \n",
       "170988                        3                   -1  \n",
       "170989                        1                    2  \n",
       "170990                        1                   -1  \n",
       "170991                        3                   -1  \n",
       "170992                        2                   -1  "
      ]
     },
     "execution_count": 101,
     "metadata": {},
     "output_type": "execute_result"
    }
   ],
   "source": [
    "datacas.tail()"
   ]
  },
  {
   "cell_type": "code",
   "execution_count": 102,
   "metadata": {
    "collapsed": false
   },
   "outputs": [
    {
     "data": {
      "text/html": [
       "<div>\n",
       "<style scoped>\n",
       "    .dataframe tbody tr th:only-of-type {\n",
       "        vertical-align: middle;\n",
       "    }\n",
       "\n",
       "    .dataframe tbody tr th {\n",
       "        vertical-align: top;\n",
       "    }\n",
       "\n",
       "    .dataframe thead th {\n",
       "        text-align: right;\n",
       "    }\n",
       "</style>\n",
       "<table border=\"1\" class=\"dataframe\">\n",
       "  <thead>\n",
       "    <tr style=\"text-align: right;\">\n",
       "      <th></th>\n",
       "      <th>Vehicle_Reference</th>\n",
       "      <th>Casualty_Reference</th>\n",
       "      <th>Casualty_Class</th>\n",
       "      <th>Sex_of_Casualty</th>\n",
       "      <th>Age_of_Casualty</th>\n",
       "      <th>Age_Band_of_Casualty</th>\n",
       "      <th>Casualty_Severity</th>\n",
       "      <th>Pedestrian_Location</th>\n",
       "      <th>Pedestrian_Movement</th>\n",
       "      <th>Car_Passenger</th>\n",
       "      <th>Bus_or_Coach_Passenger</th>\n",
       "      <th>Pedestrian_Road_Maintenance_Worker</th>\n",
       "      <th>Casualty_Type</th>\n",
       "      <th>Casualty_Home_Area_Type</th>\n",
       "      <th>Casualty_IMD_Decile</th>\n",
       "    </tr>\n",
       "  </thead>\n",
       "  <tbody>\n",
       "    <tr>\n",
       "      <th>count</th>\n",
       "      <td>170993.000000</td>\n",
       "      <td>170993.000000</td>\n",
       "      <td>170993.000000</td>\n",
       "      <td>170993.000000</td>\n",
       "      <td>170993.000000</td>\n",
       "      <td>170993.000000</td>\n",
       "      <td>170993.000000</td>\n",
       "      <td>170993.000000</td>\n",
       "      <td>170993.000000</td>\n",
       "      <td>170993.000000</td>\n",
       "      <td>170993.000000</td>\n",
       "      <td>170993.000000</td>\n",
       "      <td>170993.000000</td>\n",
       "      <td>170993.000000</td>\n",
       "      <td>170993.000000</td>\n",
       "    </tr>\n",
       "    <tr>\n",
       "      <th>mean</th>\n",
       "      <td>1.482166</td>\n",
       "      <td>1.397285</td>\n",
       "      <td>1.499155</td>\n",
       "      <td>1.406642</td>\n",
       "      <td>36.503921</td>\n",
       "      <td>6.298246</td>\n",
       "      <td>2.833812</td>\n",
       "      <td>0.755733</td>\n",
       "      <td>0.598750</td>\n",
       "      <td>0.250782</td>\n",
       "      <td>0.079307</td>\n",
       "      <td>0.091629</td>\n",
       "      <td>7.270099</td>\n",
       "      <td>0.796869</td>\n",
       "      <td>3.227957</td>\n",
       "    </tr>\n",
       "    <tr>\n",
       "      <th>std</th>\n",
       "      <td>0.656579</td>\n",
       "      <td>1.125848</td>\n",
       "      <td>0.726935</td>\n",
       "      <td>0.492172</td>\n",
       "      <td>19.283721</td>\n",
       "      <td>2.377378</td>\n",
       "      <td>0.399427</td>\n",
       "      <td>2.119174</td>\n",
       "      <td>1.926425</td>\n",
       "      <td>0.576786</td>\n",
       "      <td>0.534449</td>\n",
       "      <td>0.419243</td>\n",
       "      <td>8.275476</td>\n",
       "      <td>1.100744</td>\n",
       "      <td>3.595264</td>\n",
       "    </tr>\n",
       "    <tr>\n",
       "      <th>min</th>\n",
       "      <td>1.000000</td>\n",
       "      <td>1.000000</td>\n",
       "      <td>1.000000</td>\n",
       "      <td>-1.000000</td>\n",
       "      <td>-1.000000</td>\n",
       "      <td>-1.000000</td>\n",
       "      <td>1.000000</td>\n",
       "      <td>0.000000</td>\n",
       "      <td>0.000000</td>\n",
       "      <td>-1.000000</td>\n",
       "      <td>-1.000000</td>\n",
       "      <td>-1.000000</td>\n",
       "      <td>-1.000000</td>\n",
       "      <td>-1.000000</td>\n",
       "      <td>-1.000000</td>\n",
       "    </tr>\n",
       "    <tr>\n",
       "      <th>25%</th>\n",
       "      <td>1.000000</td>\n",
       "      <td>1.000000</td>\n",
       "      <td>1.000000</td>\n",
       "      <td>1.000000</td>\n",
       "      <td>22.000000</td>\n",
       "      <td>5.000000</td>\n",
       "      <td>3.000000</td>\n",
       "      <td>0.000000</td>\n",
       "      <td>0.000000</td>\n",
       "      <td>0.000000</td>\n",
       "      <td>0.000000</td>\n",
       "      <td>0.000000</td>\n",
       "      <td>2.000000</td>\n",
       "      <td>1.000000</td>\n",
       "      <td>-1.000000</td>\n",
       "    </tr>\n",
       "    <tr>\n",
       "      <th>50%</th>\n",
       "      <td>1.000000</td>\n",
       "      <td>1.000000</td>\n",
       "      <td>1.000000</td>\n",
       "      <td>1.000000</td>\n",
       "      <td>33.000000</td>\n",
       "      <td>6.000000</td>\n",
       "      <td>3.000000</td>\n",
       "      <td>0.000000</td>\n",
       "      <td>0.000000</td>\n",
       "      <td>0.000000</td>\n",
       "      <td>0.000000</td>\n",
       "      <td>0.000000</td>\n",
       "      <td>9.000000</td>\n",
       "      <td>1.000000</td>\n",
       "      <td>3.000000</td>\n",
       "    </tr>\n",
       "    <tr>\n",
       "      <th>75%</th>\n",
       "      <td>2.000000</td>\n",
       "      <td>1.000000</td>\n",
       "      <td>2.000000</td>\n",
       "      <td>2.000000</td>\n",
       "      <td>50.000000</td>\n",
       "      <td>8.000000</td>\n",
       "      <td>3.000000</td>\n",
       "      <td>0.000000</td>\n",
       "      <td>0.000000</td>\n",
       "      <td>0.000000</td>\n",
       "      <td>0.000000</td>\n",
       "      <td>0.000000</td>\n",
       "      <td>9.000000</td>\n",
       "      <td>1.000000</td>\n",
       "      <td>6.000000</td>\n",
       "    </tr>\n",
       "    <tr>\n",
       "      <th>max</th>\n",
       "      <td>101.000000</td>\n",
       "      <td>201.000000</td>\n",
       "      <td>3.000000</td>\n",
       "      <td>2.000000</td>\n",
       "      <td>100.000000</td>\n",
       "      <td>11.000000</td>\n",
       "      <td>3.000000</td>\n",
       "      <td>10.000000</td>\n",
       "      <td>9.000000</td>\n",
       "      <td>2.000000</td>\n",
       "      <td>4.000000</td>\n",
       "      <td>2.000000</td>\n",
       "      <td>98.000000</td>\n",
       "      <td>3.000000</td>\n",
       "      <td>10.000000</td>\n",
       "    </tr>\n",
       "  </tbody>\n",
       "</table>\n",
       "</div>"
      ],
      "text/plain": [
       "       Vehicle_Reference  Casualty_Reference  Casualty_Class  Sex_of_Casualty  \\\n",
       "count      170993.000000       170993.000000   170993.000000    170993.000000   \n",
       "mean            1.482166            1.397285        1.499155         1.406642   \n",
       "std             0.656579            1.125848        0.726935         0.492172   \n",
       "min             1.000000            1.000000        1.000000        -1.000000   \n",
       "25%             1.000000            1.000000        1.000000         1.000000   \n",
       "50%             1.000000            1.000000        1.000000         1.000000   \n",
       "75%             2.000000            1.000000        2.000000         2.000000   \n",
       "max           101.000000          201.000000        3.000000         2.000000   \n",
       "\n",
       "       Age_of_Casualty  Age_Band_of_Casualty  Casualty_Severity  \\\n",
       "count    170993.000000         170993.000000      170993.000000   \n",
       "mean         36.503921              6.298246           2.833812   \n",
       "std          19.283721              2.377378           0.399427   \n",
       "min          -1.000000             -1.000000           1.000000   \n",
       "25%          22.000000              5.000000           3.000000   \n",
       "50%          33.000000              6.000000           3.000000   \n",
       "75%          50.000000              8.000000           3.000000   \n",
       "max         100.000000             11.000000           3.000000   \n",
       "\n",
       "       Pedestrian_Location  Pedestrian_Movement  Car_Passenger  \\\n",
       "count        170993.000000        170993.000000  170993.000000   \n",
       "mean              0.755733             0.598750       0.250782   \n",
       "std               2.119174             1.926425       0.576786   \n",
       "min               0.000000             0.000000      -1.000000   \n",
       "25%               0.000000             0.000000       0.000000   \n",
       "50%               0.000000             0.000000       0.000000   \n",
       "75%               0.000000             0.000000       0.000000   \n",
       "max              10.000000             9.000000       2.000000   \n",
       "\n",
       "       Bus_or_Coach_Passenger  Pedestrian_Road_Maintenance_Worker  \\\n",
       "count           170993.000000                       170993.000000   \n",
       "mean                 0.079307                            0.091629   \n",
       "std                  0.534449                            0.419243   \n",
       "min                 -1.000000                           -1.000000   \n",
       "25%                  0.000000                            0.000000   \n",
       "50%                  0.000000                            0.000000   \n",
       "75%                  0.000000                            0.000000   \n",
       "max                  4.000000                            2.000000   \n",
       "\n",
       "       Casualty_Type  Casualty_Home_Area_Type  Casualty_IMD_Decile  \n",
       "count  170993.000000            170993.000000        170993.000000  \n",
       "mean        7.270099                 0.796869             3.227957  \n",
       "std         8.275476                 1.100744             3.595264  \n",
       "min        -1.000000                -1.000000            -1.000000  \n",
       "25%         2.000000                 1.000000            -1.000000  \n",
       "50%         9.000000                 1.000000             3.000000  \n",
       "75%         9.000000                 1.000000             6.000000  \n",
       "max        98.000000                 3.000000            10.000000  "
      ]
     },
     "execution_count": 102,
     "metadata": {},
     "output_type": "execute_result"
    }
   ],
   "source": [
    "datacas.describe()"
   ]
  },
  {
   "cell_type": "markdown",
   "metadata": {},
   "source": [
    "check the data type for casualty dataset."
   ]
  },
  {
   "cell_type": "code",
   "execution_count": 103,
   "metadata": {
    "collapsed": false
   },
   "outputs": [
    {
     "data": {
      "text/plain": [
       "Accident_Index                        object\n",
       "Vehicle_Reference                      int64\n",
       "Casualty_Reference                     int64\n",
       "Casualty_Class                         int64\n",
       "Sex_of_Casualty                        int64\n",
       "Age_of_Casualty                        int64\n",
       "Age_Band_of_Casualty                   int64\n",
       "Casualty_Severity                      int64\n",
       "Pedestrian_Location                    int64\n",
       "Pedestrian_Movement                    int64\n",
       "Car_Passenger                          int64\n",
       "Bus_or_Coach_Passenger                 int64\n",
       "Pedestrian_Road_Maintenance_Worker     int64\n",
       "Casualty_Type                          int64\n",
       "Casualty_Home_Area_Type                int64\n",
       "Casualty_IMD_Decile                    int64\n",
       "dtype: object"
      ]
     },
     "execution_count": 103,
     "metadata": {},
     "output_type": "execute_result"
    }
   ],
   "source": [
    "datacas.dtypes"
   ]
  },
  {
   "cell_type": "markdown",
   "metadata": {},
   "source": [
    "### check the missing value or null value in casualty table."
   ]
  },
  {
   "cell_type": "code",
   "execution_count": 104,
   "metadata": {
    "collapsed": false
   },
   "outputs": [
    {
     "data": {
      "text/plain": [
       "Accident_Index                        0\n",
       "Vehicle_Reference                     0\n",
       "Casualty_Reference                    0\n",
       "Casualty_Class                        0\n",
       "Sex_of_Casualty                       0\n",
       "Age_of_Casualty                       0\n",
       "Age_Band_of_Casualty                  0\n",
       "Casualty_Severity                     0\n",
       "Pedestrian_Location                   0\n",
       "Pedestrian_Movement                   0\n",
       "Car_Passenger                         0\n",
       "Bus_or_Coach_Passenger                0\n",
       "Pedestrian_Road_Maintenance_Worker    0\n",
       "Casualty_Type                         0\n",
       "Casualty_Home_Area_Type               0\n",
       "Casualty_IMD_Decile                   0\n",
       "dtype: int64"
      ]
     },
     "execution_count": 104,
     "metadata": {},
     "output_type": "execute_result"
    }
   ],
   "source": [
    "datacas.apply(lambda x: sum(x.isnull()),axis=0) "
   ]
  },
  {
   "cell_type": "code",
   "execution_count": 105,
   "metadata": {
    "collapsed": false
   },
   "outputs": [
    {
     "data": {
      "text/plain": [
       "Accident_Index                        False\n",
       "Vehicle_Reference                     False\n",
       "Casualty_Reference                    False\n",
       "Casualty_Class                        False\n",
       "Sex_of_Casualty                       False\n",
       "Age_of_Casualty                       False\n",
       "Age_Band_of_Casualty                  False\n",
       "Casualty_Severity                     False\n",
       "Pedestrian_Location                   False\n",
       "Pedestrian_Movement                   False\n",
       "Car_Passenger                         False\n",
       "Bus_or_Coach_Passenger                False\n",
       "Pedestrian_Road_Maintenance_Worker    False\n",
       "Casualty_Type                         False\n",
       "Casualty_Home_Area_Type               False\n",
       "Casualty_IMD_Decile                   False\n",
       "dtype: bool"
      ]
     },
     "execution_count": 105,
     "metadata": {},
     "output_type": "execute_result"
    }
   ],
   "source": [
    "pd.isnull(datacas).any()"
   ]
  },
  {
   "cell_type": "markdown",
   "metadata": {},
   "source": [
    "#### For DataFrame objects which don’t have a meaningful index, you may wish to append them and ignore the fact that\n",
    "they may have overlapping indexes. To do this, use the ignore_index argument:\n",
    "Jacc_cas = pd.concat([dataAcc, datacas], ignore_index=True, sort=False)\n",
    "Here is an example of each of these methods. First, the default join='outer' behavior:"
   ]
  },
  {
   "cell_type": "code",
   "execution_count": 106,
   "metadata": {
    "collapsed": false
   },
   "outputs": [
    {
     "data": {
      "text/html": [
       "<div>\n",
       "<style scoped>\n",
       "    .dataframe tbody tr th:only-of-type {\n",
       "        vertical-align: middle;\n",
       "    }\n",
       "\n",
       "    .dataframe tbody tr th {\n",
       "        vertical-align: top;\n",
       "    }\n",
       "\n",
       "    .dataframe thead th {\n",
       "        text-align: right;\n",
       "    }\n",
       "</style>\n",
       "<table border=\"1\" class=\"dataframe\">\n",
       "  <thead>\n",
       "    <tr style=\"text-align: right;\">\n",
       "      <th></th>\n",
       "      <th>Accident_Index</th>\n",
       "      <th>Location_Easting_OSGR</th>\n",
       "      <th>Location_Northing_OSGR</th>\n",
       "      <th>Longitude</th>\n",
       "      <th>Latitude</th>\n",
       "      <th>Police_Force</th>\n",
       "      <th>Accident_Severity</th>\n",
       "      <th>Number_of_Vehicles</th>\n",
       "      <th>Number_of_Casualties</th>\n",
       "      <th>Date</th>\n",
       "      <th>...</th>\n",
       "      <th>Age_Band_of_Casualty</th>\n",
       "      <th>Casualty_Severity</th>\n",
       "      <th>Pedestrian_Location</th>\n",
       "      <th>Pedestrian_Movement</th>\n",
       "      <th>Car_Passenger</th>\n",
       "      <th>Bus_or_Coach_Passenger</th>\n",
       "      <th>Pedestrian_Road_Maintenance_Worker</th>\n",
       "      <th>Casualty_Type</th>\n",
       "      <th>Casualty_Home_Area_Type</th>\n",
       "      <th>Casualty_IMD_Decile</th>\n",
       "    </tr>\n",
       "  </thead>\n",
       "  <tbody>\n",
       "    <tr>\n",
       "      <th>0</th>\n",
       "      <td>2017010001708</td>\n",
       "      <td>532920.0</td>\n",
       "      <td>196330.0</td>\n",
       "      <td>-0.080107</td>\n",
       "      <td>51.650061</td>\n",
       "      <td>1.0</td>\n",
       "      <td>1.0</td>\n",
       "      <td>2.0</td>\n",
       "      <td>3.0</td>\n",
       "      <td>05/08/2017</td>\n",
       "      <td>...</td>\n",
       "      <td>4</td>\n",
       "      <td>3</td>\n",
       "      <td>0</td>\n",
       "      <td>0</td>\n",
       "      <td>1</td>\n",
       "      <td>0</td>\n",
       "      <td>0</td>\n",
       "      <td>9</td>\n",
       "      <td>1</td>\n",
       "      <td>2</td>\n",
       "    </tr>\n",
       "    <tr>\n",
       "      <th>1</th>\n",
       "      <td>2017010009342</td>\n",
       "      <td>526790.0</td>\n",
       "      <td>181970.0</td>\n",
       "      <td>-0.173845</td>\n",
       "      <td>51.522425</td>\n",
       "      <td>1.0</td>\n",
       "      <td>3.0</td>\n",
       "      <td>2.0</td>\n",
       "      <td>1.0</td>\n",
       "      <td>01/01/2017</td>\n",
       "      <td>...</td>\n",
       "      <td>4</td>\n",
       "      <td>2</td>\n",
       "      <td>0</td>\n",
       "      <td>0</td>\n",
       "      <td>0</td>\n",
       "      <td>0</td>\n",
       "      <td>0</td>\n",
       "      <td>2</td>\n",
       "      <td>-1</td>\n",
       "      <td>-1</td>\n",
       "    </tr>\n",
       "    <tr>\n",
       "      <th>2</th>\n",
       "      <td>2017010009344</td>\n",
       "      <td>535200.0</td>\n",
       "      <td>181260.0</td>\n",
       "      <td>-0.052969</td>\n",
       "      <td>51.514096</td>\n",
       "      <td>1.0</td>\n",
       "      <td>3.0</td>\n",
       "      <td>3.0</td>\n",
       "      <td>1.0</td>\n",
       "      <td>01/01/2017</td>\n",
       "      <td>...</td>\n",
       "      <td>4</td>\n",
       "      <td>1</td>\n",
       "      <td>0</td>\n",
       "      <td>0</td>\n",
       "      <td>0</td>\n",
       "      <td>0</td>\n",
       "      <td>0</td>\n",
       "      <td>2</td>\n",
       "      <td>-1</td>\n",
       "      <td>-1</td>\n",
       "    </tr>\n",
       "    <tr>\n",
       "      <th>3</th>\n",
       "      <td>2017010009348</td>\n",
       "      <td>534340.0</td>\n",
       "      <td>193560.0</td>\n",
       "      <td>-0.060658</td>\n",
       "      <td>51.624832</td>\n",
       "      <td>1.0</td>\n",
       "      <td>3.0</td>\n",
       "      <td>2.0</td>\n",
       "      <td>1.0</td>\n",
       "      <td>01/01/2017</td>\n",
       "      <td>...</td>\n",
       "      <td>6</td>\n",
       "      <td>3</td>\n",
       "      <td>0</td>\n",
       "      <td>0</td>\n",
       "      <td>1</td>\n",
       "      <td>0</td>\n",
       "      <td>0</td>\n",
       "      <td>9</td>\n",
       "      <td>1</td>\n",
       "      <td>5</td>\n",
       "    </tr>\n",
       "    <tr>\n",
       "      <th>4</th>\n",
       "      <td>2017010009350</td>\n",
       "      <td>533680.0</td>\n",
       "      <td>187820.0</td>\n",
       "      <td>-0.072372</td>\n",
       "      <td>51.573408</td>\n",
       "      <td>1.0</td>\n",
       "      <td>2.0</td>\n",
       "      <td>1.0</td>\n",
       "      <td>1.0</td>\n",
       "      <td>01/01/2017</td>\n",
       "      <td>...</td>\n",
       "      <td>6</td>\n",
       "      <td>3</td>\n",
       "      <td>0</td>\n",
       "      <td>0</td>\n",
       "      <td>0</td>\n",
       "      <td>0</td>\n",
       "      <td>0</td>\n",
       "      <td>9</td>\n",
       "      <td>1</td>\n",
       "      <td>5</td>\n",
       "    </tr>\n",
       "  </tbody>\n",
       "</table>\n",
       "<p>5 rows × 48 columns</p>\n",
       "</div>"
      ],
      "text/plain": [
       "  Accident_Index  Location_Easting_OSGR  Location_Northing_OSGR  Longitude  \\\n",
       "0  2017010001708               532920.0                196330.0  -0.080107   \n",
       "1  2017010009342               526790.0                181970.0  -0.173845   \n",
       "2  2017010009344               535200.0                181260.0  -0.052969   \n",
       "3  2017010009348               534340.0                193560.0  -0.060658   \n",
       "4  2017010009350               533680.0                187820.0  -0.072372   \n",
       "\n",
       "    Latitude  Police_Force  Accident_Severity  Number_of_Vehicles  \\\n",
       "0  51.650061           1.0                1.0                 2.0   \n",
       "1  51.522425           1.0                3.0                 2.0   \n",
       "2  51.514096           1.0                3.0                 3.0   \n",
       "3  51.624832           1.0                3.0                 2.0   \n",
       "4  51.573408           1.0                2.0                 1.0   \n",
       "\n",
       "   Number_of_Casualties        Date  ...  Age_Band_of_Casualty  \\\n",
       "0                   3.0  05/08/2017  ...                     4   \n",
       "1                   1.0  01/01/2017  ...                     4   \n",
       "2                   1.0  01/01/2017  ...                     4   \n",
       "3                   1.0  01/01/2017  ...                     6   \n",
       "4                   1.0  01/01/2017  ...                     6   \n",
       "\n",
       "  Casualty_Severity  Pedestrian_Location Pedestrian_Movement  Car_Passenger  \\\n",
       "0                 3                    0                   0              1   \n",
       "1                 2                    0                   0              0   \n",
       "2                 1                    0                   0              0   \n",
       "3                 3                    0                   0              1   \n",
       "4                 3                    0                   0              0   \n",
       "\n",
       "   Bus_or_Coach_Passenger  Pedestrian_Road_Maintenance_Worker  Casualty_Type  \\\n",
       "0                       0                                   0              9   \n",
       "1                       0                                   0              2   \n",
       "2                       0                                   0              2   \n",
       "3                       0                                   0              9   \n",
       "4                       0                                   0              9   \n",
       "\n",
       "   Casualty_Home_Area_Type  Casualty_IMD_Decile  \n",
       "0                        1                    2  \n",
       "1                       -1                   -1  \n",
       "2                       -1                   -1  \n",
       "3                        1                    5  \n",
       "4                        1                    5  \n",
       "\n",
       "[5 rows x 48 columns]"
      ]
     },
     "execution_count": 106,
     "metadata": {},
     "output_type": "execute_result"
    }
   ],
   "source": [
    "Jacc_cas = pd.concat([dataAcc, datacas], axis=1, sort=False)\n",
    "Jacc_cas.head()"
   ]
  },
  {
   "cell_type": "markdown",
   "metadata": {},
   "source": [
    "#### Making data frame for vehicle table.\n",
    "Vehicles tables includes 23 columns and gives details of the vehicles involved in collisions, and it links via ‘Accident Index’ to the Accidents table."
   ]
  },
  {
   "cell_type": "code",
   "execution_count": 107,
   "metadata": {
    "collapsed": false
   },
   "outputs": [
    {
     "data": {
      "text/html": [
       "<div>\n",
       "<style scoped>\n",
       "    .dataframe tbody tr th:only-of-type {\n",
       "        vertical-align: middle;\n",
       "    }\n",
       "\n",
       "    .dataframe tbody tr th {\n",
       "        vertical-align: top;\n",
       "    }\n",
       "\n",
       "    .dataframe thead th {\n",
       "        text-align: right;\n",
       "    }\n",
       "</style>\n",
       "<table border=\"1\" class=\"dataframe\">\n",
       "  <thead>\n",
       "    <tr style=\"text-align: right;\">\n",
       "      <th></th>\n",
       "      <th>Accident_Index</th>\n",
       "      <th>Vehicle_Reference</th>\n",
       "      <th>Vehicle_Type</th>\n",
       "      <th>Towing_and_Articulation</th>\n",
       "      <th>Vehicle_Manoeuvre</th>\n",
       "      <th>Vehicle_Location-Restricted_Lane</th>\n",
       "      <th>Junction_Location</th>\n",
       "      <th>Skidding_and_Overturning</th>\n",
       "      <th>Hit_Object_in_Carriageway</th>\n",
       "      <th>Vehicle_Leaving_Carriageway</th>\n",
       "      <th>...</th>\n",
       "      <th>Journey_Purpose_of_Driver</th>\n",
       "      <th>Sex_of_Driver</th>\n",
       "      <th>Age_of_Driver</th>\n",
       "      <th>Age_Band_of_Driver</th>\n",
       "      <th>Engine_Capacity_(CC)</th>\n",
       "      <th>Propulsion_Code</th>\n",
       "      <th>Age_of_Vehicle</th>\n",
       "      <th>Driver_IMD_Decile</th>\n",
       "      <th>Driver_Home_Area_Type</th>\n",
       "      <th>Vehicle_IMD_Decile</th>\n",
       "    </tr>\n",
       "  </thead>\n",
       "  <tbody>\n",
       "    <tr>\n",
       "      <th>0</th>\n",
       "      <td>2017010001708</td>\n",
       "      <td>1</td>\n",
       "      <td>9</td>\n",
       "      <td>0</td>\n",
       "      <td>18</td>\n",
       "      <td>0</td>\n",
       "      <td>0</td>\n",
       "      <td>0</td>\n",
       "      <td>0</td>\n",
       "      <td>0</td>\n",
       "      <td>...</td>\n",
       "      <td>6</td>\n",
       "      <td>1</td>\n",
       "      <td>24</td>\n",
       "      <td>5</td>\n",
       "      <td>1997</td>\n",
       "      <td>2</td>\n",
       "      <td>1</td>\n",
       "      <td>-1</td>\n",
       "      <td>-1</td>\n",
       "      <td>-1</td>\n",
       "    </tr>\n",
       "    <tr>\n",
       "      <th>1</th>\n",
       "      <td>2017010001708</td>\n",
       "      <td>2</td>\n",
       "      <td>2</td>\n",
       "      <td>0</td>\n",
       "      <td>18</td>\n",
       "      <td>0</td>\n",
       "      <td>0</td>\n",
       "      <td>1</td>\n",
       "      <td>0</td>\n",
       "      <td>0</td>\n",
       "      <td>...</td>\n",
       "      <td>6</td>\n",
       "      <td>1</td>\n",
       "      <td>19</td>\n",
       "      <td>4</td>\n",
       "      <td>-1</td>\n",
       "      <td>-1</td>\n",
       "      <td>-1</td>\n",
       "      <td>-1</td>\n",
       "      <td>-1</td>\n",
       "      <td>-1</td>\n",
       "    </tr>\n",
       "    <tr>\n",
       "      <th>2</th>\n",
       "      <td>2017010009342</td>\n",
       "      <td>1</td>\n",
       "      <td>9</td>\n",
       "      <td>0</td>\n",
       "      <td>18</td>\n",
       "      <td>0</td>\n",
       "      <td>1</td>\n",
       "      <td>0</td>\n",
       "      <td>0</td>\n",
       "      <td>0</td>\n",
       "      <td>...</td>\n",
       "      <td>6</td>\n",
       "      <td>1</td>\n",
       "      <td>33</td>\n",
       "      <td>6</td>\n",
       "      <td>1797</td>\n",
       "      <td>8</td>\n",
       "      <td>8</td>\n",
       "      <td>9</td>\n",
       "      <td>1</td>\n",
       "      <td>9</td>\n",
       "    </tr>\n",
       "    <tr>\n",
       "      <th>3</th>\n",
       "      <td>2017010009342</td>\n",
       "      <td>2</td>\n",
       "      <td>9</td>\n",
       "      <td>0</td>\n",
       "      <td>18</td>\n",
       "      <td>0</td>\n",
       "      <td>1</td>\n",
       "      <td>1</td>\n",
       "      <td>0</td>\n",
       "      <td>0</td>\n",
       "      <td>...</td>\n",
       "      <td>6</td>\n",
       "      <td>1</td>\n",
       "      <td>40</td>\n",
       "      <td>7</td>\n",
       "      <td>2204</td>\n",
       "      <td>2</td>\n",
       "      <td>12</td>\n",
       "      <td>2</td>\n",
       "      <td>1</td>\n",
       "      <td>2</td>\n",
       "    </tr>\n",
       "    <tr>\n",
       "      <th>4</th>\n",
       "      <td>2017010009344</td>\n",
       "      <td>1</td>\n",
       "      <td>9</td>\n",
       "      <td>0</td>\n",
       "      <td>18</td>\n",
       "      <td>0</td>\n",
       "      <td>1</td>\n",
       "      <td>0</td>\n",
       "      <td>0</td>\n",
       "      <td>0</td>\n",
       "      <td>...</td>\n",
       "      <td>6</td>\n",
       "      <td>3</td>\n",
       "      <td>-1</td>\n",
       "      <td>-1</td>\n",
       "      <td>-1</td>\n",
       "      <td>-1</td>\n",
       "      <td>-1</td>\n",
       "      <td>-1</td>\n",
       "      <td>-1</td>\n",
       "      <td>-1</td>\n",
       "    </tr>\n",
       "  </tbody>\n",
       "</table>\n",
       "<p>5 rows × 23 columns</p>\n",
       "</div>"
      ],
      "text/plain": [
       "  Accident_Index  Vehicle_Reference  Vehicle_Type  Towing_and_Articulation  \\\n",
       "0  2017010001708                  1             9                        0   \n",
       "1  2017010001708                  2             2                        0   \n",
       "2  2017010009342                  1             9                        0   \n",
       "3  2017010009342                  2             9                        0   \n",
       "4  2017010009344                  1             9                        0   \n",
       "\n",
       "   Vehicle_Manoeuvre  Vehicle_Location-Restricted_Lane  Junction_Location  \\\n",
       "0                 18                                 0                  0   \n",
       "1                 18                                 0                  0   \n",
       "2                 18                                 0                  1   \n",
       "3                 18                                 0                  1   \n",
       "4                 18                                 0                  1   \n",
       "\n",
       "   Skidding_and_Overturning  Hit_Object_in_Carriageway  \\\n",
       "0                         0                          0   \n",
       "1                         1                          0   \n",
       "2                         0                          0   \n",
       "3                         1                          0   \n",
       "4                         0                          0   \n",
       "\n",
       "   Vehicle_Leaving_Carriageway  ...  Journey_Purpose_of_Driver  Sex_of_Driver  \\\n",
       "0                            0  ...                          6              1   \n",
       "1                            0  ...                          6              1   \n",
       "2                            0  ...                          6              1   \n",
       "3                            0  ...                          6              1   \n",
       "4                            0  ...                          6              3   \n",
       "\n",
       "   Age_of_Driver  Age_Band_of_Driver  Engine_Capacity_(CC)  Propulsion_Code  \\\n",
       "0             24                   5                  1997                2   \n",
       "1             19                   4                    -1               -1   \n",
       "2             33                   6                  1797                8   \n",
       "3             40                   7                  2204                2   \n",
       "4             -1                  -1                    -1               -1   \n",
       "\n",
       "   Age_of_Vehicle  Driver_IMD_Decile  Driver_Home_Area_Type  \\\n",
       "0               1                 -1                     -1   \n",
       "1              -1                 -1                     -1   \n",
       "2               8                  9                      1   \n",
       "3              12                  2                      1   \n",
       "4              -1                 -1                     -1   \n",
       "\n",
       "   Vehicle_IMD_Decile  \n",
       "0                  -1  \n",
       "1                  -1  \n",
       "2                   9  \n",
       "3                   2  \n",
       "4                  -1  \n",
       "\n",
       "[5 rows x 23 columns]"
      ]
     },
     "execution_count": 107,
     "metadata": {},
     "output_type": "execute_result"
    }
   ],
   "source": [
    "filename = 'Veh.csv'\n",
    "dataveh = pd.read_csv('Veh.csv')\n",
    "dataveh.head()"
   ]
  },
  {
   "cell_type": "code",
   "execution_count": 108,
   "metadata": {
    "collapsed": false
   },
   "outputs": [
    {
     "data": {
      "text/html": [
       "<div>\n",
       "<style scoped>\n",
       "    .dataframe tbody tr th:only-of-type {\n",
       "        vertical-align: middle;\n",
       "    }\n",
       "\n",
       "    .dataframe tbody tr th {\n",
       "        vertical-align: top;\n",
       "    }\n",
       "\n",
       "    .dataframe thead th {\n",
       "        text-align: right;\n",
       "    }\n",
       "</style>\n",
       "<table border=\"1\" class=\"dataframe\">\n",
       "  <thead>\n",
       "    <tr style=\"text-align: right;\">\n",
       "      <th></th>\n",
       "      <th>Accident_Index</th>\n",
       "      <th>Vehicle_Reference</th>\n",
       "      <th>Vehicle_Type</th>\n",
       "      <th>Towing_and_Articulation</th>\n",
       "      <th>Vehicle_Manoeuvre</th>\n",
       "      <th>Vehicle_Location-Restricted_Lane</th>\n",
       "      <th>Junction_Location</th>\n",
       "      <th>Skidding_and_Overturning</th>\n",
       "      <th>Hit_Object_in_Carriageway</th>\n",
       "      <th>Vehicle_Leaving_Carriageway</th>\n",
       "      <th>...</th>\n",
       "      <th>Journey_Purpose_of_Driver</th>\n",
       "      <th>Sex_of_Driver</th>\n",
       "      <th>Age_of_Driver</th>\n",
       "      <th>Age_Band_of_Driver</th>\n",
       "      <th>Engine_Capacity_(CC)</th>\n",
       "      <th>Propulsion_Code</th>\n",
       "      <th>Age_of_Vehicle</th>\n",
       "      <th>Driver_IMD_Decile</th>\n",
       "      <th>Driver_Home_Area_Type</th>\n",
       "      <th>Vehicle_IMD_Decile</th>\n",
       "    </tr>\n",
       "  </thead>\n",
       "  <tbody>\n",
       "    <tr>\n",
       "      <th>238921</th>\n",
       "      <td>2017984121717</td>\n",
       "      <td>1</td>\n",
       "      <td>19</td>\n",
       "      <td>0</td>\n",
       "      <td>11</td>\n",
       "      <td>0</td>\n",
       "      <td>1</td>\n",
       "      <td>0</td>\n",
       "      <td>0</td>\n",
       "      <td>0</td>\n",
       "      <td>...</td>\n",
       "      <td>1</td>\n",
       "      <td>2</td>\n",
       "      <td>38</td>\n",
       "      <td>7</td>\n",
       "      <td>-1</td>\n",
       "      <td>-1</td>\n",
       "      <td>-1</td>\n",
       "      <td>-1</td>\n",
       "      <td>-1</td>\n",
       "      <td>-1</td>\n",
       "    </tr>\n",
       "    <tr>\n",
       "      <th>238922</th>\n",
       "      <td>2017984121717</td>\n",
       "      <td>2</td>\n",
       "      <td>21</td>\n",
       "      <td>1</td>\n",
       "      <td>18</td>\n",
       "      <td>0</td>\n",
       "      <td>1</td>\n",
       "      <td>0</td>\n",
       "      <td>0</td>\n",
       "      <td>0</td>\n",
       "      <td>...</td>\n",
       "      <td>1</td>\n",
       "      <td>1</td>\n",
       "      <td>63</td>\n",
       "      <td>9</td>\n",
       "      <td>12777</td>\n",
       "      <td>2</td>\n",
       "      <td>-1</td>\n",
       "      <td>5</td>\n",
       "      <td>2</td>\n",
       "      <td>5</td>\n",
       "    </tr>\n",
       "    <tr>\n",
       "      <th>238923</th>\n",
       "      <td>2017984122317</td>\n",
       "      <td>1</td>\n",
       "      <td>4</td>\n",
       "      <td>0</td>\n",
       "      <td>17</td>\n",
       "      <td>0</td>\n",
       "      <td>0</td>\n",
       "      <td>1</td>\n",
       "      <td>0</td>\n",
       "      <td>0</td>\n",
       "      <td>...</td>\n",
       "      <td>6</td>\n",
       "      <td>1</td>\n",
       "      <td>25</td>\n",
       "      <td>5</td>\n",
       "      <td>498</td>\n",
       "      <td>1</td>\n",
       "      <td>16</td>\n",
       "      <td>-1</td>\n",
       "      <td>1</td>\n",
       "      <td>-1</td>\n",
       "    </tr>\n",
       "    <tr>\n",
       "      <th>238924</th>\n",
       "      <td>2017984122617</td>\n",
       "      <td>1</td>\n",
       "      <td>9</td>\n",
       "      <td>0</td>\n",
       "      <td>9</td>\n",
       "      <td>0</td>\n",
       "      <td>5</td>\n",
       "      <td>0</td>\n",
       "      <td>0</td>\n",
       "      <td>0</td>\n",
       "      <td>...</td>\n",
       "      <td>6</td>\n",
       "      <td>1</td>\n",
       "      <td>49</td>\n",
       "      <td>8</td>\n",
       "      <td>1997</td>\n",
       "      <td>2</td>\n",
       "      <td>-1</td>\n",
       "      <td>-1</td>\n",
       "      <td>3</td>\n",
       "      <td>-1</td>\n",
       "    </tr>\n",
       "    <tr>\n",
       "      <th>238925</th>\n",
       "      <td>2017984122617</td>\n",
       "      <td>2</td>\n",
       "      <td>9</td>\n",
       "      <td>0</td>\n",
       "      <td>18</td>\n",
       "      <td>0</td>\n",
       "      <td>8</td>\n",
       "      <td>0</td>\n",
       "      <td>0</td>\n",
       "      <td>0</td>\n",
       "      <td>...</td>\n",
       "      <td>1</td>\n",
       "      <td>1</td>\n",
       "      <td>50</td>\n",
       "      <td>8</td>\n",
       "      <td>1998</td>\n",
       "      <td>2</td>\n",
       "      <td>12</td>\n",
       "      <td>-1</td>\n",
       "      <td>2</td>\n",
       "      <td>-1</td>\n",
       "    </tr>\n",
       "  </tbody>\n",
       "</table>\n",
       "<p>5 rows × 23 columns</p>\n",
       "</div>"
      ],
      "text/plain": [
       "       Accident_Index  Vehicle_Reference  Vehicle_Type  \\\n",
       "238921  2017984121717                  1            19   \n",
       "238922  2017984121717                  2            21   \n",
       "238923  2017984122317                  1             4   \n",
       "238924  2017984122617                  1             9   \n",
       "238925  2017984122617                  2             9   \n",
       "\n",
       "        Towing_and_Articulation  Vehicle_Manoeuvre  \\\n",
       "238921                        0                 11   \n",
       "238922                        1                 18   \n",
       "238923                        0                 17   \n",
       "238924                        0                  9   \n",
       "238925                        0                 18   \n",
       "\n",
       "        Vehicle_Location-Restricted_Lane  Junction_Location  \\\n",
       "238921                                 0                  1   \n",
       "238922                                 0                  1   \n",
       "238923                                 0                  0   \n",
       "238924                                 0                  5   \n",
       "238925                                 0                  8   \n",
       "\n",
       "        Skidding_and_Overturning  Hit_Object_in_Carriageway  \\\n",
       "238921                         0                          0   \n",
       "238922                         0                          0   \n",
       "238923                         1                          0   \n",
       "238924                         0                          0   \n",
       "238925                         0                          0   \n",
       "\n",
       "        Vehicle_Leaving_Carriageway  ...  Journey_Purpose_of_Driver  \\\n",
       "238921                            0  ...                          1   \n",
       "238922                            0  ...                          1   \n",
       "238923                            0  ...                          6   \n",
       "238924                            0  ...                          6   \n",
       "238925                            0  ...                          1   \n",
       "\n",
       "        Sex_of_Driver  Age_of_Driver  Age_Band_of_Driver  \\\n",
       "238921              2             38                   7   \n",
       "238922              1             63                   9   \n",
       "238923              1             25                   5   \n",
       "238924              1             49                   8   \n",
       "238925              1             50                   8   \n",
       "\n",
       "        Engine_Capacity_(CC)  Propulsion_Code  Age_of_Vehicle  \\\n",
       "238921                    -1               -1              -1   \n",
       "238922                 12777                2              -1   \n",
       "238923                   498                1              16   \n",
       "238924                  1997                2              -1   \n",
       "238925                  1998                2              12   \n",
       "\n",
       "        Driver_IMD_Decile  Driver_Home_Area_Type  Vehicle_IMD_Decile  \n",
       "238921                 -1                     -1                  -1  \n",
       "238922                  5                      2                   5  \n",
       "238923                 -1                      1                  -1  \n",
       "238924                 -1                      3                  -1  \n",
       "238925                 -1                      2                  -1  \n",
       "\n",
       "[5 rows x 23 columns]"
      ]
     },
     "execution_count": 108,
     "metadata": {},
     "output_type": "execute_result"
    }
   ],
   "source": [
    "dataveh.tail()"
   ]
  },
  {
   "cell_type": "code",
   "execution_count": 109,
   "metadata": {
    "collapsed": false
   },
   "outputs": [
    {
     "data": {
      "text/html": [
       "<div>\n",
       "<style scoped>\n",
       "    .dataframe tbody tr th:only-of-type {\n",
       "        vertical-align: middle;\n",
       "    }\n",
       "\n",
       "    .dataframe tbody tr th {\n",
       "        vertical-align: top;\n",
       "    }\n",
       "\n",
       "    .dataframe thead th {\n",
       "        text-align: right;\n",
       "    }\n",
       "</style>\n",
       "<table border=\"1\" class=\"dataframe\">\n",
       "  <thead>\n",
       "    <tr style=\"text-align: right;\">\n",
       "      <th></th>\n",
       "      <th>Vehicle_Reference</th>\n",
       "      <th>Vehicle_Type</th>\n",
       "      <th>Towing_and_Articulation</th>\n",
       "      <th>Vehicle_Manoeuvre</th>\n",
       "      <th>Vehicle_Location-Restricted_Lane</th>\n",
       "      <th>Junction_Location</th>\n",
       "      <th>Skidding_and_Overturning</th>\n",
       "      <th>Hit_Object_in_Carriageway</th>\n",
       "      <th>Vehicle_Leaving_Carriageway</th>\n",
       "      <th>Hit_Object_off_Carriageway</th>\n",
       "      <th>...</th>\n",
       "      <th>Journey_Purpose_of_Driver</th>\n",
       "      <th>Sex_of_Driver</th>\n",
       "      <th>Age_of_Driver</th>\n",
       "      <th>Age_Band_of_Driver</th>\n",
       "      <th>Engine_Capacity_(CC)</th>\n",
       "      <th>Propulsion_Code</th>\n",
       "      <th>Age_of_Vehicle</th>\n",
       "      <th>Driver_IMD_Decile</th>\n",
       "      <th>Driver_Home_Area_Type</th>\n",
       "      <th>Vehicle_IMD_Decile</th>\n",
       "    </tr>\n",
       "  </thead>\n",
       "  <tbody>\n",
       "    <tr>\n",
       "      <th>count</th>\n",
       "      <td>238926.000000</td>\n",
       "      <td>238926.000000</td>\n",
       "      <td>238926.000000</td>\n",
       "      <td>238926.000000</td>\n",
       "      <td>238926.000000</td>\n",
       "      <td>238926.000000</td>\n",
       "      <td>238926.000000</td>\n",
       "      <td>238926.000000</td>\n",
       "      <td>238926.00000</td>\n",
       "      <td>238926.000000</td>\n",
       "      <td>...</td>\n",
       "      <td>238926.000000</td>\n",
       "      <td>238926.000000</td>\n",
       "      <td>238926.000000</td>\n",
       "      <td>238926.000000</td>\n",
       "      <td>238926.000000</td>\n",
       "      <td>238926.000000</td>\n",
       "      <td>238926.000000</td>\n",
       "      <td>238926.000000</td>\n",
       "      <td>238926.000000</td>\n",
       "      <td>238926.000000</td>\n",
       "    </tr>\n",
       "    <tr>\n",
       "      <th>mean</th>\n",
       "      <td>1.562015</td>\n",
       "      <td>9.906184</td>\n",
       "      <td>0.014745</td>\n",
       "      <td>12.425035</td>\n",
       "      <td>0.168027</td>\n",
       "      <td>2.255108</td>\n",
       "      <td>0.197726</td>\n",
       "      <td>0.312285</td>\n",
       "      <td>0.31126</td>\n",
       "      <td>0.411010</td>\n",
       "      <td>...</td>\n",
       "      <td>4.661192</td>\n",
       "      <td>1.438567</td>\n",
       "      <td>35.584549</td>\n",
       "      <td>5.978600</td>\n",
       "      <td>1453.520278</td>\n",
       "      <td>0.997811</td>\n",
       "      <td>5.759243</td>\n",
       "      <td>2.930292</td>\n",
       "      <td>0.638696</td>\n",
       "      <td>2.930292</td>\n",
       "    </tr>\n",
       "    <tr>\n",
       "      <th>std</th>\n",
       "      <td>0.782231</td>\n",
       "      <td>10.602439</td>\n",
       "      <td>0.357576</td>\n",
       "      <td>6.403464</td>\n",
       "      <td>1.163374</td>\n",
       "      <td>3.021220</td>\n",
       "      <td>0.828050</td>\n",
       "      <td>1.650940</td>\n",
       "      <td>1.31636</td>\n",
       "      <td>1.879433</td>\n",
       "      <td>...</td>\n",
       "      <td>1.999122</td>\n",
       "      <td>0.642116</td>\n",
       "      <td>20.306062</td>\n",
       "      <td>3.031604</td>\n",
       "      <td>1623.333175</td>\n",
       "      <td>1.395609</td>\n",
       "      <td>6.026728</td>\n",
       "      <td>3.694274</td>\n",
       "      <td>1.180518</td>\n",
       "      <td>3.694274</td>\n",
       "    </tr>\n",
       "    <tr>\n",
       "      <th>min</th>\n",
       "      <td>1.000000</td>\n",
       "      <td>-1.000000</td>\n",
       "      <td>-1.000000</td>\n",
       "      <td>-1.000000</td>\n",
       "      <td>-1.000000</td>\n",
       "      <td>-1.000000</td>\n",
       "      <td>-1.000000</td>\n",
       "      <td>-1.000000</td>\n",
       "      <td>-1.00000</td>\n",
       "      <td>-1.000000</td>\n",
       "      <td>...</td>\n",
       "      <td>-1.000000</td>\n",
       "      <td>-1.000000</td>\n",
       "      <td>-1.000000</td>\n",
       "      <td>-1.000000</td>\n",
       "      <td>-1.000000</td>\n",
       "      <td>-1.000000</td>\n",
       "      <td>-1.000000</td>\n",
       "      <td>-1.000000</td>\n",
       "      <td>-1.000000</td>\n",
       "      <td>-1.000000</td>\n",
       "    </tr>\n",
       "    <tr>\n",
       "      <th>25%</th>\n",
       "      <td>1.000000</td>\n",
       "      <td>9.000000</td>\n",
       "      <td>0.000000</td>\n",
       "      <td>5.000000</td>\n",
       "      <td>0.000000</td>\n",
       "      <td>0.000000</td>\n",
       "      <td>0.000000</td>\n",
       "      <td>0.000000</td>\n",
       "      <td>0.00000</td>\n",
       "      <td>0.000000</td>\n",
       "      <td>...</td>\n",
       "      <td>2.000000</td>\n",
       "      <td>1.000000</td>\n",
       "      <td>23.000000</td>\n",
       "      <td>5.000000</td>\n",
       "      <td>125.000000</td>\n",
       "      <td>1.000000</td>\n",
       "      <td>-1.000000</td>\n",
       "      <td>-1.000000</td>\n",
       "      <td>-1.000000</td>\n",
       "      <td>-1.000000</td>\n",
       "    </tr>\n",
       "    <tr>\n",
       "      <th>50%</th>\n",
       "      <td>1.000000</td>\n",
       "      <td>9.000000</td>\n",
       "      <td>0.000000</td>\n",
       "      <td>17.000000</td>\n",
       "      <td>0.000000</td>\n",
       "      <td>1.000000</td>\n",
       "      <td>0.000000</td>\n",
       "      <td>0.000000</td>\n",
       "      <td>0.00000</td>\n",
       "      <td>0.000000</td>\n",
       "      <td>...</td>\n",
       "      <td>6.000000</td>\n",
       "      <td>1.000000</td>\n",
       "      <td>35.000000</td>\n",
       "      <td>6.000000</td>\n",
       "      <td>1398.000000</td>\n",
       "      <td>1.000000</td>\n",
       "      <td>5.000000</td>\n",
       "      <td>2.000000</td>\n",
       "      <td>1.000000</td>\n",
       "      <td>2.000000</td>\n",
       "    </tr>\n",
       "    <tr>\n",
       "      <th>75%</th>\n",
       "      <td>2.000000</td>\n",
       "      <td>9.000000</td>\n",
       "      <td>0.000000</td>\n",
       "      <td>18.000000</td>\n",
       "      <td>0.000000</td>\n",
       "      <td>4.000000</td>\n",
       "      <td>0.000000</td>\n",
       "      <td>0.000000</td>\n",
       "      <td>0.00000</td>\n",
       "      <td>0.000000</td>\n",
       "      <td>...</td>\n",
       "      <td>6.000000</td>\n",
       "      <td>2.000000</td>\n",
       "      <td>50.000000</td>\n",
       "      <td>8.000000</td>\n",
       "      <td>1956.000000</td>\n",
       "      <td>2.000000</td>\n",
       "      <td>10.000000</td>\n",
       "      <td>6.000000</td>\n",
       "      <td>1.000000</td>\n",
       "      <td>6.000000</td>\n",
       "    </tr>\n",
       "    <tr>\n",
       "      <th>max</th>\n",
       "      <td>101.000000</td>\n",
       "      <td>98.000000</td>\n",
       "      <td>5.000000</td>\n",
       "      <td>18.000000</td>\n",
       "      <td>9.000000</td>\n",
       "      <td>8.000000</td>\n",
       "      <td>5.000000</td>\n",
       "      <td>12.000000</td>\n",
       "      <td>8.00000</td>\n",
       "      <td>11.000000</td>\n",
       "      <td>...</td>\n",
       "      <td>6.000000</td>\n",
       "      <td>3.000000</td>\n",
       "      <td>100.000000</td>\n",
       "      <td>11.000000</td>\n",
       "      <td>16400.000000</td>\n",
       "      <td>12.000000</td>\n",
       "      <td>85.000000</td>\n",
       "      <td>10.000000</td>\n",
       "      <td>3.000000</td>\n",
       "      <td>10.000000</td>\n",
       "    </tr>\n",
       "  </tbody>\n",
       "</table>\n",
       "<p>8 rows × 22 columns</p>\n",
       "</div>"
      ],
      "text/plain": [
       "       Vehicle_Reference   Vehicle_Type  Towing_and_Articulation  \\\n",
       "count      238926.000000  238926.000000            238926.000000   \n",
       "mean            1.562015       9.906184                 0.014745   \n",
       "std             0.782231      10.602439                 0.357576   \n",
       "min             1.000000      -1.000000                -1.000000   \n",
       "25%             1.000000       9.000000                 0.000000   \n",
       "50%             1.000000       9.000000                 0.000000   \n",
       "75%             2.000000       9.000000                 0.000000   \n",
       "max           101.000000      98.000000                 5.000000   \n",
       "\n",
       "       Vehicle_Manoeuvre  Vehicle_Location-Restricted_Lane  Junction_Location  \\\n",
       "count      238926.000000                     238926.000000      238926.000000   \n",
       "mean           12.425035                          0.168027           2.255108   \n",
       "std             6.403464                          1.163374           3.021220   \n",
       "min            -1.000000                         -1.000000          -1.000000   \n",
       "25%             5.000000                          0.000000           0.000000   \n",
       "50%            17.000000                          0.000000           1.000000   \n",
       "75%            18.000000                          0.000000           4.000000   \n",
       "max            18.000000                          9.000000           8.000000   \n",
       "\n",
       "       Skidding_and_Overturning  Hit_Object_in_Carriageway  \\\n",
       "count             238926.000000              238926.000000   \n",
       "mean                   0.197726                   0.312285   \n",
       "std                    0.828050                   1.650940   \n",
       "min                   -1.000000                  -1.000000   \n",
       "25%                    0.000000                   0.000000   \n",
       "50%                    0.000000                   0.000000   \n",
       "75%                    0.000000                   0.000000   \n",
       "max                    5.000000                  12.000000   \n",
       "\n",
       "       Vehicle_Leaving_Carriageway  Hit_Object_off_Carriageway  ...  \\\n",
       "count                 238926.00000               238926.000000  ...   \n",
       "mean                       0.31126                    0.411010  ...   \n",
       "std                        1.31636                    1.879433  ...   \n",
       "min                       -1.00000                   -1.000000  ...   \n",
       "25%                        0.00000                    0.000000  ...   \n",
       "50%                        0.00000                    0.000000  ...   \n",
       "75%                        0.00000                    0.000000  ...   \n",
       "max                        8.00000                   11.000000  ...   \n",
       "\n",
       "       Journey_Purpose_of_Driver  Sex_of_Driver  Age_of_Driver  \\\n",
       "count              238926.000000  238926.000000  238926.000000   \n",
       "mean                    4.661192       1.438567      35.584549   \n",
       "std                     1.999122       0.642116      20.306062   \n",
       "min                    -1.000000      -1.000000      -1.000000   \n",
       "25%                     2.000000       1.000000      23.000000   \n",
       "50%                     6.000000       1.000000      35.000000   \n",
       "75%                     6.000000       2.000000      50.000000   \n",
       "max                     6.000000       3.000000     100.000000   \n",
       "\n",
       "       Age_Band_of_Driver  Engine_Capacity_(CC)  Propulsion_Code  \\\n",
       "count       238926.000000         238926.000000    238926.000000   \n",
       "mean             5.978600           1453.520278         0.997811   \n",
       "std              3.031604           1623.333175         1.395609   \n",
       "min             -1.000000             -1.000000        -1.000000   \n",
       "25%              5.000000            125.000000         1.000000   \n",
       "50%              6.000000           1398.000000         1.000000   \n",
       "75%              8.000000           1956.000000         2.000000   \n",
       "max             11.000000          16400.000000        12.000000   \n",
       "\n",
       "       Age_of_Vehicle  Driver_IMD_Decile  Driver_Home_Area_Type  \\\n",
       "count   238926.000000      238926.000000          238926.000000   \n",
       "mean         5.759243           2.930292               0.638696   \n",
       "std          6.026728           3.694274               1.180518   \n",
       "min         -1.000000          -1.000000              -1.000000   \n",
       "25%         -1.000000          -1.000000              -1.000000   \n",
       "50%          5.000000           2.000000               1.000000   \n",
       "75%         10.000000           6.000000               1.000000   \n",
       "max         85.000000          10.000000               3.000000   \n",
       "\n",
       "       Vehicle_IMD_Decile  \n",
       "count       238926.000000  \n",
       "mean             2.930292  \n",
       "std              3.694274  \n",
       "min             -1.000000  \n",
       "25%             -1.000000  \n",
       "50%              2.000000  \n",
       "75%              6.000000  \n",
       "max             10.000000  \n",
       "\n",
       "[8 rows x 22 columns]"
      ]
     },
     "execution_count": 109,
     "metadata": {},
     "output_type": "execute_result"
    }
   ],
   "source": [
    "dataveh.describe()"
   ]
  },
  {
   "cell_type": "markdown",
   "metadata": {},
   "source": [
    "check the data type for vehicle dataset."
   ]
  },
  {
   "cell_type": "code",
   "execution_count": 110,
   "metadata": {
    "collapsed": false
   },
   "outputs": [
    {
     "data": {
      "text/plain": [
       "Accident_Index                      object\n",
       "Vehicle_Reference                    int64\n",
       "Vehicle_Type                         int64\n",
       "Towing_and_Articulation              int64\n",
       "Vehicle_Manoeuvre                    int64\n",
       "Vehicle_Location-Restricted_Lane     int64\n",
       "Junction_Location                    int64\n",
       "Skidding_and_Overturning             int64\n",
       "Hit_Object_in_Carriageway            int64\n",
       "Vehicle_Leaving_Carriageway          int64\n",
       "Hit_Object_off_Carriageway           int64\n",
       "1st_Point_of_Impact                  int64\n",
       "Was_Vehicle_Left_Hand_Drive?         int64\n",
       "Journey_Purpose_of_Driver            int64\n",
       "Sex_of_Driver                        int64\n",
       "Age_of_Driver                        int64\n",
       "Age_Band_of_Driver                   int64\n",
       "Engine_Capacity_(CC)                 int64\n",
       "Propulsion_Code                      int64\n",
       "Age_of_Vehicle                       int64\n",
       "Driver_IMD_Decile                    int64\n",
       "Driver_Home_Area_Type                int64\n",
       "Vehicle_IMD_Decile                   int64\n",
       "dtype: object"
      ]
     },
     "execution_count": 110,
     "metadata": {},
     "output_type": "execute_result"
    }
   ],
   "source": [
    "dataveh.dtypes"
   ]
  },
  {
   "cell_type": "markdown",
   "metadata": {},
   "source": [
    "### check the missing value or null value in vehicle table."
   ]
  },
  {
   "cell_type": "code",
   "execution_count": 111,
   "metadata": {
    "collapsed": false
   },
   "outputs": [
    {
     "data": {
      "text/plain": [
       "Accident_Index                      0\n",
       "Vehicle_Reference                   0\n",
       "Vehicle_Type                        0\n",
       "Towing_and_Articulation             0\n",
       "Vehicle_Manoeuvre                   0\n",
       "Vehicle_Location-Restricted_Lane    0\n",
       "Junction_Location                   0\n",
       "Skidding_and_Overturning            0\n",
       "Hit_Object_in_Carriageway           0\n",
       "Vehicle_Leaving_Carriageway         0\n",
       "Hit_Object_off_Carriageway          0\n",
       "1st_Point_of_Impact                 0\n",
       "Was_Vehicle_Left_Hand_Drive?        0\n",
       "Journey_Purpose_of_Driver           0\n",
       "Sex_of_Driver                       0\n",
       "Age_of_Driver                       0\n",
       "Age_Band_of_Driver                  0\n",
       "Engine_Capacity_(CC)                0\n",
       "Propulsion_Code                     0\n",
       "Age_of_Vehicle                      0\n",
       "Driver_IMD_Decile                   0\n",
       "Driver_Home_Area_Type               0\n",
       "Vehicle_IMD_Decile                  0\n",
       "dtype: int64"
      ]
     },
     "execution_count": 111,
     "metadata": {},
     "output_type": "execute_result"
    }
   ],
   "source": [
    "dataveh.apply(lambda x: sum(x.isnull()),axis=0) "
   ]
  },
  {
   "cell_type": "code",
   "execution_count": 112,
   "metadata": {
    "collapsed": false
   },
   "outputs": [
    {
     "data": {
      "text/plain": [
       "Accident_Index                      False\n",
       "Vehicle_Reference                   False\n",
       "Vehicle_Type                        False\n",
       "Towing_and_Articulation             False\n",
       "Vehicle_Manoeuvre                   False\n",
       "Vehicle_Location-Restricted_Lane    False\n",
       "Junction_Location                   False\n",
       "Skidding_and_Overturning            False\n",
       "Hit_Object_in_Carriageway           False\n",
       "Vehicle_Leaving_Carriageway         False\n",
       "Hit_Object_off_Carriageway          False\n",
       "1st_Point_of_Impact                 False\n",
       "Was_Vehicle_Left_Hand_Drive?        False\n",
       "Journey_Purpose_of_Driver           False\n",
       "Sex_of_Driver                       False\n",
       "Age_of_Driver                       False\n",
       "Age_Band_of_Driver                  False\n",
       "Engine_Capacity_(CC)                False\n",
       "Propulsion_Code                     False\n",
       "Age_of_Vehicle                      False\n",
       "Driver_IMD_Decile                   False\n",
       "Driver_Home_Area_Type               False\n",
       "Vehicle_IMD_Decile                  False\n",
       "dtype: bool"
      ]
     },
     "execution_count": 112,
     "metadata": {},
     "output_type": "execute_result"
    }
   ],
   "source": [
    "pd.isnull(dataveh).any()"
   ]
  },
  {
   "cell_type": "markdown",
   "metadata": {},
   "source": [
    "### Here is an example of each of these methods. First, the default join='outer' behavior:"
   ]
  },
  {
   "cell_type": "code",
   "execution_count": 113,
   "metadata": {
    "collapsed": false
   },
   "outputs": [
    {
     "data": {
      "text/html": [
       "<div>\n",
       "<style scoped>\n",
       "    .dataframe tbody tr th:only-of-type {\n",
       "        vertical-align: middle;\n",
       "    }\n",
       "\n",
       "    .dataframe tbody tr th {\n",
       "        vertical-align: top;\n",
       "    }\n",
       "\n",
       "    .dataframe thead th {\n",
       "        text-align: right;\n",
       "    }\n",
       "</style>\n",
       "<table border=\"1\" class=\"dataframe\">\n",
       "  <thead>\n",
       "    <tr style=\"text-align: right;\">\n",
       "      <th></th>\n",
       "      <th>Accident_Index</th>\n",
       "      <th>Location_Easting_OSGR</th>\n",
       "      <th>Location_Northing_OSGR</th>\n",
       "      <th>Longitude</th>\n",
       "      <th>Latitude</th>\n",
       "      <th>Police_Force</th>\n",
       "      <th>Accident_Severity</th>\n",
       "      <th>Number_of_Vehicles</th>\n",
       "      <th>Number_of_Casualties</th>\n",
       "      <th>Date</th>\n",
       "      <th>...</th>\n",
       "      <th>Journey_Purpose_of_Driver</th>\n",
       "      <th>Sex_of_Driver</th>\n",
       "      <th>Age_of_Driver</th>\n",
       "      <th>Age_Band_of_Driver</th>\n",
       "      <th>Engine_Capacity_(CC)</th>\n",
       "      <th>Propulsion_Code</th>\n",
       "      <th>Age_of_Vehicle</th>\n",
       "      <th>Driver_IMD_Decile</th>\n",
       "      <th>Driver_Home_Area_Type</th>\n",
       "      <th>Vehicle_IMD_Decile</th>\n",
       "    </tr>\n",
       "  </thead>\n",
       "  <tbody>\n",
       "    <tr>\n",
       "      <th>0</th>\n",
       "      <td>2017010001708</td>\n",
       "      <td>532920.0</td>\n",
       "      <td>196330.0</td>\n",
       "      <td>-0.080107</td>\n",
       "      <td>51.650061</td>\n",
       "      <td>1.0</td>\n",
       "      <td>1.0</td>\n",
       "      <td>2.0</td>\n",
       "      <td>3.0</td>\n",
       "      <td>05/08/2017</td>\n",
       "      <td>...</td>\n",
       "      <td>6</td>\n",
       "      <td>1</td>\n",
       "      <td>24</td>\n",
       "      <td>5</td>\n",
       "      <td>1997</td>\n",
       "      <td>2</td>\n",
       "      <td>1</td>\n",
       "      <td>-1</td>\n",
       "      <td>-1</td>\n",
       "      <td>-1</td>\n",
       "    </tr>\n",
       "    <tr>\n",
       "      <th>1</th>\n",
       "      <td>2017010009342</td>\n",
       "      <td>526790.0</td>\n",
       "      <td>181970.0</td>\n",
       "      <td>-0.173845</td>\n",
       "      <td>51.522425</td>\n",
       "      <td>1.0</td>\n",
       "      <td>3.0</td>\n",
       "      <td>2.0</td>\n",
       "      <td>1.0</td>\n",
       "      <td>01/01/2017</td>\n",
       "      <td>...</td>\n",
       "      <td>6</td>\n",
       "      <td>1</td>\n",
       "      <td>19</td>\n",
       "      <td>4</td>\n",
       "      <td>-1</td>\n",
       "      <td>-1</td>\n",
       "      <td>-1</td>\n",
       "      <td>-1</td>\n",
       "      <td>-1</td>\n",
       "      <td>-1</td>\n",
       "    </tr>\n",
       "    <tr>\n",
       "      <th>2</th>\n",
       "      <td>2017010009344</td>\n",
       "      <td>535200.0</td>\n",
       "      <td>181260.0</td>\n",
       "      <td>-0.052969</td>\n",
       "      <td>51.514096</td>\n",
       "      <td>1.0</td>\n",
       "      <td>3.0</td>\n",
       "      <td>3.0</td>\n",
       "      <td>1.0</td>\n",
       "      <td>01/01/2017</td>\n",
       "      <td>...</td>\n",
       "      <td>6</td>\n",
       "      <td>1</td>\n",
       "      <td>33</td>\n",
       "      <td>6</td>\n",
       "      <td>1797</td>\n",
       "      <td>8</td>\n",
       "      <td>8</td>\n",
       "      <td>9</td>\n",
       "      <td>1</td>\n",
       "      <td>9</td>\n",
       "    </tr>\n",
       "    <tr>\n",
       "      <th>3</th>\n",
       "      <td>2017010009348</td>\n",
       "      <td>534340.0</td>\n",
       "      <td>193560.0</td>\n",
       "      <td>-0.060658</td>\n",
       "      <td>51.624832</td>\n",
       "      <td>1.0</td>\n",
       "      <td>3.0</td>\n",
       "      <td>2.0</td>\n",
       "      <td>1.0</td>\n",
       "      <td>01/01/2017</td>\n",
       "      <td>...</td>\n",
       "      <td>6</td>\n",
       "      <td>1</td>\n",
       "      <td>40</td>\n",
       "      <td>7</td>\n",
       "      <td>2204</td>\n",
       "      <td>2</td>\n",
       "      <td>12</td>\n",
       "      <td>2</td>\n",
       "      <td>1</td>\n",
       "      <td>2</td>\n",
       "    </tr>\n",
       "    <tr>\n",
       "      <th>4</th>\n",
       "      <td>2017010009350</td>\n",
       "      <td>533680.0</td>\n",
       "      <td>187820.0</td>\n",
       "      <td>-0.072372</td>\n",
       "      <td>51.573408</td>\n",
       "      <td>1.0</td>\n",
       "      <td>2.0</td>\n",
       "      <td>1.0</td>\n",
       "      <td>1.0</td>\n",
       "      <td>01/01/2017</td>\n",
       "      <td>...</td>\n",
       "      <td>6</td>\n",
       "      <td>3</td>\n",
       "      <td>-1</td>\n",
       "      <td>-1</td>\n",
       "      <td>-1</td>\n",
       "      <td>-1</td>\n",
       "      <td>-1</td>\n",
       "      <td>-1</td>\n",
       "      <td>-1</td>\n",
       "      <td>-1</td>\n",
       "    </tr>\n",
       "  </tbody>\n",
       "</table>\n",
       "<p>5 rows × 55 columns</p>\n",
       "</div>"
      ],
      "text/plain": [
       "  Accident_Index  Location_Easting_OSGR  Location_Northing_OSGR  Longitude  \\\n",
       "0  2017010001708               532920.0                196330.0  -0.080107   \n",
       "1  2017010009342               526790.0                181970.0  -0.173845   \n",
       "2  2017010009344               535200.0                181260.0  -0.052969   \n",
       "3  2017010009348               534340.0                193560.0  -0.060658   \n",
       "4  2017010009350               533680.0                187820.0  -0.072372   \n",
       "\n",
       "    Latitude  Police_Force  Accident_Severity  Number_of_Vehicles  \\\n",
       "0  51.650061           1.0                1.0                 2.0   \n",
       "1  51.522425           1.0                3.0                 2.0   \n",
       "2  51.514096           1.0                3.0                 3.0   \n",
       "3  51.624832           1.0                3.0                 2.0   \n",
       "4  51.573408           1.0                2.0                 1.0   \n",
       "\n",
       "   Number_of_Casualties        Date  ...  Journey_Purpose_of_Driver  \\\n",
       "0                   3.0  05/08/2017  ...                          6   \n",
       "1                   1.0  01/01/2017  ...                          6   \n",
       "2                   1.0  01/01/2017  ...                          6   \n",
       "3                   1.0  01/01/2017  ...                          6   \n",
       "4                   1.0  01/01/2017  ...                          6   \n",
       "\n",
       "  Sex_of_Driver  Age_of_Driver Age_Band_of_Driver  Engine_Capacity_(CC)  \\\n",
       "0             1             24                  5                  1997   \n",
       "1             1             19                  4                    -1   \n",
       "2             1             33                  6                  1797   \n",
       "3             1             40                  7                  2204   \n",
       "4             3             -1                 -1                    -1   \n",
       "\n",
       "   Propulsion_Code  Age_of_Vehicle  Driver_IMD_Decile  Driver_Home_Area_Type  \\\n",
       "0                2               1                 -1                     -1   \n",
       "1               -1              -1                 -1                     -1   \n",
       "2                8               8                  9                      1   \n",
       "3                2              12                  2                      1   \n",
       "4               -1              -1                 -1                     -1   \n",
       "\n",
       "   Vehicle_IMD_Decile  \n",
       "0                  -1  \n",
       "1                  -1  \n",
       "2                   9  \n",
       "3                   2  \n",
       "4                  -1  \n",
       "\n",
       "[5 rows x 55 columns]"
      ]
     },
     "execution_count": 113,
     "metadata": {},
     "output_type": "execute_result"
    }
   ],
   "source": [
    "Jacc_veh = pd.concat([dataAcc, dataveh], axis=1, sort=False)\n",
    "Jacc_veh.head()"
   ]
  },
  {
   "cell_type": "markdown",
   "metadata": {
    "collapsed": true
   },
   "source": [
    "####conclusion\n",
    "The Department is aware that a small number (less than 80) of non-fatal (mostly slight) accidents from Transport for London were not included in the 2017 data. This, along with any changes following validation, is why totals might not completely align with publications from TfL.\n",
    "There has been a marked increase in casualties and accidents reported by Greater Manchester Police (GMP) in 2017 compared with the previous year. Transport for Greater Manchester (TfGM) have stated that improvements to the recording of accident reports by GMP have been made at the end of 2016 and early 2017 for incidents (those not attended by police officers). The improvements were corrective action by GMP implementing a more rigid process for the recording of slight injury collisions submitted by the public by redesigning forms for the public that mirror the required STATS19 data. TfGM have stated these changes are partly responsible for a sharp upwards trend by month in reported slight injury road accidents in Greater Manchester. Therefore, it must be noted that improvements and changes in reporting processes by GMP will mean that comparisons must be made with caution."
   ]
  }
 ],
 "metadata": {
  "kernelspec": {
   "display_name": "Python 2",
   "language": "python",
   "name": "python2"
  },
  "language_info": {
   "codemirror_mode": {
    "name": "ipython",
    "version": 2
   },
   "file_extension": ".py",
   "mimetype": "text/x-python",
   "name": "python",
   "nbconvert_exporter": "python",
   "pygments_lexer": "ipython2",
   "version": "2.7.8"
  }
 },
 "nbformat": 4,
 "nbformat_minor": 0
}
